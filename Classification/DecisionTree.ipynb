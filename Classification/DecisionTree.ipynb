{
  "nbformat": 4,
  "nbformat_minor": 0,
  "metadata": {
    "colab": {
      "provenance": []
    },
    "kernelspec": {
      "name": "python3",
      "display_name": "Python 3"
    },
    "language_info": {
      "name": "python"
    }
  },
  "cells": [
    {
      "cell_type": "code",
      "execution_count": null,
      "metadata": {
        "id": "ccerxJOBTHR-"
      },
      "outputs": [],
      "source": [
        "import pandas as pd\n",
        "import numpy as np\n",
        "import tensorflow as tf\n",
        "import seaborn as sns\n",
        "from matplotlib import pyplot as plt\n",
        "from sklearn.tree import DecisionTreeClassifier\n",
        "from sklearn.model_selection import train_test_split, GridSearchCV\n",
        "from sklearn.decomposition import PCA\n",
        "from sklearn.metrics import accuracy_score, confusion_matrix, f1_score, classification_report\n",
        "from sklearn.metrics import roc_curve, roc_auc_score\n",
        "from sklearn.pipeline import Pipeline\n",
        "import joblib"
      ]
    },
    {
      "cell_type": "code",
      "source": [
        "diamonds = pd.read_csv('diamonds_preprocessed.csv')\n",
        "diamondsOG = pd.read_csv('diamonds_original.csv')"
      ],
      "metadata": {
        "id": "uNjQfv-IT2lI"
      },
      "execution_count": null,
      "outputs": []
    },
    {
      "cell_type": "code",
      "source": [
        "diamonds"
      ],
      "metadata": {
        "id": "Qx5zeUWvU3td",
        "colab": {
          "base_uri": "https://localhost:8080/",
          "height": 424
        },
        "outputId": "e82d1f94-2bba-4340-c1b4-fb7b63abd8fa"
      },
      "execution_count": null,
      "outputs": [
        {
          "output_type": "execute_result",
          "data": {
            "text/plain": [
              "       carat  clarity  color  cut     depth  table         x         y  \\\n",
              "0       1.26        2      4    2  0.364706   0.72  0.661224  0.680328   \n",
              "1       0.80        3      4    4  0.541176   0.24  0.455102  0.473361   \n",
              "2       0.56        4      2    4  0.494118   0.24  0.316327  0.336066   \n",
              "3       1.51        3      6    1  0.764706   0.56  0.716326  0.735656   \n",
              "4       0.33        6      5    4  0.552941   0.24  0.142857  0.157787   \n",
              "...      ...      ...    ...  ...       ...    ...       ...       ...   \n",
              "52325   1.02        2      4    2  0.635294   0.64  0.540816  0.559426   \n",
              "52326   0.93        2      4    3  0.505882   0.64  0.518367  0.522541   \n",
              "52327   0.30        4      5    4  0.576471   0.24  0.116327  0.131148   \n",
              "52328   0.36        3      2    4  0.470588   0.32  0.177551  0.182377   \n",
              "52329   0.70        1      2    2  0.376471   0.56  0.408163  0.428279   \n",
              "\n",
              "              z          class    volume  \n",
              "0      0.716180  (5000, 10000]  0.512314  \n",
              "1      0.578249      [0, 5000]  0.295469  \n",
              "2      0.461538      [0, 5000]  0.176404  \n",
              "3      0.824934  (5000, 10000]  0.623309  \n",
              "4      0.326260      [0, 5000]  0.066582  \n",
              "...         ...            ...       ...  \n",
              "52325  0.660477      [0, 5000]  0.389186  \n",
              "52326  0.618037      [0, 5000]  0.349234  \n",
              "52327  0.307692      [0, 5000]  0.053560  \n",
              "52328  0.342175      [0, 5000]  0.080874  \n",
              "52329  0.519894      [0, 5000]  0.245428  \n",
              "\n",
              "[52330 rows x 11 columns]"
            ],
            "text/html": [
              "\n",
              "  <div id=\"df-bdf6aaef-a2b9-459b-baae-9f356f0db264\">\n",
              "    <div class=\"colab-df-container\">\n",
              "      <div>\n",
              "<style scoped>\n",
              "    .dataframe tbody tr th:only-of-type {\n",
              "        vertical-align: middle;\n",
              "    }\n",
              "\n",
              "    .dataframe tbody tr th {\n",
              "        vertical-align: top;\n",
              "    }\n",
              "\n",
              "    .dataframe thead th {\n",
              "        text-align: right;\n",
              "    }\n",
              "</style>\n",
              "<table border=\"1\" class=\"dataframe\">\n",
              "  <thead>\n",
              "    <tr style=\"text-align: right;\">\n",
              "      <th></th>\n",
              "      <th>carat</th>\n",
              "      <th>clarity</th>\n",
              "      <th>color</th>\n",
              "      <th>cut</th>\n",
              "      <th>depth</th>\n",
              "      <th>table</th>\n",
              "      <th>x</th>\n",
              "      <th>y</th>\n",
              "      <th>z</th>\n",
              "      <th>class</th>\n",
              "      <th>volume</th>\n",
              "    </tr>\n",
              "  </thead>\n",
              "  <tbody>\n",
              "    <tr>\n",
              "      <th>0</th>\n",
              "      <td>1.26</td>\n",
              "      <td>2</td>\n",
              "      <td>4</td>\n",
              "      <td>2</td>\n",
              "      <td>0.364706</td>\n",
              "      <td>0.72</td>\n",
              "      <td>0.661224</td>\n",
              "      <td>0.680328</td>\n",
              "      <td>0.716180</td>\n",
              "      <td>(5000, 10000]</td>\n",
              "      <td>0.512314</td>\n",
              "    </tr>\n",
              "    <tr>\n",
              "      <th>1</th>\n",
              "      <td>0.80</td>\n",
              "      <td>3</td>\n",
              "      <td>4</td>\n",
              "      <td>4</td>\n",
              "      <td>0.541176</td>\n",
              "      <td>0.24</td>\n",
              "      <td>0.455102</td>\n",
              "      <td>0.473361</td>\n",
              "      <td>0.578249</td>\n",
              "      <td>[0, 5000]</td>\n",
              "      <td>0.295469</td>\n",
              "    </tr>\n",
              "    <tr>\n",
              "      <th>2</th>\n",
              "      <td>0.56</td>\n",
              "      <td>4</td>\n",
              "      <td>2</td>\n",
              "      <td>4</td>\n",
              "      <td>0.494118</td>\n",
              "      <td>0.24</td>\n",
              "      <td>0.316327</td>\n",
              "      <td>0.336066</td>\n",
              "      <td>0.461538</td>\n",
              "      <td>[0, 5000]</td>\n",
              "      <td>0.176404</td>\n",
              "    </tr>\n",
              "    <tr>\n",
              "      <th>3</th>\n",
              "      <td>1.51</td>\n",
              "      <td>3</td>\n",
              "      <td>6</td>\n",
              "      <td>1</td>\n",
              "      <td>0.764706</td>\n",
              "      <td>0.56</td>\n",
              "      <td>0.716326</td>\n",
              "      <td>0.735656</td>\n",
              "      <td>0.824934</td>\n",
              "      <td>(5000, 10000]</td>\n",
              "      <td>0.623309</td>\n",
              "    </tr>\n",
              "    <tr>\n",
              "      <th>4</th>\n",
              "      <td>0.33</td>\n",
              "      <td>6</td>\n",
              "      <td>5</td>\n",
              "      <td>4</td>\n",
              "      <td>0.552941</td>\n",
              "      <td>0.24</td>\n",
              "      <td>0.142857</td>\n",
              "      <td>0.157787</td>\n",
              "      <td>0.326260</td>\n",
              "      <td>[0, 5000]</td>\n",
              "      <td>0.066582</td>\n",
              "    </tr>\n",
              "    <tr>\n",
              "      <th>...</th>\n",
              "      <td>...</td>\n",
              "      <td>...</td>\n",
              "      <td>...</td>\n",
              "      <td>...</td>\n",
              "      <td>...</td>\n",
              "      <td>...</td>\n",
              "      <td>...</td>\n",
              "      <td>...</td>\n",
              "      <td>...</td>\n",
              "      <td>...</td>\n",
              "      <td>...</td>\n",
              "    </tr>\n",
              "    <tr>\n",
              "      <th>52325</th>\n",
              "      <td>1.02</td>\n",
              "      <td>2</td>\n",
              "      <td>4</td>\n",
              "      <td>2</td>\n",
              "      <td>0.635294</td>\n",
              "      <td>0.64</td>\n",
              "      <td>0.540816</td>\n",
              "      <td>0.559426</td>\n",
              "      <td>0.660477</td>\n",
              "      <td>[0, 5000]</td>\n",
              "      <td>0.389186</td>\n",
              "    </tr>\n",
              "    <tr>\n",
              "      <th>52326</th>\n",
              "      <td>0.93</td>\n",
              "      <td>2</td>\n",
              "      <td>4</td>\n",
              "      <td>3</td>\n",
              "      <td>0.505882</td>\n",
              "      <td>0.64</td>\n",
              "      <td>0.518367</td>\n",
              "      <td>0.522541</td>\n",
              "      <td>0.618037</td>\n",
              "      <td>[0, 5000]</td>\n",
              "      <td>0.349234</td>\n",
              "    </tr>\n",
              "    <tr>\n",
              "      <th>52327</th>\n",
              "      <td>0.30</td>\n",
              "      <td>4</td>\n",
              "      <td>5</td>\n",
              "      <td>4</td>\n",
              "      <td>0.576471</td>\n",
              "      <td>0.24</td>\n",
              "      <td>0.116327</td>\n",
              "      <td>0.131148</td>\n",
              "      <td>0.307692</td>\n",
              "      <td>[0, 5000]</td>\n",
              "      <td>0.053560</td>\n",
              "    </tr>\n",
              "    <tr>\n",
              "      <th>52328</th>\n",
              "      <td>0.36</td>\n",
              "      <td>3</td>\n",
              "      <td>2</td>\n",
              "      <td>4</td>\n",
              "      <td>0.470588</td>\n",
              "      <td>0.32</td>\n",
              "      <td>0.177551</td>\n",
              "      <td>0.182377</td>\n",
              "      <td>0.342175</td>\n",
              "      <td>[0, 5000]</td>\n",
              "      <td>0.080874</td>\n",
              "    </tr>\n",
              "    <tr>\n",
              "      <th>52329</th>\n",
              "      <td>0.70</td>\n",
              "      <td>1</td>\n",
              "      <td>2</td>\n",
              "      <td>2</td>\n",
              "      <td>0.376471</td>\n",
              "      <td>0.56</td>\n",
              "      <td>0.408163</td>\n",
              "      <td>0.428279</td>\n",
              "      <td>0.519894</td>\n",
              "      <td>[0, 5000]</td>\n",
              "      <td>0.245428</td>\n",
              "    </tr>\n",
              "  </tbody>\n",
              "</table>\n",
              "<p>52330 rows × 11 columns</p>\n",
              "</div>\n",
              "      <button class=\"colab-df-convert\" onclick=\"convertToInteractive('df-bdf6aaef-a2b9-459b-baae-9f356f0db264')\"\n",
              "              title=\"Convert this dataframe to an interactive table.\"\n",
              "              style=\"display:none;\">\n",
              "        \n",
              "  <svg xmlns=\"http://www.w3.org/2000/svg\" height=\"24px\"viewBox=\"0 0 24 24\"\n",
              "       width=\"24px\">\n",
              "    <path d=\"M0 0h24v24H0V0z\" fill=\"none\"/>\n",
              "    <path d=\"M18.56 5.44l.94 2.06.94-2.06 2.06-.94-2.06-.94-.94-2.06-.94 2.06-2.06.94zm-11 1L8.5 8.5l.94-2.06 2.06-.94-2.06-.94L8.5 2.5l-.94 2.06-2.06.94zm10 10l.94 2.06.94-2.06 2.06-.94-2.06-.94-.94-2.06-.94 2.06-2.06.94z\"/><path d=\"M17.41 7.96l-1.37-1.37c-.4-.4-.92-.59-1.43-.59-.52 0-1.04.2-1.43.59L10.3 9.45l-7.72 7.72c-.78.78-.78 2.05 0 2.83L4 21.41c.39.39.9.59 1.41.59.51 0 1.02-.2 1.41-.59l7.78-7.78 2.81-2.81c.8-.78.8-2.07 0-2.86zM5.41 20L4 18.59l7.72-7.72 1.47 1.35L5.41 20z\"/>\n",
              "  </svg>\n",
              "      </button>\n",
              "      \n",
              "  <style>\n",
              "    .colab-df-container {\n",
              "      display:flex;\n",
              "      flex-wrap:wrap;\n",
              "      gap: 12px;\n",
              "    }\n",
              "\n",
              "    .colab-df-convert {\n",
              "      background-color: #E8F0FE;\n",
              "      border: none;\n",
              "      border-radius: 50%;\n",
              "      cursor: pointer;\n",
              "      display: none;\n",
              "      fill: #1967D2;\n",
              "      height: 32px;\n",
              "      padding: 0 0 0 0;\n",
              "      width: 32px;\n",
              "    }\n",
              "\n",
              "    .colab-df-convert:hover {\n",
              "      background-color: #E2EBFA;\n",
              "      box-shadow: 0px 1px 2px rgba(60, 64, 67, 0.3), 0px 1px 3px 1px rgba(60, 64, 67, 0.15);\n",
              "      fill: #174EA6;\n",
              "    }\n",
              "\n",
              "    [theme=dark] .colab-df-convert {\n",
              "      background-color: #3B4455;\n",
              "      fill: #D2E3FC;\n",
              "    }\n",
              "\n",
              "    [theme=dark] .colab-df-convert:hover {\n",
              "      background-color: #434B5C;\n",
              "      box-shadow: 0px 1px 3px 1px rgba(0, 0, 0, 0.15);\n",
              "      filter: drop-shadow(0px 1px 2px rgba(0, 0, 0, 0.3));\n",
              "      fill: #FFFFFF;\n",
              "    }\n",
              "  </style>\n",
              "\n",
              "      <script>\n",
              "        const buttonEl =\n",
              "          document.querySelector('#df-bdf6aaef-a2b9-459b-baae-9f356f0db264 button.colab-df-convert');\n",
              "        buttonEl.style.display =\n",
              "          google.colab.kernel.accessAllowed ? 'block' : 'none';\n",
              "\n",
              "        async function convertToInteractive(key) {\n",
              "          const element = document.querySelector('#df-bdf6aaef-a2b9-459b-baae-9f356f0db264');\n",
              "          const dataTable =\n",
              "            await google.colab.kernel.invokeFunction('convertToInteractive',\n",
              "                                                     [key], {});\n",
              "          if (!dataTable) return;\n",
              "\n",
              "          const docLinkHtml = 'Like what you see? Visit the ' +\n",
              "            '<a target=\"_blank\" href=https://colab.research.google.com/notebooks/data_table.ipynb>data table notebook</a>'\n",
              "            + ' to learn more about interactive tables.';\n",
              "          element.innerHTML = '';\n",
              "          dataTable['output_type'] = 'display_data';\n",
              "          await google.colab.output.renderOutput(dataTable, element);\n",
              "          const docLink = document.createElement('div');\n",
              "          docLink.innerHTML = docLinkHtml;\n",
              "          element.appendChild(docLink);\n",
              "        }\n",
              "      </script>\n",
              "    </div>\n",
              "  </div>\n",
              "  "
            ]
          },
          "metadata": {},
          "execution_count": 7
        }
      ]
    },
    {
      "cell_type": "code",
      "source": [
        "diamondsOG"
      ],
      "metadata": {
        "id": "xKmtyNvAU56L",
        "colab": {
          "base_uri": "https://localhost:8080/",
          "height": 424
        },
        "outputId": "ff856111-ef60-419f-9633-77ac797c11d7"
      },
      "execution_count": null,
      "outputs": [
        {
          "output_type": "execute_result",
          "data": {
            "text/plain": [
              "       carat  clarity  color  cut  depth  table     x     y     z   price\n",
              "0       1.26        2      4    2   60.6   60.0  6.97  7.00  4.23  6546.0\n",
              "1       0.80        3      4    4   62.1   54.0  5.96  5.99  3.71  3030.0\n",
              "2       0.56        4      2    4   61.7   54.0  5.28  5.32  3.27  1915.0\n",
              "3       1.51        3      6    1   64.0   58.0  7.24  7.27  4.64  6936.0\n",
              "4       0.33        6      5    4   62.2   54.0  4.43  4.45  2.76   646.0\n",
              "...      ...      ...    ...  ...    ...    ...   ...   ...   ...     ...\n",
              "53935   1.02        2      4    2   62.9   59.0  6.38  6.41  4.02  4796.0\n",
              "53936   0.93        2      4    3   61.8   59.0  6.27  6.23  3.86  3750.0\n",
              "53937   0.30        4      5    4   62.4   54.0  4.30  4.32  2.69   491.0\n",
              "53938   0.36        3      2    4   61.5   55.0  4.60  4.57  2.82   807.0\n",
              "53939   0.70        1      2    2   60.7   58.0  5.73  5.77  3.49  2195.0\n",
              "\n",
              "[53940 rows x 10 columns]"
            ],
            "text/html": [
              "\n",
              "  <div id=\"df-5950eb4c-7423-47ba-a3b8-6d7499e8dce2\">\n",
              "    <div class=\"colab-df-container\">\n",
              "      <div>\n",
              "<style scoped>\n",
              "    .dataframe tbody tr th:only-of-type {\n",
              "        vertical-align: middle;\n",
              "    }\n",
              "\n",
              "    .dataframe tbody tr th {\n",
              "        vertical-align: top;\n",
              "    }\n",
              "\n",
              "    .dataframe thead th {\n",
              "        text-align: right;\n",
              "    }\n",
              "</style>\n",
              "<table border=\"1\" class=\"dataframe\">\n",
              "  <thead>\n",
              "    <tr style=\"text-align: right;\">\n",
              "      <th></th>\n",
              "      <th>carat</th>\n",
              "      <th>clarity</th>\n",
              "      <th>color</th>\n",
              "      <th>cut</th>\n",
              "      <th>depth</th>\n",
              "      <th>table</th>\n",
              "      <th>x</th>\n",
              "      <th>y</th>\n",
              "      <th>z</th>\n",
              "      <th>price</th>\n",
              "    </tr>\n",
              "  </thead>\n",
              "  <tbody>\n",
              "    <tr>\n",
              "      <th>0</th>\n",
              "      <td>1.26</td>\n",
              "      <td>2</td>\n",
              "      <td>4</td>\n",
              "      <td>2</td>\n",
              "      <td>60.6</td>\n",
              "      <td>60.0</td>\n",
              "      <td>6.97</td>\n",
              "      <td>7.00</td>\n",
              "      <td>4.23</td>\n",
              "      <td>6546.0</td>\n",
              "    </tr>\n",
              "    <tr>\n",
              "      <th>1</th>\n",
              "      <td>0.80</td>\n",
              "      <td>3</td>\n",
              "      <td>4</td>\n",
              "      <td>4</td>\n",
              "      <td>62.1</td>\n",
              "      <td>54.0</td>\n",
              "      <td>5.96</td>\n",
              "      <td>5.99</td>\n",
              "      <td>3.71</td>\n",
              "      <td>3030.0</td>\n",
              "    </tr>\n",
              "    <tr>\n",
              "      <th>2</th>\n",
              "      <td>0.56</td>\n",
              "      <td>4</td>\n",
              "      <td>2</td>\n",
              "      <td>4</td>\n",
              "      <td>61.7</td>\n",
              "      <td>54.0</td>\n",
              "      <td>5.28</td>\n",
              "      <td>5.32</td>\n",
              "      <td>3.27</td>\n",
              "      <td>1915.0</td>\n",
              "    </tr>\n",
              "    <tr>\n",
              "      <th>3</th>\n",
              "      <td>1.51</td>\n",
              "      <td>3</td>\n",
              "      <td>6</td>\n",
              "      <td>1</td>\n",
              "      <td>64.0</td>\n",
              "      <td>58.0</td>\n",
              "      <td>7.24</td>\n",
              "      <td>7.27</td>\n",
              "      <td>4.64</td>\n",
              "      <td>6936.0</td>\n",
              "    </tr>\n",
              "    <tr>\n",
              "      <th>4</th>\n",
              "      <td>0.33</td>\n",
              "      <td>6</td>\n",
              "      <td>5</td>\n",
              "      <td>4</td>\n",
              "      <td>62.2</td>\n",
              "      <td>54.0</td>\n",
              "      <td>4.43</td>\n",
              "      <td>4.45</td>\n",
              "      <td>2.76</td>\n",
              "      <td>646.0</td>\n",
              "    </tr>\n",
              "    <tr>\n",
              "      <th>...</th>\n",
              "      <td>...</td>\n",
              "      <td>...</td>\n",
              "      <td>...</td>\n",
              "      <td>...</td>\n",
              "      <td>...</td>\n",
              "      <td>...</td>\n",
              "      <td>...</td>\n",
              "      <td>...</td>\n",
              "      <td>...</td>\n",
              "      <td>...</td>\n",
              "    </tr>\n",
              "    <tr>\n",
              "      <th>53935</th>\n",
              "      <td>1.02</td>\n",
              "      <td>2</td>\n",
              "      <td>4</td>\n",
              "      <td>2</td>\n",
              "      <td>62.9</td>\n",
              "      <td>59.0</td>\n",
              "      <td>6.38</td>\n",
              "      <td>6.41</td>\n",
              "      <td>4.02</td>\n",
              "      <td>4796.0</td>\n",
              "    </tr>\n",
              "    <tr>\n",
              "      <th>53936</th>\n",
              "      <td>0.93</td>\n",
              "      <td>2</td>\n",
              "      <td>4</td>\n",
              "      <td>3</td>\n",
              "      <td>61.8</td>\n",
              "      <td>59.0</td>\n",
              "      <td>6.27</td>\n",
              "      <td>6.23</td>\n",
              "      <td>3.86</td>\n",
              "      <td>3750.0</td>\n",
              "    </tr>\n",
              "    <tr>\n",
              "      <th>53937</th>\n",
              "      <td>0.30</td>\n",
              "      <td>4</td>\n",
              "      <td>5</td>\n",
              "      <td>4</td>\n",
              "      <td>62.4</td>\n",
              "      <td>54.0</td>\n",
              "      <td>4.30</td>\n",
              "      <td>4.32</td>\n",
              "      <td>2.69</td>\n",
              "      <td>491.0</td>\n",
              "    </tr>\n",
              "    <tr>\n",
              "      <th>53938</th>\n",
              "      <td>0.36</td>\n",
              "      <td>3</td>\n",
              "      <td>2</td>\n",
              "      <td>4</td>\n",
              "      <td>61.5</td>\n",
              "      <td>55.0</td>\n",
              "      <td>4.60</td>\n",
              "      <td>4.57</td>\n",
              "      <td>2.82</td>\n",
              "      <td>807.0</td>\n",
              "    </tr>\n",
              "    <tr>\n",
              "      <th>53939</th>\n",
              "      <td>0.70</td>\n",
              "      <td>1</td>\n",
              "      <td>2</td>\n",
              "      <td>2</td>\n",
              "      <td>60.7</td>\n",
              "      <td>58.0</td>\n",
              "      <td>5.73</td>\n",
              "      <td>5.77</td>\n",
              "      <td>3.49</td>\n",
              "      <td>2195.0</td>\n",
              "    </tr>\n",
              "  </tbody>\n",
              "</table>\n",
              "<p>53940 rows × 10 columns</p>\n",
              "</div>\n",
              "      <button class=\"colab-df-convert\" onclick=\"convertToInteractive('df-5950eb4c-7423-47ba-a3b8-6d7499e8dce2')\"\n",
              "              title=\"Convert this dataframe to an interactive table.\"\n",
              "              style=\"display:none;\">\n",
              "        \n",
              "  <svg xmlns=\"http://www.w3.org/2000/svg\" height=\"24px\"viewBox=\"0 0 24 24\"\n",
              "       width=\"24px\">\n",
              "    <path d=\"M0 0h24v24H0V0z\" fill=\"none\"/>\n",
              "    <path d=\"M18.56 5.44l.94 2.06.94-2.06 2.06-.94-2.06-.94-.94-2.06-.94 2.06-2.06.94zm-11 1L8.5 8.5l.94-2.06 2.06-.94-2.06-.94L8.5 2.5l-.94 2.06-2.06.94zm10 10l.94 2.06.94-2.06 2.06-.94-2.06-.94-.94-2.06-.94 2.06-2.06.94z\"/><path d=\"M17.41 7.96l-1.37-1.37c-.4-.4-.92-.59-1.43-.59-.52 0-1.04.2-1.43.59L10.3 9.45l-7.72 7.72c-.78.78-.78 2.05 0 2.83L4 21.41c.39.39.9.59 1.41.59.51 0 1.02-.2 1.41-.59l7.78-7.78 2.81-2.81c.8-.78.8-2.07 0-2.86zM5.41 20L4 18.59l7.72-7.72 1.47 1.35L5.41 20z\"/>\n",
              "  </svg>\n",
              "      </button>\n",
              "      \n",
              "  <style>\n",
              "    .colab-df-container {\n",
              "      display:flex;\n",
              "      flex-wrap:wrap;\n",
              "      gap: 12px;\n",
              "    }\n",
              "\n",
              "    .colab-df-convert {\n",
              "      background-color: #E8F0FE;\n",
              "      border: none;\n",
              "      border-radius: 50%;\n",
              "      cursor: pointer;\n",
              "      display: none;\n",
              "      fill: #1967D2;\n",
              "      height: 32px;\n",
              "      padding: 0 0 0 0;\n",
              "      width: 32px;\n",
              "    }\n",
              "\n",
              "    .colab-df-convert:hover {\n",
              "      background-color: #E2EBFA;\n",
              "      box-shadow: 0px 1px 2px rgba(60, 64, 67, 0.3), 0px 1px 3px 1px rgba(60, 64, 67, 0.15);\n",
              "      fill: #174EA6;\n",
              "    }\n",
              "\n",
              "    [theme=dark] .colab-df-convert {\n",
              "      background-color: #3B4455;\n",
              "      fill: #D2E3FC;\n",
              "    }\n",
              "\n",
              "    [theme=dark] .colab-df-convert:hover {\n",
              "      background-color: #434B5C;\n",
              "      box-shadow: 0px 1px 3px 1px rgba(0, 0, 0, 0.15);\n",
              "      filter: drop-shadow(0px 1px 2px rgba(0, 0, 0, 0.3));\n",
              "      fill: #FFFFFF;\n",
              "    }\n",
              "  </style>\n",
              "\n",
              "      <script>\n",
              "        const buttonEl =\n",
              "          document.querySelector('#df-5950eb4c-7423-47ba-a3b8-6d7499e8dce2 button.colab-df-convert');\n",
              "        buttonEl.style.display =\n",
              "          google.colab.kernel.accessAllowed ? 'block' : 'none';\n",
              "\n",
              "        async function convertToInteractive(key) {\n",
              "          const element = document.querySelector('#df-5950eb4c-7423-47ba-a3b8-6d7499e8dce2');\n",
              "          const dataTable =\n",
              "            await google.colab.kernel.invokeFunction('convertToInteractive',\n",
              "                                                     [key], {});\n",
              "          if (!dataTable) return;\n",
              "\n",
              "          const docLinkHtml = 'Like what you see? Visit the ' +\n",
              "            '<a target=\"_blank\" href=https://colab.research.google.com/notebooks/data_table.ipynb>data table notebook</a>'\n",
              "            + ' to learn more about interactive tables.';\n",
              "          element.innerHTML = '';\n",
              "          dataTable['output_type'] = 'display_data';\n",
              "          await google.colab.output.renderOutput(dataTable, element);\n",
              "          const docLink = document.createElement('div');\n",
              "          docLink.innerHTML = docLinkHtml;\n",
              "          element.appendChild(docLink);\n",
              "        }\n",
              "      </script>\n",
              "    </div>\n",
              "  </div>\n",
              "  "
            ]
          },
          "metadata": {},
          "execution_count": 8
        }
      ]
    },
    {
      "cell_type": "code",
      "source": [
        "price_classes = ['[0, 5000]', '(5000, 10000]', '(10000, 15000]', '15000+']\n",
        "feature_names = diamonds.columns.to_list()\n",
        "feature_names.remove('class')\n",
        "feature_names"
      ],
      "metadata": {
        "id": "eKvzCQVwWXXT",
        "colab": {
          "base_uri": "https://localhost:8080/"
        },
        "outputId": "429b36e0-2aca-4013-d5e3-40d3ce6489ea"
      },
      "execution_count": null,
      "outputs": [
        {
          "output_type": "execute_result",
          "data": {
            "text/plain": [
              "['carat', 'clarity', 'color', 'cut', 'depth', 'table', 'x', 'y', 'z', 'volume']"
            ]
          },
          "metadata": {},
          "execution_count": 9
        }
      ]
    },
    {
      "cell_type": "code",
      "source": [
        "X = diamonds[feature_names]\n",
        "y = diamonds['class']"
      ],
      "metadata": {
        "id": "iBLEGa7UW3t6"
      },
      "execution_count": null,
      "outputs": []
    },
    {
      "cell_type": "code",
      "source": [
        "X"
      ],
      "metadata": {
        "id": "gMP_ppx0XCso",
        "colab": {
          "base_uri": "https://localhost:8080/",
          "height": 424
        },
        "outputId": "ee3c1593-796d-4549-8aa2-7e3ed79448db"
      },
      "execution_count": null,
      "outputs": [
        {
          "output_type": "execute_result",
          "data": {
            "text/plain": [
              "       carat  clarity  color  cut     depth  table         x         y  \\\n",
              "0       1.26        2      4    2  0.364706   0.72  0.661224  0.680328   \n",
              "1       0.80        3      4    4  0.541176   0.24  0.455102  0.473361   \n",
              "2       0.56        4      2    4  0.494118   0.24  0.316327  0.336066   \n",
              "3       1.51        3      6    1  0.764706   0.56  0.716326  0.735656   \n",
              "4       0.33        6      5    4  0.552941   0.24  0.142857  0.157787   \n",
              "...      ...      ...    ...  ...       ...    ...       ...       ...   \n",
              "52325   1.02        2      4    2  0.635294   0.64  0.540816  0.559426   \n",
              "52326   0.93        2      4    3  0.505882   0.64  0.518367  0.522541   \n",
              "52327   0.30        4      5    4  0.576471   0.24  0.116327  0.131148   \n",
              "52328   0.36        3      2    4  0.470588   0.32  0.177551  0.182377   \n",
              "52329   0.70        1      2    2  0.376471   0.56  0.408163  0.428279   \n",
              "\n",
              "              z    volume  \n",
              "0      0.716180  0.512314  \n",
              "1      0.578249  0.295469  \n",
              "2      0.461538  0.176404  \n",
              "3      0.824934  0.623309  \n",
              "4      0.326260  0.066582  \n",
              "...         ...       ...  \n",
              "52325  0.660477  0.389186  \n",
              "52326  0.618037  0.349234  \n",
              "52327  0.307692  0.053560  \n",
              "52328  0.342175  0.080874  \n",
              "52329  0.519894  0.245428  \n",
              "\n",
              "[52330 rows x 10 columns]"
            ],
            "text/html": [
              "\n",
              "  <div id=\"df-457d2d2c-8363-4d32-a4e8-5cfb2173aaf5\">\n",
              "    <div class=\"colab-df-container\">\n",
              "      <div>\n",
              "<style scoped>\n",
              "    .dataframe tbody tr th:only-of-type {\n",
              "        vertical-align: middle;\n",
              "    }\n",
              "\n",
              "    .dataframe tbody tr th {\n",
              "        vertical-align: top;\n",
              "    }\n",
              "\n",
              "    .dataframe thead th {\n",
              "        text-align: right;\n",
              "    }\n",
              "</style>\n",
              "<table border=\"1\" class=\"dataframe\">\n",
              "  <thead>\n",
              "    <tr style=\"text-align: right;\">\n",
              "      <th></th>\n",
              "      <th>carat</th>\n",
              "      <th>clarity</th>\n",
              "      <th>color</th>\n",
              "      <th>cut</th>\n",
              "      <th>depth</th>\n",
              "      <th>table</th>\n",
              "      <th>x</th>\n",
              "      <th>y</th>\n",
              "      <th>z</th>\n",
              "      <th>volume</th>\n",
              "    </tr>\n",
              "  </thead>\n",
              "  <tbody>\n",
              "    <tr>\n",
              "      <th>0</th>\n",
              "      <td>1.26</td>\n",
              "      <td>2</td>\n",
              "      <td>4</td>\n",
              "      <td>2</td>\n",
              "      <td>0.364706</td>\n",
              "      <td>0.72</td>\n",
              "      <td>0.661224</td>\n",
              "      <td>0.680328</td>\n",
              "      <td>0.716180</td>\n",
              "      <td>0.512314</td>\n",
              "    </tr>\n",
              "    <tr>\n",
              "      <th>1</th>\n",
              "      <td>0.80</td>\n",
              "      <td>3</td>\n",
              "      <td>4</td>\n",
              "      <td>4</td>\n",
              "      <td>0.541176</td>\n",
              "      <td>0.24</td>\n",
              "      <td>0.455102</td>\n",
              "      <td>0.473361</td>\n",
              "      <td>0.578249</td>\n",
              "      <td>0.295469</td>\n",
              "    </tr>\n",
              "    <tr>\n",
              "      <th>2</th>\n",
              "      <td>0.56</td>\n",
              "      <td>4</td>\n",
              "      <td>2</td>\n",
              "      <td>4</td>\n",
              "      <td>0.494118</td>\n",
              "      <td>0.24</td>\n",
              "      <td>0.316327</td>\n",
              "      <td>0.336066</td>\n",
              "      <td>0.461538</td>\n",
              "      <td>0.176404</td>\n",
              "    </tr>\n",
              "    <tr>\n",
              "      <th>3</th>\n",
              "      <td>1.51</td>\n",
              "      <td>3</td>\n",
              "      <td>6</td>\n",
              "      <td>1</td>\n",
              "      <td>0.764706</td>\n",
              "      <td>0.56</td>\n",
              "      <td>0.716326</td>\n",
              "      <td>0.735656</td>\n",
              "      <td>0.824934</td>\n",
              "      <td>0.623309</td>\n",
              "    </tr>\n",
              "    <tr>\n",
              "      <th>4</th>\n",
              "      <td>0.33</td>\n",
              "      <td>6</td>\n",
              "      <td>5</td>\n",
              "      <td>4</td>\n",
              "      <td>0.552941</td>\n",
              "      <td>0.24</td>\n",
              "      <td>0.142857</td>\n",
              "      <td>0.157787</td>\n",
              "      <td>0.326260</td>\n",
              "      <td>0.066582</td>\n",
              "    </tr>\n",
              "    <tr>\n",
              "      <th>...</th>\n",
              "      <td>...</td>\n",
              "      <td>...</td>\n",
              "      <td>...</td>\n",
              "      <td>...</td>\n",
              "      <td>...</td>\n",
              "      <td>...</td>\n",
              "      <td>...</td>\n",
              "      <td>...</td>\n",
              "      <td>...</td>\n",
              "      <td>...</td>\n",
              "    </tr>\n",
              "    <tr>\n",
              "      <th>52325</th>\n",
              "      <td>1.02</td>\n",
              "      <td>2</td>\n",
              "      <td>4</td>\n",
              "      <td>2</td>\n",
              "      <td>0.635294</td>\n",
              "      <td>0.64</td>\n",
              "      <td>0.540816</td>\n",
              "      <td>0.559426</td>\n",
              "      <td>0.660477</td>\n",
              "      <td>0.389186</td>\n",
              "    </tr>\n",
              "    <tr>\n",
              "      <th>52326</th>\n",
              "      <td>0.93</td>\n",
              "      <td>2</td>\n",
              "      <td>4</td>\n",
              "      <td>3</td>\n",
              "      <td>0.505882</td>\n",
              "      <td>0.64</td>\n",
              "      <td>0.518367</td>\n",
              "      <td>0.522541</td>\n",
              "      <td>0.618037</td>\n",
              "      <td>0.349234</td>\n",
              "    </tr>\n",
              "    <tr>\n",
              "      <th>52327</th>\n",
              "      <td>0.30</td>\n",
              "      <td>4</td>\n",
              "      <td>5</td>\n",
              "      <td>4</td>\n",
              "      <td>0.576471</td>\n",
              "      <td>0.24</td>\n",
              "      <td>0.116327</td>\n",
              "      <td>0.131148</td>\n",
              "      <td>0.307692</td>\n",
              "      <td>0.053560</td>\n",
              "    </tr>\n",
              "    <tr>\n",
              "      <th>52328</th>\n",
              "      <td>0.36</td>\n",
              "      <td>3</td>\n",
              "      <td>2</td>\n",
              "      <td>4</td>\n",
              "      <td>0.470588</td>\n",
              "      <td>0.32</td>\n",
              "      <td>0.177551</td>\n",
              "      <td>0.182377</td>\n",
              "      <td>0.342175</td>\n",
              "      <td>0.080874</td>\n",
              "    </tr>\n",
              "    <tr>\n",
              "      <th>52329</th>\n",
              "      <td>0.70</td>\n",
              "      <td>1</td>\n",
              "      <td>2</td>\n",
              "      <td>2</td>\n",
              "      <td>0.376471</td>\n",
              "      <td>0.56</td>\n",
              "      <td>0.408163</td>\n",
              "      <td>0.428279</td>\n",
              "      <td>0.519894</td>\n",
              "      <td>0.245428</td>\n",
              "    </tr>\n",
              "  </tbody>\n",
              "</table>\n",
              "<p>52330 rows × 10 columns</p>\n",
              "</div>\n",
              "      <button class=\"colab-df-convert\" onclick=\"convertToInteractive('df-457d2d2c-8363-4d32-a4e8-5cfb2173aaf5')\"\n",
              "              title=\"Convert this dataframe to an interactive table.\"\n",
              "              style=\"display:none;\">\n",
              "        \n",
              "  <svg xmlns=\"http://www.w3.org/2000/svg\" height=\"24px\"viewBox=\"0 0 24 24\"\n",
              "       width=\"24px\">\n",
              "    <path d=\"M0 0h24v24H0V0z\" fill=\"none\"/>\n",
              "    <path d=\"M18.56 5.44l.94 2.06.94-2.06 2.06-.94-2.06-.94-.94-2.06-.94 2.06-2.06.94zm-11 1L8.5 8.5l.94-2.06 2.06-.94-2.06-.94L8.5 2.5l-.94 2.06-2.06.94zm10 10l.94 2.06.94-2.06 2.06-.94-2.06-.94-.94-2.06-.94 2.06-2.06.94z\"/><path d=\"M17.41 7.96l-1.37-1.37c-.4-.4-.92-.59-1.43-.59-.52 0-1.04.2-1.43.59L10.3 9.45l-7.72 7.72c-.78.78-.78 2.05 0 2.83L4 21.41c.39.39.9.59 1.41.59.51 0 1.02-.2 1.41-.59l7.78-7.78 2.81-2.81c.8-.78.8-2.07 0-2.86zM5.41 20L4 18.59l7.72-7.72 1.47 1.35L5.41 20z\"/>\n",
              "  </svg>\n",
              "      </button>\n",
              "      \n",
              "  <style>\n",
              "    .colab-df-container {\n",
              "      display:flex;\n",
              "      flex-wrap:wrap;\n",
              "      gap: 12px;\n",
              "    }\n",
              "\n",
              "    .colab-df-convert {\n",
              "      background-color: #E8F0FE;\n",
              "      border: none;\n",
              "      border-radius: 50%;\n",
              "      cursor: pointer;\n",
              "      display: none;\n",
              "      fill: #1967D2;\n",
              "      height: 32px;\n",
              "      padding: 0 0 0 0;\n",
              "      width: 32px;\n",
              "    }\n",
              "\n",
              "    .colab-df-convert:hover {\n",
              "      background-color: #E2EBFA;\n",
              "      box-shadow: 0px 1px 2px rgba(60, 64, 67, 0.3), 0px 1px 3px 1px rgba(60, 64, 67, 0.15);\n",
              "      fill: #174EA6;\n",
              "    }\n",
              "\n",
              "    [theme=dark] .colab-df-convert {\n",
              "      background-color: #3B4455;\n",
              "      fill: #D2E3FC;\n",
              "    }\n",
              "\n",
              "    [theme=dark] .colab-df-convert:hover {\n",
              "      background-color: #434B5C;\n",
              "      box-shadow: 0px 1px 3px 1px rgba(0, 0, 0, 0.15);\n",
              "      filter: drop-shadow(0px 1px 2px rgba(0, 0, 0, 0.3));\n",
              "      fill: #FFFFFF;\n",
              "    }\n",
              "  </style>\n",
              "\n",
              "      <script>\n",
              "        const buttonEl =\n",
              "          document.querySelector('#df-457d2d2c-8363-4d32-a4e8-5cfb2173aaf5 button.colab-df-convert');\n",
              "        buttonEl.style.display =\n",
              "          google.colab.kernel.accessAllowed ? 'block' : 'none';\n",
              "\n",
              "        async function convertToInteractive(key) {\n",
              "          const element = document.querySelector('#df-457d2d2c-8363-4d32-a4e8-5cfb2173aaf5');\n",
              "          const dataTable =\n",
              "            await google.colab.kernel.invokeFunction('convertToInteractive',\n",
              "                                                     [key], {});\n",
              "          if (!dataTable) return;\n",
              "\n",
              "          const docLinkHtml = 'Like what you see? Visit the ' +\n",
              "            '<a target=\"_blank\" href=https://colab.research.google.com/notebooks/data_table.ipynb>data table notebook</a>'\n",
              "            + ' to learn more about interactive tables.';\n",
              "          element.innerHTML = '';\n",
              "          dataTable['output_type'] = 'display_data';\n",
              "          await google.colab.output.renderOutput(dataTable, element);\n",
              "          const docLink = document.createElement('div');\n",
              "          docLink.innerHTML = docLinkHtml;\n",
              "          element.appendChild(docLink);\n",
              "        }\n",
              "      </script>\n",
              "    </div>\n",
              "  </div>\n",
              "  "
            ]
          },
          "metadata": {},
          "execution_count": 11
        }
      ]
    },
    {
      "cell_type": "code",
      "source": [
        "y"
      ],
      "metadata": {
        "id": "tXufOM4tXEyx",
        "colab": {
          "base_uri": "https://localhost:8080/"
        },
        "outputId": "ee8d2f48-85c3-4305-8817-d35a0186050a"
      },
      "execution_count": null,
      "outputs": [
        {
          "output_type": "execute_result",
          "data": {
            "text/plain": [
              "0        (5000, 10000]\n",
              "1            [0, 5000]\n",
              "2            [0, 5000]\n",
              "3        (5000, 10000]\n",
              "4            [0, 5000]\n",
              "             ...      \n",
              "52325        [0, 5000]\n",
              "52326        [0, 5000]\n",
              "52327        [0, 5000]\n",
              "52328        [0, 5000]\n",
              "52329        [0, 5000]\n",
              "Name: class, Length: 52330, dtype: object"
            ]
          },
          "metadata": {},
          "execution_count": 12
        }
      ]
    },
    {
      "cell_type": "code",
      "source": [
        "X_train, X_test, y_train, y_test = train_test_split(X, y, test_size=0.3, random_state=42)\n",
        "all_predictions = []\n",
        "accuracy_scores = []"
      ],
      "metadata": {
        "id": "ZW9tFZOEfFlI"
      },
      "execution_count": null,
      "outputs": []
    },
    {
      "cell_type": "markdown",
      "source": [
        "***"
      ],
      "metadata": {
        "id": "0LjR3ddqjlJ2"
      }
    },
    {
      "cell_type": "markdown",
      "source": [
        "Pomocne funkcije za izvestaj o modelu"
      ],
      "metadata": {
        "id": "MWehSD_4jhG6"
      }
    },
    {
      "cell_type": "code",
      "source": [
        "def feature_importance(pipeline):\n",
        "  model = pipeline.named_steps['model']\n",
        "  feature_percentages = [num*100 for num in model.feature_importances_]\n",
        "  for i in range(len(feature_names)):\n",
        "    print(f'{feature_names[i]} : {feature_percentages[i]}')\n",
        "\n",
        "  plt.figure(figsize=(8,8))\n",
        "  pd.Series(feature_percentages, index=feature_names).plot.barh(grid=True)\n",
        "  plt.xlabel('(%)')\n",
        "  plt.title('Znacajnost atributa')\n",
        "  plt.show()\n",
        "\n",
        "def model_report(pipeline, X_test, y_test):\n",
        "  y_pred = pipeline.predict(X_test)\n",
        "  model = pipeline['model']\n",
        "  accuracy = accuracy_score(y_test, y_pred)\n",
        "  all_predictions.append(y_pred)\n",
        "  accuracy_scores.append(accuracy)\n",
        "\n",
        "  print(f'Izvestaj o {type(model).__name__} modelu:')\n",
        "  print('-------------------------------------------------------------------')\n",
        "  print(f'Klase za predvidjanje: {price_classes}')\n",
        "  print(f'Accuracy: {accuracy}')\n",
        "  print('-------------------------------------------------------------------')\n",
        "  print('Klasifikacioni izvestaj: ')\n",
        "  print(classification_report(y_test, y_pred))\n",
        "  print('-------------------------------------------------------------------')\n",
        "  print('Matrica konfuzije: ')\n",
        "  data = confusion_matrix(y_test, y_pred)\n",
        "  _ = sns.heatmap(data, annot=True, fmt='g', xticklabels=model.classes_, yticklabels=model.classes_, cmap = plt.cm.Reds)\n",
        "\n"
      ],
      "metadata": {
        "id": "V8teokHcjmae"
      },
      "execution_count": 1,
      "outputs": []
    },
    {
      "cell_type": "markdown",
      "source": [
        "## DecisionTreeClassifier"
      ],
      "metadata": {
        "id": "0i_Wdp_WU-3i"
      }
    },
    {
      "cell_type": "markdown",
      "source": [
        "S obzirom na neuravnotezenost klasa napravicemo *class_weights* niz sa tezinama klasa da bismo ih izbalansirali"
      ],
      "metadata": {
        "id": "x04B7MhmYioV"
      }
    },
    {
      "cell_type": "code",
      "source": [
        "class_percentages = [73.2, 17.7, 6.4, 2.6]\n",
        "class_weights = {}\n",
        "for i in range(4):\n",
        "  class_weights[price_classes[i]] = (100 / class_percentages[i])\n",
        "\n",
        "class_weights"
      ],
      "metadata": {
        "id": "FDOb1vfZY7tE",
        "colab": {
          "base_uri": "https://localhost:8080/"
        },
        "outputId": "543ab3ad-d632-440a-aa9c-45bf5471144d"
      },
      "execution_count": null,
      "outputs": [
        {
          "output_type": "execute_result",
          "data": {
            "text/plain": [
              "{'[0, 5000]': 1.366120218579235,\n",
              " '(5000, 10000]': 5.649717514124294,\n",
              " '(10000, 15000]': 15.625,\n",
              " '15000+': 38.46153846153846}"
            ]
          },
          "metadata": {},
          "execution_count": 15
        }
      ]
    },
    {
      "cell_type": "code",
      "source": [
        "dtc = Pipeline([\n",
        "    ('model', DecisionTreeClassifier(random_state=42, class_weight=class_weights))\n",
        "])"
      ],
      "metadata": {
        "id": "JmKUkpQPXfDw"
      },
      "execution_count": null,
      "outputs": []
    },
    {
      "cell_type": "code",
      "source": [
        "dtc.fit(X_train, y_train)"
      ],
      "metadata": {
        "id": "67CT-ijve1ea",
        "colab": {
          "base_uri": "https://localhost:8080/",
          "height": 92
        },
        "outputId": "9ca217b9-a72b-430b-9bdc-84099962fd1d"
      },
      "execution_count": null,
      "outputs": [
        {
          "output_type": "execute_result",
          "data": {
            "text/plain": [
              "Pipeline(steps=[('model',\n",
              "                 DecisionTreeClassifier(class_weight={'(10000, 15000]': 15.625,\n",
              "                                                      '(5000, 10000]': 5.649717514124294,\n",
              "                                                      '15000+': 38.46153846153846,\n",
              "                                                      '[0, 5000]': 1.366120218579235},\n",
              "                                        random_state=42))])"
            ],
            "text/html": [
              "<style>#sk-container-id-1 {color: black;background-color: white;}#sk-container-id-1 pre{padding: 0;}#sk-container-id-1 div.sk-toggleable {background-color: white;}#sk-container-id-1 label.sk-toggleable__label {cursor: pointer;display: block;width: 100%;margin-bottom: 0;padding: 0.3em;box-sizing: border-box;text-align: center;}#sk-container-id-1 label.sk-toggleable__label-arrow:before {content: \"▸\";float: left;margin-right: 0.25em;color: #696969;}#sk-container-id-1 label.sk-toggleable__label-arrow:hover:before {color: black;}#sk-container-id-1 div.sk-estimator:hover label.sk-toggleable__label-arrow:before {color: black;}#sk-container-id-1 div.sk-toggleable__content {max-height: 0;max-width: 0;overflow: hidden;text-align: left;background-color: #f0f8ff;}#sk-container-id-1 div.sk-toggleable__content pre {margin: 0.2em;color: black;border-radius: 0.25em;background-color: #f0f8ff;}#sk-container-id-1 input.sk-toggleable__control:checked~div.sk-toggleable__content {max-height: 200px;max-width: 100%;overflow: auto;}#sk-container-id-1 input.sk-toggleable__control:checked~label.sk-toggleable__label-arrow:before {content: \"▾\";}#sk-container-id-1 div.sk-estimator input.sk-toggleable__control:checked~label.sk-toggleable__label {background-color: #d4ebff;}#sk-container-id-1 div.sk-label input.sk-toggleable__control:checked~label.sk-toggleable__label {background-color: #d4ebff;}#sk-container-id-1 input.sk-hidden--visually {border: 0;clip: rect(1px 1px 1px 1px);clip: rect(1px, 1px, 1px, 1px);height: 1px;margin: -1px;overflow: hidden;padding: 0;position: absolute;width: 1px;}#sk-container-id-1 div.sk-estimator {font-family: monospace;background-color: #f0f8ff;border: 1px dotted black;border-radius: 0.25em;box-sizing: border-box;margin-bottom: 0.5em;}#sk-container-id-1 div.sk-estimator:hover {background-color: #d4ebff;}#sk-container-id-1 div.sk-parallel-item::after {content: \"\";width: 100%;border-bottom: 1px solid gray;flex-grow: 1;}#sk-container-id-1 div.sk-label:hover label.sk-toggleable__label {background-color: #d4ebff;}#sk-container-id-1 div.sk-serial::before {content: \"\";position: absolute;border-left: 1px solid gray;box-sizing: border-box;top: 0;bottom: 0;left: 50%;z-index: 0;}#sk-container-id-1 div.sk-serial {display: flex;flex-direction: column;align-items: center;background-color: white;padding-right: 0.2em;padding-left: 0.2em;position: relative;}#sk-container-id-1 div.sk-item {position: relative;z-index: 1;}#sk-container-id-1 div.sk-parallel {display: flex;align-items: stretch;justify-content: center;background-color: white;position: relative;}#sk-container-id-1 div.sk-item::before, #sk-container-id-1 div.sk-parallel-item::before {content: \"\";position: absolute;border-left: 1px solid gray;box-sizing: border-box;top: 0;bottom: 0;left: 50%;z-index: -1;}#sk-container-id-1 div.sk-parallel-item {display: flex;flex-direction: column;z-index: 1;position: relative;background-color: white;}#sk-container-id-1 div.sk-parallel-item:first-child::after {align-self: flex-end;width: 50%;}#sk-container-id-1 div.sk-parallel-item:last-child::after {align-self: flex-start;width: 50%;}#sk-container-id-1 div.sk-parallel-item:only-child::after {width: 0;}#sk-container-id-1 div.sk-dashed-wrapped {border: 1px dashed gray;margin: 0 0.4em 0.5em 0.4em;box-sizing: border-box;padding-bottom: 0.4em;background-color: white;}#sk-container-id-1 div.sk-label label {font-family: monospace;font-weight: bold;display: inline-block;line-height: 1.2em;}#sk-container-id-1 div.sk-label-container {text-align: center;}#sk-container-id-1 div.sk-container {/* jupyter's `normalize.less` sets `[hidden] { display: none; }` but bootstrap.min.css set `[hidden] { display: none !important; }` so we also need the `!important` here to be able to override the default hidden behavior on the sphinx rendered scikit-learn.org. See: https://github.com/scikit-learn/scikit-learn/issues/21755 */display: inline-block !important;position: relative;}#sk-container-id-1 div.sk-text-repr-fallback {display: none;}</style><div id=\"sk-container-id-1\" class=\"sk-top-container\"><div class=\"sk-text-repr-fallback\"><pre>Pipeline(steps=[(&#x27;model&#x27;,\n",
              "                 DecisionTreeClassifier(class_weight={&#x27;(10000, 15000]&#x27;: 15.625,\n",
              "                                                      &#x27;(5000, 10000]&#x27;: 5.649717514124294,\n",
              "                                                      &#x27;15000+&#x27;: 38.46153846153846,\n",
              "                                                      &#x27;[0, 5000]&#x27;: 1.366120218579235},\n",
              "                                        random_state=42))])</pre><b>In a Jupyter environment, please rerun this cell to show the HTML representation or trust the notebook. <br />On GitHub, the HTML representation is unable to render, please try loading this page with nbviewer.org.</b></div><div class=\"sk-container\" hidden><div class=\"sk-item sk-dashed-wrapped\"><div class=\"sk-label-container\"><div class=\"sk-label sk-toggleable\"><input class=\"sk-toggleable__control sk-hidden--visually\" id=\"sk-estimator-id-1\" type=\"checkbox\" ><label for=\"sk-estimator-id-1\" class=\"sk-toggleable__label sk-toggleable__label-arrow\">Pipeline</label><div class=\"sk-toggleable__content\"><pre>Pipeline(steps=[(&#x27;model&#x27;,\n",
              "                 DecisionTreeClassifier(class_weight={&#x27;(10000, 15000]&#x27;: 15.625,\n",
              "                                                      &#x27;(5000, 10000]&#x27;: 5.649717514124294,\n",
              "                                                      &#x27;15000+&#x27;: 38.46153846153846,\n",
              "                                                      &#x27;[0, 5000]&#x27;: 1.366120218579235},\n",
              "                                        random_state=42))])</pre></div></div></div><div class=\"sk-serial\"><div class=\"sk-item\"><div class=\"sk-estimator sk-toggleable\"><input class=\"sk-toggleable__control sk-hidden--visually\" id=\"sk-estimator-id-2\" type=\"checkbox\" ><label for=\"sk-estimator-id-2\" class=\"sk-toggleable__label sk-toggleable__label-arrow\">DecisionTreeClassifier</label><div class=\"sk-toggleable__content\"><pre>DecisionTreeClassifier(class_weight={&#x27;(10000, 15000]&#x27;: 15.625,\n",
              "                                     &#x27;(5000, 10000]&#x27;: 5.649717514124294,\n",
              "                                     &#x27;15000+&#x27;: 38.46153846153846,\n",
              "                                     &#x27;[0, 5000]&#x27;: 1.366120218579235},\n",
              "                       random_state=42)</pre></div></div></div></div></div></div></div>"
            ]
          },
          "metadata": {},
          "execution_count": 17
        }
      ]
    },
    {
      "cell_type": "code",
      "source": [
        "model_report(dtc, X_test, y_test)"
      ],
      "metadata": {
        "id": "tZs8fWAzg3Im",
        "colab": {
          "base_uri": "https://localhost:8080/",
          "height": 853
        },
        "outputId": "c5f0b6a5-3986-4e53-f8a2-54368024f05a"
      },
      "execution_count": null,
      "outputs": [
        {
          "output_type": "stream",
          "name": "stdout",
          "text": [
            "Izvestaj o DecisionTreeClassifier modelu:\n",
            "-------------------------------------------------------------------\n",
            "Klase za predvidjanje: ['[0, 5000]', '(5000, 10000]', '(10000, 15000]', '15000+']\n",
            "Accuracy: 0.9347729154723231\n",
            "-------------------------------------------------------------------\n",
            "Klasifikacioni izvestaj: \n",
            "                precision    recall  f1-score   support\n",
            "\n",
            "(10000, 15000]       0.76      0.78      0.77      1018\n",
            " (5000, 10000]       0.85      0.85      0.85      2802\n",
            "        15000+       0.80      0.74      0.77       409\n",
            "     [0, 5000]       0.98      0.98      0.98     11470\n",
            "\n",
            "      accuracy                           0.93     15699\n",
            "     macro avg       0.85      0.84      0.84     15699\n",
            "  weighted avg       0.93      0.93      0.93     15699\n",
            "\n",
            "-------------------------------------------------------------------\n",
            "Matrica konfuzije: \n"
          ]
        },
        {
          "output_type": "display_data",
          "data": {
            "text/plain": [
              "<Figure size 640x480 with 2 Axes>"
            ],
            "image/png": "[encoded data removed]"
          },
          "metadata": {}
        }
      ]
    },
    {
      "cell_type": "code",
      "source": [
        "feature_importance(dtc)"
      ],
      "metadata": {
        "id": "6p4Vyqts6ydZ",
        "colab": {
          "base_uri": "https://localhost:8080/",
          "height": 873
        },
        "outputId": "c96d7916-e787-4350-8dcd-5b620aa86964"
      },
      "execution_count": null,
      "outputs": [
        {
          "output_type": "stream",
          "name": "stdout",
          "text": [
            "carat : 0.3234925354895227\n",
            "clarity : 0.13514540088863425\n",
            "color : 0.1117999468147758\n",
            "cut : 0.012996646713201873\n",
            "depth : 0.030132534180134868\n",
            "table : 0.020632043474779815\n",
            "x : 0.02393369895547562\n",
            "y : 0.1936137622301327\n",
            "z : 0.028432144521850482\n",
            "volume : 0.11982128673149194\n"
          ]
        },
        {
          "output_type": "display_data",
          "data": {
            "text/plain": [
              "<Figure size 800x800 with 1 Axes>"
            ],
            "image/png": "[encoded data removed]"
          },
          "metadata": {}
        }
      ]
    },
    {
      "cell_type": "markdown",
      "source": [
        "#### Hyperparameter tuning"
      ],
      "metadata": {
        "id": "r5L2-Ng0_nN2"
      }
    },
    {
      "cell_type": "code",
      "source": [
        "params = {\n",
        "    'model__criterion': ['gini', 'entropy'],\n",
        "    'model__max_depth': [5, 10, 15, 20, 25, 30, 35, 40]\n",
        "}"
      ],
      "metadata": {
        "id": "NHNcPzxm-jQD"
      },
      "execution_count": null,
      "outputs": []
    },
    {
      "cell_type": "code",
      "source": [
        "grid = GridSearchCV(dtc, param_grid=params, scoring='accuracy', cv=3, verbose=4)"
      ],
      "metadata": {
        "id": "xSOB4K-AhRxC"
      },
      "execution_count": null,
      "outputs": []
    },
    {
      "cell_type": "code",
      "source": [
        "grid.fit(X_train, y_train)"
      ],
      "metadata": {
        "id": "UUqiq61ah-N_",
        "colab": {
          "base_uri": "https://localhost:8080/",
          "height": 968
        },
        "outputId": "770ae885-aa32-40f4-8303-a6b3e3be40a8"
      },
      "execution_count": null,
      "outputs": [
        {
          "output_type": "stream",
          "name": "stdout",
          "text": [
            "Fitting 3 folds for each of 16 candidates, totalling 48 fits\n",
            "[CV 1/3] END model__criterion=gini, model__max_depth=5;, score=0.885 total time=   0.1s\n",
            "[CV 2/3] END model__criterion=gini, model__max_depth=5;, score=0.853 total time=   0.1s\n",
            "[CV 3/3] END model__criterion=gini, model__max_depth=5;, score=0.891 total time=   0.1s\n",
            "[CV 1/3] END model__criterion=gini, model__max_depth=10;, score=0.929 total time=   0.1s\n",
            "[CV 2/3] END model__criterion=gini, model__max_depth=10;, score=0.926 total time=   0.1s\n",
            "[CV 3/3] END model__criterion=gini, model__max_depth=10;, score=0.928 total time=   0.1s\n",
            "[CV 1/3] END model__criterion=gini, model__max_depth=15;, score=0.932 total time=   0.2s\n",
            "[CV 2/3] END model__criterion=gini, model__max_depth=15;, score=0.935 total time=   0.1s\n",
            "[CV 3/3] END model__criterion=gini, model__max_depth=15;, score=0.933 total time=   0.2s\n",
            "[CV 1/3] END model__criterion=gini, model__max_depth=20;, score=0.929 total time=   0.2s\n",
            "[CV 2/3] END model__criterion=gini, model__max_depth=20;, score=0.934 total time=   0.2s\n",
            "[CV 3/3] END model__criterion=gini, model__max_depth=20;, score=0.930 total time=   0.2s\n",
            "[CV 1/3] END model__criterion=gini, model__max_depth=25;, score=0.929 total time=   0.2s\n",
            "[CV 2/3] END model__criterion=gini, model__max_depth=25;, score=0.934 total time=   0.2s\n",
            "[CV 3/3] END model__criterion=gini, model__max_depth=25;, score=0.930 total time=   0.2s\n",
            "[CV 1/3] END model__criterion=gini, model__max_depth=30;, score=0.928 total time=   0.2s\n",
            "[CV 2/3] END model__criterion=gini, model__max_depth=30;, score=0.935 total time=   0.2s\n",
            "[CV 3/3] END model__criterion=gini, model__max_depth=30;, score=0.930 total time=   0.2s\n",
            "[CV 1/3] END model__criterion=gini, model__max_depth=35;, score=0.929 total time=   0.2s\n",
            "[CV 2/3] END model__criterion=gini, model__max_depth=35;, score=0.933 total time=   0.2s\n",
            "[CV 3/3] END model__criterion=gini, model__max_depth=35;, score=0.929 total time=   0.2s\n",
            "[CV 1/3] END model__criterion=gini, model__max_depth=40;, score=0.929 total time=   0.2s\n",
            "[CV 2/3] END model__criterion=gini, model__max_depth=40;, score=0.933 total time=   0.2s\n",
            "[CV 3/3] END model__criterion=gini, model__max_depth=40;, score=0.929 total time=   0.2s\n",
            "[CV 1/3] END model__criterion=entropy, model__max_depth=5;, score=0.893 total time=   0.1s\n",
            "[CV 2/3] END model__criterion=entropy, model__max_depth=5;, score=0.887 total time=   0.2s\n",
            "[CV 3/3] END model__criterion=entropy, model__max_depth=5;, score=0.897 total time=   0.2s\n",
            "[CV 1/3] END model__criterion=entropy, model__max_depth=10;, score=0.927 total time=   0.2s\n",
            "[CV 2/3] END model__criterion=entropy, model__max_depth=10;, score=0.933 total time=   0.2s\n",
            "[CV 3/3] END model__criterion=entropy, model__max_depth=10;, score=0.929 total time=   0.2s\n",
            "[CV 1/3] END model__criterion=entropy, model__max_depth=15;, score=0.933 total time=   0.2s\n",
            "[CV 2/3] END model__criterion=entropy, model__max_depth=15;, score=0.934 total time=   0.3s\n",
            "[CV 3/3] END model__criterion=entropy, model__max_depth=15;, score=0.932 total time=   0.2s\n",
            "[CV 1/3] END model__criterion=entropy, model__max_depth=20;, score=0.933 total time=   0.3s\n",
            "[CV 2/3] END model__criterion=entropy, model__max_depth=20;, score=0.934 total time=   0.3s\n",
            "[CV 3/3] END model__criterion=entropy, model__max_depth=20;, score=0.930 total time=   0.3s\n",
            "[CV 1/3] END model__criterion=entropy, model__max_depth=25;, score=0.932 total time=   0.3s\n",
            "[CV 2/3] END model__criterion=entropy, model__max_depth=25;, score=0.932 total time=   0.2s\n",
            "[CV 3/3] END model__criterion=entropy, model__max_depth=25;, score=0.930 total time=   0.2s\n",
            "[CV 1/3] END model__criterion=entropy, model__max_depth=30;, score=0.932 total time=   0.2s\n",
            "[CV 2/3] END model__criterion=entropy, model__max_depth=30;, score=0.932 total time=   0.2s\n",
            "[CV 3/3] END model__criterion=entropy, model__max_depth=30;, score=0.931 total time=   0.2s\n",
            "[CV 1/3] END model__criterion=entropy, model__max_depth=35;, score=0.932 total time=   0.2s\n",
            "[CV 2/3] END model__criterion=entropy, model__max_depth=35;, score=0.931 total time=   0.2s\n",
            "[CV 3/3] END model__criterion=entropy, model__max_depth=35;, score=0.931 total time=   0.2s\n",
            "[CV 1/3] END model__criterion=entropy, model__max_depth=40;, score=0.932 total time=   0.2s\n",
            "[CV 2/3] END model__criterion=entropy, model__max_depth=40;, score=0.931 total time=   0.2s\n",
            "[CV 3/3] END model__criterion=entropy, model__max_depth=40;, score=0.931 total time=   0.2s\n"
          ]
        },
        {
          "output_type": "execute_result",
          "data": {
            "text/plain": [
              "GridSearchCV(cv=3,\n",
              "             estimator=Pipeline(steps=[('model',\n",
              "                                        DecisionTreeClassifier(class_weight={'(10000, 15000]': 15.625,\n",
              "                                                                             '(5000, 10000]': 5.649717514124294,\n",
              "                                                                             '15000+': 38.46153846153846,\n",
              "                                                                             '[0, 5000]': 1.366120218579235},\n",
              "                                                               random_state=42))]),\n",
              "             param_grid={'model__criterion': ['gini', 'entropy'],\n",
              "                         'model__max_depth': [5, 10, 15, 20, 25, 30, 35, 40]},\n",
              "             scoring='accuracy', verbose=4)"
            ],
            "text/html": [
              "<style>#sk-container-id-2 {color: black;background-color: white;}#sk-container-id-2 pre{padding: 0;}#sk-container-id-2 div.sk-toggleable {background-color: white;}#sk-container-id-2 label.sk-toggleable__label {cursor: pointer;display: block;width: 100%;margin-bottom: 0;padding: 0.3em;box-sizing: border-box;text-align: center;}#sk-container-id-2 label.sk-toggleable__label-arrow:before {content: \"▸\";float: left;margin-right: 0.25em;color: #696969;}#sk-container-id-2 label.sk-toggleable__label-arrow:hover:before {color: black;}#sk-container-id-2 div.sk-estimator:hover label.sk-toggleable__label-arrow:before {color: black;}#sk-container-id-2 div.sk-toggleable__content {max-height: 0;max-width: 0;overflow: hidden;text-align: left;background-color: #f0f8ff;}#sk-container-id-2 div.sk-toggleable__content pre {margin: 0.2em;color: black;border-radius: 0.25em;background-color: #f0f8ff;}#sk-container-id-2 input.sk-toggleable__control:checked~div.sk-toggleable__content {max-height: 200px;max-width: 100%;overflow: auto;}#sk-container-id-2 input.sk-toggleable__control:checked~label.sk-toggleable__label-arrow:before {content: \"▾\";}#sk-container-id-2 div.sk-estimator input.sk-toggleable__control:checked~label.sk-toggleable__label {background-color: #d4ebff;}#sk-container-id-2 div.sk-label input.sk-toggleable__control:checked~label.sk-toggleable__label {background-color: #d4ebff;}#sk-container-id-2 input.sk-hidden--visually {border: 0;clip: rect(1px 1px 1px 1px);clip: rect(1px, 1px, 1px, 1px);height: 1px;margin: -1px;overflow: hidden;padding: 0;position: absolute;width: 1px;}#sk-container-id-2 div.sk-estimator {font-family: monospace;background-color: #f0f8ff;border: 1px dotted black;border-radius: 0.25em;box-sizing: border-box;margin-bottom: 0.5em;}#sk-container-id-2 div.sk-estimator:hover {background-color: #d4ebff;}#sk-container-id-2 div.sk-parallel-item::after {content: \"\";width: 100%;border-bottom: 1px solid gray;flex-grow: 1;}#sk-container-id-2 div.sk-label:hover label.sk-toggleable__label {background-color: #d4ebff;}#sk-container-id-2 div.sk-serial::before {content: \"\";position: absolute;border-left: 1px solid gray;box-sizing: border-box;top: 0;bottom: 0;left: 50%;z-index: 0;}#sk-container-id-2 div.sk-serial {display: flex;flex-direction: column;align-items: center;background-color: white;padding-right: 0.2em;padding-left: 0.2em;position: relative;}#sk-container-id-2 div.sk-item {position: relative;z-index: 1;}#sk-container-id-2 div.sk-parallel {display: flex;align-items: stretch;justify-content: center;background-color: white;position: relative;}#sk-container-id-2 div.sk-item::before, #sk-container-id-2 div.sk-parallel-item::before {content: \"\";position: absolute;border-left: 1px solid gray;box-sizing: border-box;top: 0;bottom: 0;left: 50%;z-index: -1;}#sk-container-id-2 div.sk-parallel-item {display: flex;flex-direction: column;z-index: 1;position: relative;background-color: white;}#sk-container-id-2 div.sk-parallel-item:first-child::after {align-self: flex-end;width: 50%;}#sk-container-id-2 div.sk-parallel-item:last-child::after {align-self: flex-start;width: 50%;}#sk-container-id-2 div.sk-parallel-item:only-child::after {width: 0;}#sk-container-id-2 div.sk-dashed-wrapped {border: 1px dashed gray;margin: 0 0.4em 0.5em 0.4em;box-sizing: border-box;padding-bottom: 0.4em;background-color: white;}#sk-container-id-2 div.sk-label label {font-family: monospace;font-weight: bold;display: inline-block;line-height: 1.2em;}#sk-container-id-2 div.sk-label-container {text-align: center;}#sk-container-id-2 div.sk-container {/* jupyter's `normalize.less` sets `[hidden] { display: none; }` but bootstrap.min.css set `[hidden] { display: none !important; }` so we also need the `!important` here to be able to override the default hidden behavior on the sphinx rendered scikit-learn.org. See: https://github.com/scikit-learn/scikit-learn/issues/21755 */display: inline-block !important;position: relative;}#sk-container-id-2 div.sk-text-repr-fallback {display: none;}</style><div id=\"sk-container-id-2\" class=\"sk-top-container\"><div class=\"sk-text-repr-fallback\"><pre>GridSearchCV(cv=3,\n",
              "             estimator=Pipeline(steps=[(&#x27;model&#x27;,\n",
              "                                        DecisionTreeClassifier(class_weight={&#x27;(10000, 15000]&#x27;: 15.625,\n",
              "                                                                             &#x27;(5000, 10000]&#x27;: 5.649717514124294,\n",
              "                                                                             &#x27;15000+&#x27;: 38.46153846153846,\n",
              "                                                                             &#x27;[0, 5000]&#x27;: 1.366120218579235},\n",
              "                                                               random_state=42))]),\n",
              "             param_grid={&#x27;model__criterion&#x27;: [&#x27;gini&#x27;, &#x27;entropy&#x27;],\n",
              "                         &#x27;model__max_depth&#x27;: [5, 10, 15, 20, 25, 30, 35, 40]},\n",
              "             scoring=&#x27;accuracy&#x27;, verbose=4)</pre><b>In a Jupyter environment, please rerun this cell to show the HTML representation or trust the notebook. <br />On GitHub, the HTML representation is unable to render, please try loading this page with nbviewer.org.</b></div><div class=\"sk-container\" hidden><div class=\"sk-item sk-dashed-wrapped\"><div class=\"sk-label-container\"><div class=\"sk-label sk-toggleable\"><input class=\"sk-toggleable__control sk-hidden--visually\" id=\"sk-estimator-id-3\" type=\"checkbox\" ><label for=\"sk-estimator-id-3\" class=\"sk-toggleable__label sk-toggleable__label-arrow\">GridSearchCV</label><div class=\"sk-toggleable__content\"><pre>GridSearchCV(cv=3,\n",
              "             estimator=Pipeline(steps=[(&#x27;model&#x27;,\n",
              "                                        DecisionTreeClassifier(class_weight={&#x27;(10000, 15000]&#x27;: 15.625,\n",
              "                                                                             &#x27;(5000, 10000]&#x27;: 5.649717514124294,\n",
              "                                                                             &#x27;15000+&#x27;: 38.46153846153846,\n",
              "                                                                             &#x27;[0, 5000]&#x27;: 1.366120218579235},\n",
              "                                                               random_state=42))]),\n",
              "             param_grid={&#x27;model__criterion&#x27;: [&#x27;gini&#x27;, &#x27;entropy&#x27;],\n",
              "                         &#x27;model__max_depth&#x27;: [5, 10, 15, 20, 25, 30, 35, 40]},\n",
              "             scoring=&#x27;accuracy&#x27;, verbose=4)</pre></div></div></div><div class=\"sk-parallel\"><div class=\"sk-parallel-item\"><div class=\"sk-item\"><div class=\"sk-label-container\"><div class=\"sk-label sk-toggleable\"><input class=\"sk-toggleable__control sk-hidden--visually\" id=\"sk-estimator-id-4\" type=\"checkbox\" ><label for=\"sk-estimator-id-4\" class=\"sk-toggleable__label sk-toggleable__label-arrow\">estimator: Pipeline</label><div class=\"sk-toggleable__content\"><pre>Pipeline(steps=[(&#x27;model&#x27;,\n",
              "                 DecisionTreeClassifier(class_weight={&#x27;(10000, 15000]&#x27;: 15.625,\n",
              "                                                      &#x27;(5000, 10000]&#x27;: 5.649717514124294,\n",
              "                                                      &#x27;15000+&#x27;: 38.46153846153846,\n",
              "                                                      &#x27;[0, 5000]&#x27;: 1.366120218579235},\n",
              "                                        random_state=42))])</pre></div></div></div><div class=\"sk-serial\"><div class=\"sk-item\"><div class=\"sk-serial\"><div class=\"sk-item\"><div class=\"sk-estimator sk-toggleable\"><input class=\"sk-toggleable__control sk-hidden--visually\" id=\"sk-estimator-id-5\" type=\"checkbox\" ><label for=\"sk-estimator-id-5\" class=\"sk-toggleable__label sk-toggleable__label-arrow\">DecisionTreeClassifier</label><div class=\"sk-toggleable__content\"><pre>DecisionTreeClassifier(class_weight={&#x27;(10000, 15000]&#x27;: 15.625,\n",
              "                                     &#x27;(5000, 10000]&#x27;: 5.649717514124294,\n",
              "                                     &#x27;15000+&#x27;: 38.46153846153846,\n",
              "                                     &#x27;[0, 5000]&#x27;: 1.366120218579235},\n",
              "                       random_state=42)</pre></div></div></div></div></div></div></div></div></div></div></div></div>"
            ]
          },
          "metadata": {},
          "execution_count": 22
        }
      ]
    },
    {
      "cell_type": "code",
      "source": [
        "grid.best_params_"
      ],
      "metadata": {
        "id": "R6t2kN0BiPbQ",
        "colab": {
          "base_uri": "https://localhost:8080/"
        },
        "outputId": "bd0978a3-241e-48ff-d2df-6ba7614be965"
      },
      "execution_count": null,
      "outputs": [
        {
          "output_type": "execute_result",
          "data": {
            "text/plain": [
              "{'model__criterion': 'gini', 'model__max_depth': 15}"
            ]
          },
          "metadata": {},
          "execution_count": 23
        }
      ]
    },
    {
      "cell_type": "code",
      "source": [
        "dtc_cv = grid.best_estimator_"
      ],
      "metadata": {
        "id": "7AHycrAojS33"
      },
      "execution_count": null,
      "outputs": []
    },
    {
      "cell_type": "code",
      "source": [
        "model_report(dtc_cv, X_test, y_test)"
      ],
      "metadata": {
        "id": "vxj1Kq-7isqW",
        "colab": {
          "base_uri": "https://localhost:8080/",
          "height": 853
        },
        "outputId": "60e756e1-f232-4384-f717-2805ec5a0112"
      },
      "execution_count": null,
      "outputs": [
        {
          "output_type": "stream",
          "name": "stdout",
          "text": [
            "Izvestaj o DecisionTreeClassifier modelu:\n",
            "-------------------------------------------------------------------\n",
            "Klase za predvidjanje: ['[0, 5000]', '(5000, 10000]', '(10000, 15000]', '15000+']\n",
            "Accuracy: 0.936811261863813\n",
            "-------------------------------------------------------------------\n",
            "Klasifikacioni izvestaj: \n",
            "                precision    recall  f1-score   support\n",
            "\n",
            "(10000, 15000]       0.77      0.79      0.78      1018\n",
            " (5000, 10000]       0.83      0.88      0.86      2802\n",
            "        15000+       0.77      0.85      0.81       409\n",
            "     [0, 5000]       0.99      0.97      0.98     11470\n",
            "\n",
            "      accuracy                           0.94     15699\n",
            "     macro avg       0.84      0.87      0.85     15699\n",
            "  weighted avg       0.94      0.94      0.94     15699\n",
            "\n",
            "-------------------------------------------------------------------\n",
            "Matrica konfuzije: \n"
          ]
        },
        {
          "output_type": "display_data",
          "data": {
            "text/plain": [
              "<Figure size 640x480 with 2 Axes>"
            ],
            "image/png": "[encoded data removed]"
          },
          "metadata": {}
        }
      ]
    },
    {
      "cell_type": "code",
      "source": [
        "feature_importance(dtc_cv)"
      ],
      "metadata": {
        "colab": {
          "base_uri": "https://localhost:8080/",
          "height": 873
        },
        "id": "xPYKqE2xLoh4",
        "outputId": "8f1e354a-ee71-4240-a2a7-63a3a8890454"
      },
      "execution_count": null,
      "outputs": [
        {
          "output_type": "stream",
          "name": "stdout",
          "text": [
            "carat : 0.335733691525051\n",
            "clarity : 0.14221001966894078\n",
            "color : 0.1163195720198345\n",
            "cut : 0.012243414803616758\n",
            "depth : 0.026317240599934618\n",
            "table : 0.015089585354077565\n",
            "x : 0.018044540593927696\n",
            "y : 0.1948199327694283\n",
            "z : 0.022758446359419128\n",
            "volume : 0.11646355630576956\n"
          ]
        },
        {
          "output_type": "display_data",
          "data": {
            "text/plain": [
              "<Figure size 800x800 with 1 Axes>"
            ],
            "image/png": "[encoded data removed]"
          },
          "metadata": {}
        }
      ]
    },
    {
      "cell_type": "markdown",
      "source": [
        "***"
      ],
      "metadata": {
        "id": "5Cn9-h60j_2T"
      }
    },
    {
      "cell_type": "markdown",
      "source": [
        "### Now with PCA"
      ],
      "metadata": {
        "id": "r3xLmH0kmi__"
      }
    },
    {
      "cell_type": "code",
      "source": [
        "pca = PCA()\n",
        "\n",
        "X_train_pca = pca.fit_transform(X_train)\n",
        "\n",
        "plt.figure()\n",
        "plt.plot(np.cumsum(pca.explained_variance_ratio_), marker='o')\n",
        "plt.xlabel('Broj komponenti')\n",
        "plt.ylabel('Cumsum')\n",
        "plt.show()"
      ],
      "metadata": {
        "id": "WVOyk_xSmU4X",
        "colab": {
          "base_uri": "https://localhost:8080/",
          "height": 449
        },
        "outputId": "666717eb-c53c-479d-e133-5bc27ca14cb9"
      },
      "execution_count": null,
      "outputs": [
        {
          "output_type": "display_data",
          "data": {
            "text/plain": [
              "<Figure size 640x480 with 1 Axes>"
            ],
            "image/png": "[encoded data removed]"
          },
          "metadata": {}
        }
      ]
    },
    {
      "cell_type": "code",
      "source": [
        "dtc_pca = Pipeline([\n",
        "    ('pca', PCA()),\n",
        "    ('model', DecisionTreeClassifier(random_state = 42, class_weight = class_weights) )\n",
        "])"
      ],
      "metadata": {
        "id": "30pDsnpCnJE2"
      },
      "execution_count": null,
      "outputs": []
    },
    {
      "cell_type": "code",
      "source": [
        "params = {\n",
        "    'pca__n_components' : [2, 3, 4],\n",
        "    'model__criterion' : ['gini', 'entropy'],\n",
        "    'model__max_depth' : [5, 10, 15, 20, 25, 30, 35, 40]\n",
        "}"
      ],
      "metadata": {
        "id": "wA1lQs0HNp9k"
      },
      "execution_count": null,
      "outputs": []
    },
    {
      "cell_type": "code",
      "source": [
        "grid = GridSearchCV(dtc_pca, param_grid=params, scoring='accuracy', cv=3, verbose=4)"
      ],
      "metadata": {
        "id": "RQc-82rjO5T6"
      },
      "execution_count": null,
      "outputs": []
    },
    {
      "cell_type": "code",
      "source": [
        "grid.fit(X_train, y_train)"
      ],
      "metadata": {
        "colab": {
          "base_uri": "https://localhost:8080/",
          "height": 1000
        },
        "id": "dM7b_rj1PVUq",
        "outputId": "7f9718cf-109b-43b5-fd86-58f1cc5add2e"
      },
      "execution_count": null,
      "outputs": [
        {
          "output_type": "stream",
          "name": "stdout",
          "text": [
            "Fitting 3 folds for each of 48 candidates, totalling 144 fits\n",
            "[CV 1/3] END model__criterion=gini, model__max_depth=5, pca__n_components=2;, score=0.504 total time=   0.2s\n",
            "[CV 2/3] END model__criterion=gini, model__max_depth=5, pca__n_components=2;, score=0.505 total time=   0.3s\n",
            "[CV 3/3] END model__criterion=gini, model__max_depth=5, pca__n_components=2;, score=0.494 total time=   0.3s\n",
            "[CV 1/3] END model__criterion=gini, model__max_depth=5, pca__n_components=3;, score=0.476 total time=   0.3s\n",
            "[CV 2/3] END model__criterion=gini, model__max_depth=5, pca__n_components=3;, score=0.505 total time=   0.3s\n",
            "[CV 3/3] END model__criterion=gini, model__max_depth=5, pca__n_components=3;, score=0.417 total time=   0.3s\n",
            "[CV 1/3] END model__criterion=gini, model__max_depth=5, pca__n_components=4;, score=0.907 total time=   0.3s\n",
            "[CV 2/3] END model__criterion=gini, model__max_depth=5, pca__n_components=4;, score=0.906 total time=   0.3s\n",
            "[CV 3/3] END model__criterion=gini, model__max_depth=5, pca__n_components=4;, score=0.920 total time=   0.3s\n",
            "[CV 1/3] END model__criterion=gini, model__max_depth=10, pca__n_components=2;, score=0.588 total time=   0.3s\n",
            "[CV 2/3] END model__criterion=gini, model__max_depth=10, pca__n_components=2;, score=0.652 total time=   0.3s\n",
            "[CV 3/3] END model__criterion=gini, model__max_depth=10, pca__n_components=2;, score=0.655 total time=   0.3s\n",
            "[CV 1/3] END model__criterion=gini, model__max_depth=10, pca__n_components=3;, score=0.681 total time=   0.3s\n",
            "[CV 2/3] END model__criterion=gini, model__max_depth=10, pca__n_components=3;, score=0.649 total time=   0.3s\n",
            "[CV 3/3] END model__criterion=gini, model__max_depth=10, pca__n_components=3;, score=0.589 total time=   0.3s\n",
            "[CV 1/3] END model__criterion=gini, model__max_depth=10, pca__n_components=4;, score=0.930 total time=   0.3s\n",
            "[CV 2/3] END model__criterion=gini, model__max_depth=10, pca__n_components=4;, score=0.932 total time=   0.4s\n",
            "[CV 3/3] END model__criterion=gini, model__max_depth=10, pca__n_components=4;, score=0.930 total time=   0.3s\n",
            "[CV 1/3] END model__criterion=gini, model__max_depth=15, pca__n_components=2;, score=0.832 total time=   0.3s\n",
            "[CV 2/3] END model__criterion=gini, model__max_depth=15, pca__n_components=2;, score=0.846 total time=   0.3s\n",
            "[CV 3/3] END model__criterion=gini, model__max_depth=15, pca__n_components=2;, score=0.807 total time=   0.3s\n",
            "[CV 1/3] END model__criterion=gini, model__max_depth=15, pca__n_components=3;, score=0.792 total time=   0.3s\n",
            "[CV 2/3] END model__criterion=gini, model__max_depth=15, pca__n_components=3;, score=0.838 total time=   0.3s\n",
            "[CV 3/3] END model__criterion=gini, model__max_depth=15, pca__n_components=3;, score=0.789 total time=   0.5s\n",
            "[CV 1/3] END model__criterion=gini, model__max_depth=15, pca__n_components=4;, score=0.935 total time=   0.5s\n",
            "[CV 2/3] END model__criterion=gini, model__max_depth=15, pca__n_components=4;, score=0.937 total time=   0.5s\n",
            "[CV 3/3] END model__criterion=gini, model__max_depth=15, pca__n_components=4;, score=0.935 total time=   0.5s\n",
            "[CV 1/3] END model__criterion=gini, model__max_depth=20, pca__n_components=2;, score=0.920 total time=   0.4s\n",
            "[CV 2/3] END model__criterion=gini, model__max_depth=20, pca__n_components=2;, score=0.925 total time=   0.4s\n",
            "[CV 3/3] END model__criterion=gini, model__max_depth=20, pca__n_components=2;, score=0.869 total time=   0.3s\n",
            "[CV 1/3] END model__criterion=gini, model__max_depth=20, pca__n_components=3;, score=0.902 total time=   0.4s\n",
            "[CV 2/3] END model__criterion=gini, model__max_depth=20, pca__n_components=3;, score=0.922 total time=   0.4s\n",
            "[CV 3/3] END model__criterion=gini, model__max_depth=20, pca__n_components=3;, score=0.893 total time=   0.4s\n",
            "[CV 1/3] END model__criterion=gini, model__max_depth=20, pca__n_components=4;, score=0.932 total time=   0.4s\n",
            "[CV 2/3] END model__criterion=gini, model__max_depth=20, pca__n_components=4;, score=0.937 total time=   0.4s\n",
            "[CV 3/3] END model__criterion=gini, model__max_depth=20, pca__n_components=4;, score=0.935 total time=   0.4s\n",
            "[CV 1/3] END model__criterion=gini, model__max_depth=25, pca__n_components=2;, score=0.927 total time=   0.3s\n",
            "[CV 2/3] END model__criterion=gini, model__max_depth=25, pca__n_components=2;, score=0.931 total time=   0.3s\n",
            "[CV 3/3] END model__criterion=gini, model__max_depth=25, pca__n_components=2;, score=0.898 total time=   0.3s\n",
            "[CV 1/3] END model__criterion=gini, model__max_depth=25, pca__n_components=3;, score=0.915 total time=   0.3s\n",
            "[CV 2/3] END model__criterion=gini, model__max_depth=25, pca__n_components=3;, score=0.930 total time=   0.4s\n",
            "[CV 3/3] END model__criterion=gini, model__max_depth=25, pca__n_components=3;, score=0.917 total time=   0.4s\n",
            "[CV 1/3] END model__criterion=gini, model__max_depth=25, pca__n_components=4;, score=0.932 total time=   0.4s\n",
            "[CV 2/3] END model__criterion=gini, model__max_depth=25, pca__n_components=4;, score=0.935 total time=   0.4s\n",
            "[CV 3/3] END model__criterion=gini, model__max_depth=25, pca__n_components=4;, score=0.935 total time=   0.3s\n",
            "[CV 1/3] END model__criterion=gini, model__max_depth=30, pca__n_components=2;, score=0.926 total time=   0.3s\n",
            "[CV 2/3] END model__criterion=gini, model__max_depth=30, pca__n_components=2;, score=0.931 total time=   0.3s\n",
            "[CV 3/3] END model__criterion=gini, model__max_depth=30, pca__n_components=2;, score=0.919 total time=   0.3s\n",
            "[CV 1/3] END model__criterion=gini, model__max_depth=30, pca__n_components=3;, score=0.924 total time=   0.3s\n",
            "[CV 2/3] END model__criterion=gini, model__max_depth=30, pca__n_components=3;, score=0.931 total time=   0.3s\n",
            "[CV 3/3] END model__criterion=gini, model__max_depth=30, pca__n_components=3;, score=0.925 total time=   0.4s\n",
            "[CV 1/3] END model__criterion=gini, model__max_depth=30, pca__n_components=4;, score=0.932 total time=   0.3s\n",
            "[CV 2/3] END model__criterion=gini, model__max_depth=30, pca__n_components=4;, score=0.934 total time=   0.4s\n",
            "[CV 3/3] END model__criterion=gini, model__max_depth=30, pca__n_components=4;, score=0.935 total time=   0.4s\n",
            "[CV 1/3] END model__criterion=gini, model__max_depth=35, pca__n_components=2;, score=0.927 total time=   0.3s\n",
            "[CV 2/3] END model__criterion=gini, model__max_depth=35, pca__n_components=2;, score=0.930 total time=   0.3s\n",
            "[CV 3/3] END model__criterion=gini, model__max_depth=35, pca__n_components=2;, score=0.927 total time=   0.3s\n",
            "[CV 1/3] END model__criterion=gini, model__max_depth=35, pca__n_components=3;, score=0.927 total time=   0.4s\n",
            "[CV 2/3] END model__criterion=gini, model__max_depth=35, pca__n_components=3;, score=0.932 total time=   0.8s\n",
            "[CV 3/3] END model__criterion=gini, model__max_depth=35, pca__n_components=3;, score=0.925 total time=   1.1s\n",
            "[CV 1/3] END model__criterion=gini, model__max_depth=35, pca__n_components=4;, score=0.932 total time=   1.2s\n",
            "[CV 2/3] END model__criterion=gini, model__max_depth=35, pca__n_components=4;, score=0.934 total time=   0.8s\n",
            "[CV 3/3] END model__criterion=gini, model__max_depth=35, pca__n_components=4;, score=0.935 total time=   0.6s\n",
            "[CV 1/3] END model__criterion=gini, model__max_depth=40, pca__n_components=2;, score=0.927 total time=   0.4s\n",
            "[CV 2/3] END model__criterion=gini, model__max_depth=40, pca__n_components=2;, score=0.930 total time=   0.5s\n",
            "[CV 3/3] END model__criterion=gini, model__max_depth=40, pca__n_components=2;, score=0.926 total time=   0.7s\n",
            "[CV 1/3] END model__criterion=gini, model__max_depth=40, pca__n_components=3;, score=0.926 total time=   0.7s\n",
            "[CV 2/3] END model__criterion=gini, model__max_depth=40, pca__n_components=3;, score=0.932 total time=   0.6s\n",
            "[CV 3/3] END model__criterion=gini, model__max_depth=40, pca__n_components=3;, score=0.925 total time=   0.6s\n",
            "[CV 1/3] END model__criterion=gini, model__max_depth=40, pca__n_components=4;, score=0.932 total time=   0.5s\n",
            "[CV 2/3] END model__criterion=gini, model__max_depth=40, pca__n_components=4;, score=0.934 total time=   0.5s\n",
            "[CV 3/3] END model__criterion=gini, model__max_depth=40, pca__n_components=4;, score=0.935 total time=   0.6s\n",
            "[CV 1/3] END model__criterion=entropy, model__max_depth=5, pca__n_components=2;, score=0.484 total time=   0.4s\n",
            "[CV 2/3] END model__criterion=entropy, model__max_depth=5, pca__n_components=2;, score=0.439 total time=   0.4s\n",
            "[CV 3/3] END model__criterion=entropy, model__max_depth=5, pca__n_components=2;, score=0.461 total time=   0.4s\n",
            "[CV 1/3] END model__criterion=entropy, model__max_depth=5, pca__n_components=3;, score=0.511 total time=   0.5s\n",
            "[CV 2/3] END model__criterion=entropy, model__max_depth=5, pca__n_components=3;, score=0.376 total time=   0.6s\n",
            "[CV 3/3] END model__criterion=entropy, model__max_depth=5, pca__n_components=3;, score=0.384 total time=   0.6s\n",
            "[CV 1/3] END model__criterion=entropy, model__max_depth=5, pca__n_components=4;, score=0.888 total time=   0.7s\n",
            "[CV 2/3] END model__criterion=entropy, model__max_depth=5, pca__n_components=4;, score=0.876 total time=   1.0s\n",
            "[CV 3/3] END model__criterion=entropy, model__max_depth=5, pca__n_components=4;, score=0.923 total time=   1.6s\n",
            "[CV 1/3] END model__criterion=entropy, model__max_depth=10, pca__n_components=2;, score=0.632 total time=   1.0s\n",
            "[CV 2/3] END model__criterion=entropy, model__max_depth=10, pca__n_components=2;, score=0.725 total time=   0.7s\n",
            "[CV 3/3] END model__criterion=entropy, model__max_depth=10, pca__n_components=2;, score=0.629 total time=   0.7s\n",
            "[CV 1/3] END model__criterion=entropy, model__max_depth=10, pca__n_components=3;, score=0.644 total time=   0.6s\n",
            "[CV 2/3] END model__criterion=entropy, model__max_depth=10, pca__n_components=3;, score=0.680 total time=   0.7s\n",
            "[CV 3/3] END model__criterion=entropy, model__max_depth=10, pca__n_components=3;, score=0.561 total time=   0.5s\n",
            "[CV 1/3] END model__criterion=entropy, model__max_depth=10, pca__n_components=4;, score=0.932 total time=   0.7s\n",
            "[CV 2/3] END model__criterion=entropy, model__max_depth=10, pca__n_components=4;, score=0.931 total time=   0.5s\n",
            "[CV 3/3] END model__criterion=entropy, model__max_depth=10, pca__n_components=4;, score=0.931 total time=   0.7s\n",
            "[CV 1/3] END model__criterion=entropy, model__max_depth=15, pca__n_components=2;, score=0.857 total time=   0.7s\n",
            "[CV 2/3] END model__criterion=entropy, model__max_depth=15, pca__n_components=2;, score=0.914 total time=   0.6s\n",
            "[CV 3/3] END model__criterion=entropy, model__max_depth=15, pca__n_components=2;, score=0.795 total time=   0.5s\n",
            "[CV 1/3] END model__criterion=entropy, model__max_depth=15, pca__n_components=3;, score=0.841 total time=   0.4s\n",
            "[CV 2/3] END model__criterion=entropy, model__max_depth=15, pca__n_components=3;, score=0.883 total time=   0.4s\n",
            "[CV 3/3] END model__criterion=entropy, model__max_depth=15, pca__n_components=3;, score=0.782 total time=   0.4s\n",
            "[CV 1/3] END model__criterion=entropy, model__max_depth=15, pca__n_components=4;, score=0.934 total time=   0.3s\n",
            "[CV 2/3] END model__criterion=entropy, model__max_depth=15, pca__n_components=4;, score=0.935 total time=   0.4s\n",
            "[CV 3/3] END model__criterion=entropy, model__max_depth=15, pca__n_components=4;, score=0.931 total time=   0.4s\n",
            "[CV 1/3] END model__criterion=entropy, model__max_depth=20, pca__n_components=2;, score=0.913 total time=   0.4s\n",
            "[CV 2/3] END model__criterion=entropy, model__max_depth=20, pca__n_components=2;, score=0.932 total time=   0.3s\n",
            "[CV 3/3] END model__criterion=entropy, model__max_depth=20, pca__n_components=2;, score=0.873 total time=   0.5s\n",
            "[CV 1/3] END model__criterion=entropy, model__max_depth=20, pca__n_components=3;, score=0.884 total time=   0.6s\n",
            "[CV 2/3] END model__criterion=entropy, model__max_depth=20, pca__n_components=3;, score=0.924 total time=   0.6s\n",
            "[CV 3/3] END model__criterion=entropy, model__max_depth=20, pca__n_components=3;, score=0.861 total time=   0.7s\n",
            "[CV 1/3] END model__criterion=entropy, model__max_depth=20, pca__n_components=4;, score=0.934 total time=   0.5s\n",
            "[CV 2/3] END model__criterion=entropy, model__max_depth=20, pca__n_components=4;, score=0.936 total time=   0.4s\n",
            "[CV 3/3] END model__criterion=entropy, model__max_depth=20, pca__n_components=4;, score=0.933 total time=   0.3s\n",
            "[CV 1/3] END model__criterion=entropy, model__max_depth=25, pca__n_components=2;, score=0.927 total time=   0.4s\n",
            "[CV 2/3] END model__criterion=entropy, model__max_depth=25, pca__n_components=2;, score=0.932 total time=   0.3s\n",
            "[CV 3/3] END model__criterion=entropy, model__max_depth=25, pca__n_components=2;, score=0.922 total time=   0.4s\n",
            "[CV 1/3] END model__criterion=entropy, model__max_depth=25, pca__n_components=3;, score=0.914 total time=   0.5s\n",
            "[CV 2/3] END model__criterion=entropy, model__max_depth=25, pca__n_components=3;, score=0.930 total time=   0.4s\n",
            "[CV 3/3] END model__criterion=entropy, model__max_depth=25, pca__n_components=3;, score=0.907 total time=   0.4s\n",
            "[CV 1/3] END model__criterion=entropy, model__max_depth=25, pca__n_components=4;, score=0.933 total time=   0.3s\n",
            "[CV 2/3] END model__criterion=entropy, model__max_depth=25, pca__n_components=4;, score=0.935 total time=   0.3s\n",
            "[CV 3/3] END model__criterion=entropy, model__max_depth=25, pca__n_components=4;, score=0.932 total time=   0.3s\n",
            "[CV 1/3] END model__criterion=entropy, model__max_depth=30, pca__n_components=2;, score=0.929 total time=   0.3s\n",
            "[CV 2/3] END model__criterion=entropy, model__max_depth=30, pca__n_components=2;, score=0.932 total time=   0.4s\n",
            "[CV 3/3] END model__criterion=entropy, model__max_depth=30, pca__n_components=2;, score=0.927 total time=   0.4s\n",
            "[CV 1/3] END model__criterion=entropy, model__max_depth=30, pca__n_components=3;, score=0.925 total time=   0.4s\n",
            "[CV 2/3] END model__criterion=entropy, model__max_depth=30, pca__n_components=3;, score=0.930 total time=   0.4s\n",
            "[CV 3/3] END model__criterion=entropy, model__max_depth=30, pca__n_components=3;, score=0.921 total time=   0.5s\n",
            "[CV 1/3] END model__criterion=entropy, model__max_depth=30, pca__n_components=4;, score=0.933 total time=   0.4s\n",
            "[CV 2/3] END model__criterion=entropy, model__max_depth=30, pca__n_components=4;, score=0.935 total time=   0.4s\n",
            "[CV 3/3] END model__criterion=entropy, model__max_depth=30, pca__n_components=4;, score=0.931 total time=   0.4s\n",
            "[CV 1/3] END model__criterion=entropy, model__max_depth=35, pca__n_components=2;, score=0.930 total time=   0.3s\n",
            "[CV 2/3] END model__criterion=entropy, model__max_depth=35, pca__n_components=2;, score=0.932 total time=   0.3s\n",
            "[CV 3/3] END model__criterion=entropy, model__max_depth=35, pca__n_components=2;, score=0.927 total time=   0.3s\n",
            "[CV 1/3] END model__criterion=entropy, model__max_depth=35, pca__n_components=3;, score=0.925 total time=   0.4s\n",
            "[CV 2/3] END model__criterion=entropy, model__max_depth=35, pca__n_components=3;, score=0.930 total time=   0.4s\n",
            "[CV 3/3] END model__criterion=entropy, model__max_depth=35, pca__n_components=3;, score=0.927 total time=   0.5s\n",
            "[CV 1/3] END model__criterion=entropy, model__max_depth=35, pca__n_components=4;, score=0.933 total time=   0.4s\n",
            "[CV 2/3] END model__criterion=entropy, model__max_depth=35, pca__n_components=4;, score=0.934 total time=   0.6s\n",
            "[CV 3/3] END model__criterion=entropy, model__max_depth=35, pca__n_components=4;, score=0.931 total time=   0.6s\n",
            "[CV 1/3] END model__criterion=entropy, model__max_depth=40, pca__n_components=2;, score=0.930 total time=   0.6s\n",
            "[CV 2/3] END model__criterion=entropy, model__max_depth=40, pca__n_components=2;, score=0.932 total time=   0.5s\n",
            "[CV 3/3] END model__criterion=entropy, model__max_depth=40, pca__n_components=2;, score=0.927 total time=   0.5s\n",
            "[CV 1/3] END model__criterion=entropy, model__max_depth=40, pca__n_components=3;, score=0.926 total time=   0.5s\n",
            "[CV 2/3] END model__criterion=entropy, model__max_depth=40, pca__n_components=3;, score=0.930 total time=   0.5s\n",
            "[CV 3/3] END model__criterion=entropy, model__max_depth=40, pca__n_components=3;, score=0.926 total time=   0.5s\n",
            "[CV 1/3] END model__criterion=entropy, model__max_depth=40, pca__n_components=4;, score=0.933 total time=   0.4s\n",
            "[CV 2/3] END model__criterion=entropy, model__max_depth=40, pca__n_components=4;, score=0.935 total time=   0.4s\n",
            "[CV 3/3] END model__criterion=entropy, model__max_depth=40, pca__n_components=4;, score=0.931 total time=   0.4s\n"
          ]
        },
        {
          "output_type": "execute_result",
          "data": {
            "text/plain": [
              "GridSearchCV(cv=3,\n",
              "             estimator=Pipeline(steps=[('pca', PCA()),\n",
              "                                       ('model',\n",
              "                                        DecisionTreeClassifier(class_weight={'(10000, 15000]': 15.625,\n",
              "                                                                             '(5000, 10000]': 5.649717514124294,\n",
              "                                                                             '15000+': 38.46153846153846,\n",
              "                                                                             '[0, 5000]': 1.366120218579235},\n",
              "                                                               random_state=42))]),\n",
              "             param_grid={'model__criterion': ['gini', 'entropy'],\n",
              "                         'model__max_depth': [5, 10, 15, 20, 25, 30, 35, 40],\n",
              "                         'pca__n_components': [2, 3, 4]},\n",
              "             scoring='accuracy', verbose=4)"
            ],
            "text/html": [
              "<style>#sk-container-id-3 {color: black;background-color: white;}#sk-container-id-3 pre{padding: 0;}#sk-container-id-3 div.sk-toggleable {background-color: white;}#sk-container-id-3 label.sk-toggleable__label {cursor: pointer;display: block;width: 100%;margin-bottom: 0;padding: 0.3em;box-sizing: border-box;text-align: center;}#sk-container-id-3 label.sk-toggleable__label-arrow:before {content: \"▸\";float: left;margin-right: 0.25em;color: #696969;}#sk-container-id-3 label.sk-toggleable__label-arrow:hover:before {color: black;}#sk-container-id-3 div.sk-estimator:hover label.sk-toggleable__label-arrow:before {color: black;}#sk-container-id-3 div.sk-toggleable__content {max-height: 0;max-width: 0;overflow: hidden;text-align: left;background-color: #f0f8ff;}#sk-container-id-3 div.sk-toggleable__content pre {margin: 0.2em;color: black;border-radius: 0.25em;background-color: #f0f8ff;}#sk-container-id-3 input.sk-toggleable__control:checked~div.sk-toggleable__content {max-height: 200px;max-width: 100%;overflow: auto;}#sk-container-id-3 input.sk-toggleable__control:checked~label.sk-toggleable__label-arrow:before {content: \"▾\";}#sk-container-id-3 div.sk-estimator input.sk-toggleable__control:checked~label.sk-toggleable__label {background-color: #d4ebff;}#sk-container-id-3 div.sk-label input.sk-toggleable__control:checked~label.sk-toggleable__label {background-color: #d4ebff;}#sk-container-id-3 input.sk-hidden--visually {border: 0;clip: rect(1px 1px 1px 1px);clip: rect(1px, 1px, 1px, 1px);height: 1px;margin: -1px;overflow: hidden;padding: 0;position: absolute;width: 1px;}#sk-container-id-3 div.sk-estimator {font-family: monospace;background-color: #f0f8ff;border: 1px dotted black;border-radius: 0.25em;box-sizing: border-box;margin-bottom: 0.5em;}#sk-container-id-3 div.sk-estimator:hover {background-color: #d4ebff;}#sk-container-id-3 div.sk-parallel-item::after {content: \"\";width: 100%;border-bottom: 1px solid gray;flex-grow: 1;}#sk-container-id-3 div.sk-label:hover label.sk-toggleable__label {background-color: #d4ebff;}#sk-container-id-3 div.sk-serial::before {content: \"\";position: absolute;border-left: 1px solid gray;box-sizing: border-box;top: 0;bottom: 0;left: 50%;z-index: 0;}#sk-container-id-3 div.sk-serial {display: flex;flex-direction: column;align-items: center;background-color: white;padding-right: 0.2em;padding-left: 0.2em;position: relative;}#sk-container-id-3 div.sk-item {position: relative;z-index: 1;}#sk-container-id-3 div.sk-parallel {display: flex;align-items: stretch;justify-content: center;background-color: white;position: relative;}#sk-container-id-3 div.sk-item::before, #sk-container-id-3 div.sk-parallel-item::before {content: \"\";position: absolute;border-left: 1px solid gray;box-sizing: border-box;top: 0;bottom: 0;left: 50%;z-index: -1;}#sk-container-id-3 div.sk-parallel-item {display: flex;flex-direction: column;z-index: 1;position: relative;background-color: white;}#sk-container-id-3 div.sk-parallel-item:first-child::after {align-self: flex-end;width: 50%;}#sk-container-id-3 div.sk-parallel-item:last-child::after {align-self: flex-start;width: 50%;}#sk-container-id-3 div.sk-parallel-item:only-child::after {width: 0;}#sk-container-id-3 div.sk-dashed-wrapped {border: 1px dashed gray;margin: 0 0.4em 0.5em 0.4em;box-sizing: border-box;padding-bottom: 0.4em;background-color: white;}#sk-container-id-3 div.sk-label label {font-family: monospace;font-weight: bold;display: inline-block;line-height: 1.2em;}#sk-container-id-3 div.sk-label-container {text-align: center;}#sk-container-id-3 div.sk-container {/* jupyter's `normalize.less` sets `[hidden] { display: none; }` but bootstrap.min.css set `[hidden] { display: none !important; }` so we also need the `!important` here to be able to override the default hidden behavior on the sphinx rendered scikit-learn.org. See: https://github.com/scikit-learn/scikit-learn/issues/21755 */display: inline-block !important;position: relative;}#sk-container-id-3 div.sk-text-repr-fallback {display: none;}</style><div id=\"sk-container-id-3\" class=\"sk-top-container\"><div class=\"sk-text-repr-fallback\"><pre>GridSearchCV(cv=3,\n",
              "             estimator=Pipeline(steps=[(&#x27;pca&#x27;, PCA()),\n",
              "                                       (&#x27;model&#x27;,\n",
              "                                        DecisionTreeClassifier(class_weight={&#x27;(10000, 15000]&#x27;: 15.625,\n",
              "                                                                             &#x27;(5000, 10000]&#x27;: 5.649717514124294,\n",
              "                                                                             &#x27;15000+&#x27;: 38.46153846153846,\n",
              "                                                                             &#x27;[0, 5000]&#x27;: 1.366120218579235},\n",
              "                                                               random_state=42))]),\n",
              "             param_grid={&#x27;model__criterion&#x27;: [&#x27;gini&#x27;, &#x27;entropy&#x27;],\n",
              "                         &#x27;model__max_depth&#x27;: [5, 10, 15, 20, 25, 30, 35, 40],\n",
              "                         &#x27;pca__n_components&#x27;: [2, 3, 4]},\n",
              "             scoring=&#x27;accuracy&#x27;, verbose=4)</pre><b>In a Jupyter environment, please rerun this cell to show the HTML representation or trust the notebook. <br />On GitHub, the HTML representation is unable to render, please try loading this page with nbviewer.org.</b></div><div class=\"sk-container\" hidden><div class=\"sk-item sk-dashed-wrapped\"><div class=\"sk-label-container\"><div class=\"sk-label sk-toggleable\"><input class=\"sk-toggleable__control sk-hidden--visually\" id=\"sk-estimator-id-6\" type=\"checkbox\" ><label for=\"sk-estimator-id-6\" class=\"sk-toggleable__label sk-toggleable__label-arrow\">GridSearchCV</label><div class=\"sk-toggleable__content\"><pre>GridSearchCV(cv=3,\n",
              "             estimator=Pipeline(steps=[(&#x27;pca&#x27;, PCA()),\n",
              "                                       (&#x27;model&#x27;,\n",
              "                                        DecisionTreeClassifier(class_weight={&#x27;(10000, 15000]&#x27;: 15.625,\n",
              "                                                                             &#x27;(5000, 10000]&#x27;: 5.649717514124294,\n",
              "                                                                             &#x27;15000+&#x27;: 38.46153846153846,\n",
              "                                                                             &#x27;[0, 5000]&#x27;: 1.366120218579235},\n",
              "                                                               random_state=42))]),\n",
              "             param_grid={&#x27;model__criterion&#x27;: [&#x27;gini&#x27;, &#x27;entropy&#x27;],\n",
              "                         &#x27;model__max_depth&#x27;: [5, 10, 15, 20, 25, 30, 35, 40],\n",
              "                         &#x27;pca__n_components&#x27;: [2, 3, 4]},\n",
              "             scoring=&#x27;accuracy&#x27;, verbose=4)</pre></div></div></div><div class=\"sk-parallel\"><div class=\"sk-parallel-item\"><div class=\"sk-item\"><div class=\"sk-label-container\"><div class=\"sk-label sk-toggleable\"><input class=\"sk-toggleable__control sk-hidden--visually\" id=\"sk-estimator-id-7\" type=\"checkbox\" ><label for=\"sk-estimator-id-7\" class=\"sk-toggleable__label sk-toggleable__label-arrow\">estimator: Pipeline</label><div class=\"sk-toggleable__content\"><pre>Pipeline(steps=[(&#x27;pca&#x27;, PCA()),\n",
              "                (&#x27;model&#x27;,\n",
              "                 DecisionTreeClassifier(class_weight={&#x27;(10000, 15000]&#x27;: 15.625,\n",
              "                                                      &#x27;(5000, 10000]&#x27;: 5.649717514124294,\n",
              "                                                      &#x27;15000+&#x27;: 38.46153846153846,\n",
              "                                                      &#x27;[0, 5000]&#x27;: 1.366120218579235},\n",
              "                                        random_state=42))])</pre></div></div></div><div class=\"sk-serial\"><div class=\"sk-item\"><div class=\"sk-serial\"><div class=\"sk-item\"><div class=\"sk-estimator sk-toggleable\"><input class=\"sk-toggleable__control sk-hidden--visually\" id=\"sk-estimator-id-8\" type=\"checkbox\" ><label for=\"sk-estimator-id-8\" class=\"sk-toggleable__label sk-toggleable__label-arrow\">PCA</label><div class=\"sk-toggleable__content\"><pre>PCA()</pre></div></div></div><div class=\"sk-item\"><div class=\"sk-estimator sk-toggleable\"><input class=\"sk-toggleable__control sk-hidden--visually\" id=\"sk-estimator-id-9\" type=\"checkbox\" ><label for=\"sk-estimator-id-9\" class=\"sk-toggleable__label sk-toggleable__label-arrow\">DecisionTreeClassifier</label><div class=\"sk-toggleable__content\"><pre>DecisionTreeClassifier(class_weight={&#x27;(10000, 15000]&#x27;: 15.625,\n",
              "                                     &#x27;(5000, 10000]&#x27;: 5.649717514124294,\n",
              "                                     &#x27;15000+&#x27;: 38.46153846153846,\n",
              "                                     &#x27;[0, 5000]&#x27;: 1.366120218579235},\n",
              "                       random_state=42)</pre></div></div></div></div></div></div></div></div></div></div></div></div>"
            ]
          },
          "metadata": {},
          "execution_count": 31
        }
      ]
    },
    {
      "cell_type": "code",
      "source": [
        "grid.best_params_"
      ],
      "metadata": {
        "colab": {
          "base_uri": "https://localhost:8080/"
        },
        "id": "JsDbb0eMP-qM",
        "outputId": "2633b21e-58ef-4f7a-ceb7-bf47a15e9aa1"
      },
      "execution_count": null,
      "outputs": [
        {
          "output_type": "execute_result",
          "data": {
            "text/plain": [
              "{'model__criterion': 'gini', 'model__max_depth': 15, 'pca__n_components': 4}"
            ]
          },
          "metadata": {},
          "execution_count": 32
        }
      ]
    },
    {
      "cell_type": "code",
      "source": [
        "dtc_pca_cv = grid.best_estimator_"
      ],
      "metadata": {
        "id": "bQE9Uv6vXHsc"
      },
      "execution_count": null,
      "outputs": []
    },
    {
      "cell_type": "code",
      "source": [
        "model_report(dtc_pca_cv, X_test, y_test)"
      ],
      "metadata": {
        "colab": {
          "base_uri": "https://localhost:8080/",
          "height": 853
        },
        "id": "fqGy18IiP43J",
        "outputId": "0a01c01a-172f-4e25-aa26-78939839ac0d"
      },
      "execution_count": null,
      "outputs": [
        {
          "output_type": "stream",
          "name": "stdout",
          "text": [
            "Izvestaj o DecisionTreeClassifier modelu:\n",
            "-------------------------------------------------------------------\n",
            "Klase za predvidjanje: ['[0, 5000]', '(5000, 10000]', '(10000, 15000]', '15000+']\n",
            "Accuracy: 0.9424167144404102\n",
            "-------------------------------------------------------------------\n",
            "Klasifikacioni izvestaj: \n",
            "                precision    recall  f1-score   support\n",
            "\n",
            "(10000, 15000]       0.78      0.83      0.80      1018\n",
            " (5000, 10000]       0.86      0.89      0.87      2802\n",
            "        15000+       0.75      0.82      0.79       409\n",
            "     [0, 5000]       0.99      0.97      0.98     11470\n",
            "\n",
            "      accuracy                           0.94     15699\n",
            "     macro avg       0.84      0.88      0.86     15699\n",
            "  weighted avg       0.94      0.94      0.94     15699\n",
            "\n",
            "-------------------------------------------------------------------\n",
            "Matrica konfuzije: \n"
          ]
        },
        {
          "output_type": "display_data",
          "data": {
            "text/plain": [
              "<Figure size 640x480 with 2 Axes>"
            ],
            "image/png": "[encoded data removed]"
          },
          "metadata": {}
        }
      ]
    },
    {
      "cell_type": "markdown",
      "source": [
        "***"
      ],
      "metadata": {
        "id": "VYlmCTrnkCOS"
      }
    },
    {
      "cell_type": "markdown",
      "source": [
        "## Results:"
      ],
      "metadata": {
        "id": "0A9EZAC7kGFx"
      }
    },
    {
      "cell_type": "code",
      "source": [
        "model_names = ['dtc', 'dtc_cv', 'dtc_pca_cv']"
      ],
      "metadata": {
        "id": "FSw2xcJsmKkV"
      },
      "execution_count": null,
      "outputs": []
    },
    {
      "cell_type": "code",
      "source": [
        "plt.figure(figsize=(10,10))\n",
        "plt.bar(model_names, accuracy_scores)\n",
        "plt.grid(alpha=0.5)\n",
        "plt.ylim(0.9, 1.0)\n",
        "for i, s in enumerate(accuracy_scores):\n",
        "    plt.text(model_names[i], s, f'{s:.5f}%', ha='center', va='bottom')\n",
        "plt.xlabel('model')\n",
        "plt.ylabel('accuracy(%)')\n",
        "plt.show()"
      ],
      "metadata": {
        "colab": {
          "base_uri": "https://localhost:8080/",
          "height": 855
        },
        "id": "iisaRpKqkRUS",
        "outputId": "213f761f-62c9-4902-9609-3ebe88c863b4"
      },
      "execution_count": null,
      "outputs": [
        {
          "output_type": "display_data",
          "data": {
            "text/plain": [
              "<Figure size 1000x1000 with 1 Axes>"
            ],
            "image/png": "[encoded data removed]"
          },
          "metadata": {}
        }
      ]
    },
    {
      "cell_type": "markdown",
      "source": [
        "S obzirom na rezultate, izabracemo **dtc_pca_cv** kao predstavnika **DecisionTree**"
      ],
      "metadata": {
        "id": "2hK28aVDgrly"
      }
    },
    {
      "cell_type": "code",
      "source": [
        "joblib.dump(dtc_pca_cv, 'DTC.pkl')"
      ],
      "metadata": {
        "colab": {
          "base_uri": "https://localhost:8080/"
        },
        "id": "I6uSlRpagzhx",
        "outputId": "36398cf5-80dd-4d88-8498-f6205b086000"
      },
      "execution_count": null,
      "outputs": [
        {
          "output_type": "execute_result",
          "data": {
            "text/plain": [
              "['DTC.pkl']"
            ]
          },
          "metadata": {},
          "execution_count": 37
        }
      ]
    }
  ]
}