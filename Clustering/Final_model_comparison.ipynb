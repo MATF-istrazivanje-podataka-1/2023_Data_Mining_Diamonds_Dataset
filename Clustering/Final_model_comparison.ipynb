{
  "nbformat": 4,
  "nbformat_minor": 0,
  "metadata": {
    "colab": {
      "provenance": []
    },
    "kernelspec": {
      "name": "python3",
      "display_name": "Python 3"
    },
    "language_info": {
      "name": "python"
    }
  },
  "cells": [
    {
      "cell_type": "code",
      "source": [
        "!pip install kmodes"
      ],
      "metadata": {
        "colab": {
          "base_uri": "https://localhost:8080/"
        },
        "id": "kBiAg687TmQ2",
        "outputId": "5cbd7e09-6974-4e46-f2fc-575678d24f0f"
      },
      "execution_count": 16,
      "outputs": [
        {
          "output_type": "stream",
          "name": "stdout",
          "text": [
            "Looking in indexes: https://pypi.org/simple, https://us-python.pkg.dev/colab-wheels/public/simple/\n",
            "Requirement already satisfied: kmodes in /usr/local/lib/python3.10/dist-packages (0.12.2)\n",
            "Requirement already satisfied: numpy>=1.10.4 in /usr/local/lib/python3.10/dist-packages (from kmodes) (1.22.4)\n",
            "Requirement already satisfied: scikit-learn>=0.22.0 in /usr/local/lib/python3.10/dist-packages (from kmodes) (1.2.2)\n",
            "Requirement already satisfied: scipy>=0.13.3 in /usr/local/lib/python3.10/dist-packages (from kmodes) (1.10.1)\n",
            "Requirement already satisfied: joblib>=0.11 in /usr/local/lib/python3.10/dist-packages (from kmodes) (1.2.0)\n",
            "Requirement already satisfied: threadpoolctl>=2.0.0 in /usr/local/lib/python3.10/dist-packages (from scikit-learn>=0.22.0->kmodes) (3.1.0)\n"
          ]
        }
      ]
    },
    {
      "cell_type": "code",
      "execution_count": 17,
      "metadata": {
        "id": "ccerxJOBTHR-"
      },
      "outputs": [],
      "source": [
        "import pandas as pd\n",
        "import numpy as np\n",
        "import tensorflow as tf\n",
        "from matplotlib import pyplot as plt\n",
        "from sklearn.preprocessing import MinMaxScaler\n",
        "from sklearn.metrics import silhouette_samples, silhouette_score\n",
        "import joblib"
      ]
    },
    {
      "cell_type": "code",
      "source": [
        "diamonds = pd.read_csv('diamonds_original.csv')"
      ],
      "metadata": {
        "id": "uNjQfv-IT2lI"
      },
      "execution_count": 18,
      "outputs": []
    },
    {
      "cell_type": "code",
      "source": [
        "diamonds"
      ],
      "metadata": {
        "id": "Qx5zeUWvU3td",
        "colab": {
          "base_uri": "https://localhost:8080/",
          "height": 424
        },
        "outputId": "44e9f496-7bee-401b-990c-37f920310851"
      },
      "execution_count": 19,
      "outputs": [
        {
          "output_type": "execute_result",
          "data": {
            "text/plain": [
              "       carat  clarity  color  cut  depth  table     x     y     z  \\\n",
              "0       1.26        2      4    2   60.6   60.0  6.97  7.00  4.23   \n",
              "1       0.80        3      4    4   62.1   54.0  5.96  5.99  3.71   \n",
              "2       0.56        4      2    4   61.7   54.0  5.28  5.32  3.27   \n",
              "3       1.51        3      6    1   64.0   58.0  7.24  7.27  4.64   \n",
              "4       0.33        6      5    4   62.2   54.0  4.43  4.45  2.76   \n",
              "...      ...      ...    ...  ...    ...    ...   ...   ...   ...   \n",
              "52325   1.02        2      4    2   62.9   59.0  6.38  6.41  4.02   \n",
              "52326   0.93        2      4    3   61.8   59.0  6.27  6.23  3.86   \n",
              "52327   0.30        4      5    4   62.4   54.0  4.30  4.32  2.69   \n",
              "52328   0.36        3      2    4   61.5   55.0  4.60  4.57  2.82   \n",
              "52329   0.70        1      2    2   60.7   58.0  5.73  5.77  3.49   \n",
              "\n",
              "               class      volume  \n",
              "0      (5000, 10000]  206.381695  \n",
              "1          [0, 5000]  132.448481  \n",
              "2          [0, 5000]   91.852998  \n",
              "3      (5000, 10000]  244.225457  \n",
              "4          [0, 5000]   54.409255  \n",
              "...              ...         ...  \n",
              "52325      [0, 5000]  164.401114  \n",
              "52326      [0, 5000]  150.779702  \n",
              "52327      [0, 5000]   49.969445  \n",
              "52328      [0, 5000]   59.282040  \n",
              "52329      [0, 5000]  115.386729  \n",
              "\n",
              "[52330 rows x 11 columns]"
            ],
            "text/html": [
              "\n",
              "  <div id=\"df-cc363087-1db0-46dc-8ec5-d47d79c78fbf\">\n",
              "    <div class=\"colab-df-container\">\n",
              "      <div>\n",
              "<style scoped>\n",
              "    .dataframe tbody tr th:only-of-type {\n",
              "        vertical-align: middle;\n",
              "    }\n",
              "\n",
              "    .dataframe tbody tr th {\n",
              "        vertical-align: top;\n",
              "    }\n",
              "\n",
              "    .dataframe thead th {\n",
              "        text-align: right;\n",
              "    }\n",
              "</style>\n",
              "<table border=\"1\" class=\"dataframe\">\n",
              "  <thead>\n",
              "    <tr style=\"text-align: right;\">\n",
              "      <th></th>\n",
              "      <th>carat</th>\n",
              "      <th>clarity</th>\n",
              "      <th>color</th>\n",
              "      <th>cut</th>\n",
              "      <th>depth</th>\n",
              "      <th>table</th>\n",
              "      <th>x</th>\n",
              "      <th>y</th>\n",
              "      <th>z</th>\n",
              "      <th>class</th>\n",
              "      <th>volume</th>\n",
              "    </tr>\n",
              "  </thead>\n",
              "  <tbody>\n",
              "    <tr>\n",
              "      <th>0</th>\n",
              "      <td>1.26</td>\n",
              "      <td>2</td>\n",
              "      <td>4</td>\n",
              "      <td>2</td>\n",
              "      <td>60.6</td>\n",
              "      <td>60.0</td>\n",
              "      <td>6.97</td>\n",
              "      <td>7.00</td>\n",
              "      <td>4.23</td>\n",
              "      <td>(5000, 10000]</td>\n",
              "      <td>206.381695</td>\n",
              "    </tr>\n",
              "    <tr>\n",
              "      <th>1</th>\n",
              "      <td>0.80</td>\n",
              "      <td>3</td>\n",
              "      <td>4</td>\n",
              "      <td>4</td>\n",
              "      <td>62.1</td>\n",
              "      <td>54.0</td>\n",
              "      <td>5.96</td>\n",
              "      <td>5.99</td>\n",
              "      <td>3.71</td>\n",
              "      <td>[0, 5000]</td>\n",
              "      <td>132.448481</td>\n",
              "    </tr>\n",
              "    <tr>\n",
              "      <th>2</th>\n",
              "      <td>0.56</td>\n",
              "      <td>4</td>\n",
              "      <td>2</td>\n",
              "      <td>4</td>\n",
              "      <td>61.7</td>\n",
              "      <td>54.0</td>\n",
              "      <td>5.28</td>\n",
              "      <td>5.32</td>\n",
              "      <td>3.27</td>\n",
              "      <td>[0, 5000]</td>\n",
              "      <td>91.852998</td>\n",
              "    </tr>\n",
              "    <tr>\n",
              "      <th>3</th>\n",
              "      <td>1.51</td>\n",
              "      <td>3</td>\n",
              "      <td>6</td>\n",
              "      <td>1</td>\n",
              "      <td>64.0</td>\n",
              "      <td>58.0</td>\n",
              "      <td>7.24</td>\n",
              "      <td>7.27</td>\n",
              "      <td>4.64</td>\n",
              "      <td>(5000, 10000]</td>\n",
              "      <td>244.225457</td>\n",
              "    </tr>\n",
              "    <tr>\n",
              "      <th>4</th>\n",
              "      <td>0.33</td>\n",
              "      <td>6</td>\n",
              "      <td>5</td>\n",
              "      <td>4</td>\n",
              "      <td>62.2</td>\n",
              "      <td>54.0</td>\n",
              "      <td>4.43</td>\n",
              "      <td>4.45</td>\n",
              "      <td>2.76</td>\n",
              "      <td>[0, 5000]</td>\n",
              "      <td>54.409255</td>\n",
              "    </tr>\n",
              "    <tr>\n",
              "      <th>...</th>\n",
              "      <td>...</td>\n",
              "      <td>...</td>\n",
              "      <td>...</td>\n",
              "      <td>...</td>\n",
              "      <td>...</td>\n",
              "      <td>...</td>\n",
              "      <td>...</td>\n",
              "      <td>...</td>\n",
              "      <td>...</td>\n",
              "      <td>...</td>\n",
              "      <td>...</td>\n",
              "    </tr>\n",
              "    <tr>\n",
              "      <th>52325</th>\n",
              "      <td>1.02</td>\n",
              "      <td>2</td>\n",
              "      <td>4</td>\n",
              "      <td>2</td>\n",
              "      <td>62.9</td>\n",
              "      <td>59.0</td>\n",
              "      <td>6.38</td>\n",
              "      <td>6.41</td>\n",
              "      <td>4.02</td>\n",
              "      <td>[0, 5000]</td>\n",
              "      <td>164.401114</td>\n",
              "    </tr>\n",
              "    <tr>\n",
              "      <th>52326</th>\n",
              "      <td>0.93</td>\n",
              "      <td>2</td>\n",
              "      <td>4</td>\n",
              "      <td>3</td>\n",
              "      <td>61.8</td>\n",
              "      <td>59.0</td>\n",
              "      <td>6.27</td>\n",
              "      <td>6.23</td>\n",
              "      <td>3.86</td>\n",
              "      <td>[0, 5000]</td>\n",
              "      <td>150.779702</td>\n",
              "    </tr>\n",
              "    <tr>\n",
              "      <th>52327</th>\n",
              "      <td>0.30</td>\n",
              "      <td>4</td>\n",
              "      <td>5</td>\n",
              "      <td>4</td>\n",
              "      <td>62.4</td>\n",
              "      <td>54.0</td>\n",
              "      <td>4.30</td>\n",
              "      <td>4.32</td>\n",
              "      <td>2.69</td>\n",
              "      <td>[0, 5000]</td>\n",
              "      <td>49.969445</td>\n",
              "    </tr>\n",
              "    <tr>\n",
              "      <th>52328</th>\n",
              "      <td>0.36</td>\n",
              "      <td>3</td>\n",
              "      <td>2</td>\n",
              "      <td>4</td>\n",
              "      <td>61.5</td>\n",
              "      <td>55.0</td>\n",
              "      <td>4.60</td>\n",
              "      <td>4.57</td>\n",
              "      <td>2.82</td>\n",
              "      <td>[0, 5000]</td>\n",
              "      <td>59.282040</td>\n",
              "    </tr>\n",
              "    <tr>\n",
              "      <th>52329</th>\n",
              "      <td>0.70</td>\n",
              "      <td>1</td>\n",
              "      <td>2</td>\n",
              "      <td>2</td>\n",
              "      <td>60.7</td>\n",
              "      <td>58.0</td>\n",
              "      <td>5.73</td>\n",
              "      <td>5.77</td>\n",
              "      <td>3.49</td>\n",
              "      <td>[0, 5000]</td>\n",
              "      <td>115.386729</td>\n",
              "    </tr>\n",
              "  </tbody>\n",
              "</table>\n",
              "<p>52330 rows × 11 columns</p>\n",
              "</div>\n",
              "      <button class=\"colab-df-convert\" onclick=\"convertToInteractive('df-cc363087-1db0-46dc-8ec5-d47d79c78fbf')\"\n",
              "              title=\"Convert this dataframe to an interactive table.\"\n",
              "              style=\"display:none;\">\n",
              "        \n",
              "  <svg xmlns=\"http://www.w3.org/2000/svg\" height=\"24px\"viewBox=\"0 0 24 24\"\n",
              "       width=\"24px\">\n",
              "    <path d=\"M0 0h24v24H0V0z\" fill=\"none\"/>\n",
              "    <path d=\"M18.56 5.44l.94 2.06.94-2.06 2.06-.94-2.06-.94-.94-2.06-.94 2.06-2.06.94zm-11 1L8.5 8.5l.94-2.06 2.06-.94-2.06-.94L8.5 2.5l-.94 2.06-2.06.94zm10 10l.94 2.06.94-2.06 2.06-.94-2.06-.94-.94-2.06-.94 2.06-2.06.94z\"/><path d=\"M17.41 7.96l-1.37-1.37c-.4-.4-.92-.59-1.43-.59-.52 0-1.04.2-1.43.59L10.3 9.45l-7.72 7.72c-.78.78-.78 2.05 0 2.83L4 21.41c.39.39.9.59 1.41.59.51 0 1.02-.2 1.41-.59l7.78-7.78 2.81-2.81c.8-.78.8-2.07 0-2.86zM5.41 20L4 18.59l7.72-7.72 1.47 1.35L5.41 20z\"/>\n",
              "  </svg>\n",
              "      </button>\n",
              "      \n",
              "  <style>\n",
              "    .colab-df-container {\n",
              "      display:flex;\n",
              "      flex-wrap:wrap;\n",
              "      gap: 12px;\n",
              "    }\n",
              "\n",
              "    .colab-df-convert {\n",
              "      background-color: #E8F0FE;\n",
              "      border: none;\n",
              "      border-radius: 50%;\n",
              "      cursor: pointer;\n",
              "      display: none;\n",
              "      fill: #1967D2;\n",
              "      height: 32px;\n",
              "      padding: 0 0 0 0;\n",
              "      width: 32px;\n",
              "    }\n",
              "\n",
              "    .colab-df-convert:hover {\n",
              "      background-color: #E2EBFA;\n",
              "      box-shadow: 0px 1px 2px rgba(60, 64, 67, 0.3), 0px 1px 3px 1px rgba(60, 64, 67, 0.15);\n",
              "      fill: #174EA6;\n",
              "    }\n",
              "\n",
              "    [theme=dark] .colab-df-convert {\n",
              "      background-color: #3B4455;\n",
              "      fill: #D2E3FC;\n",
              "    }\n",
              "\n",
              "    [theme=dark] .colab-df-convert:hover {\n",
              "      background-color: #434B5C;\n",
              "      box-shadow: 0px 1px 3px 1px rgba(0, 0, 0, 0.15);\n",
              "      filter: drop-shadow(0px 1px 2px rgba(0, 0, 0, 0.3));\n",
              "      fill: #FFFFFF;\n",
              "    }\n",
              "  </style>\n",
              "\n",
              "      <script>\n",
              "        const buttonEl =\n",
              "          document.querySelector('#df-cc363087-1db0-46dc-8ec5-d47d79c78fbf button.colab-df-convert');\n",
              "        buttonEl.style.display =\n",
              "          google.colab.kernel.accessAllowed ? 'block' : 'none';\n",
              "\n",
              "        async function convertToInteractive(key) {\n",
              "          const element = document.querySelector('#df-cc363087-1db0-46dc-8ec5-d47d79c78fbf');\n",
              "          const dataTable =\n",
              "            await google.colab.kernel.invokeFunction('convertToInteractive',\n",
              "                                                     [key], {});\n",
              "          if (!dataTable) return;\n",
              "\n",
              "          const docLinkHtml = 'Like what you see? Visit the ' +\n",
              "            '<a target=\"_blank\" href=https://colab.research.google.com/notebooks/data_table.ipynb>data table notebook</a>'\n",
              "            + ' to learn more about interactive tables.';\n",
              "          element.innerHTML = '';\n",
              "          dataTable['output_type'] = 'display_data';\n",
              "          await google.colab.output.renderOutput(dataTable, element);\n",
              "          const docLink = document.createElement('div');\n",
              "          docLink.innerHTML = docLinkHtml;\n",
              "          element.appendChild(docLink);\n",
              "        }\n",
              "      </script>\n",
              "    </div>\n",
              "  </div>\n",
              "  "
            ]
          },
          "metadata": {},
          "execution_count": 19
        }
      ]
    },
    {
      "cell_type": "code",
      "source": [
        "feature_names = ['carat', 'clarity', 'color',\t'cut', 'depth', 'table', 'x', 'y', 'z', 'volume']"
      ],
      "metadata": {
        "id": "MMWcoqeEK1YN"
      },
      "execution_count": 20,
      "outputs": []
    },
    {
      "cell_type": "code",
      "source": [
        "X = diamonds[feature_names]\n",
        "X"
      ],
      "metadata": {
        "colab": {
          "base_uri": "https://localhost:8080/",
          "height": 424
        },
        "id": "e3H50dH2KwNt",
        "outputId": "5a169e06-d009-403e-cbbd-765fa87d852e"
      },
      "execution_count": 21,
      "outputs": [
        {
          "output_type": "execute_result",
          "data": {
            "text/plain": [
              "       carat  clarity  color  cut  depth  table     x     y     z      volume\n",
              "0       1.26        2      4    2   60.6   60.0  6.97  7.00  4.23  206.381695\n",
              "1       0.80        3      4    4   62.1   54.0  5.96  5.99  3.71  132.448481\n",
              "2       0.56        4      2    4   61.7   54.0  5.28  5.32  3.27   91.852998\n",
              "3       1.51        3      6    1   64.0   58.0  7.24  7.27  4.64  244.225457\n",
              "4       0.33        6      5    4   62.2   54.0  4.43  4.45  2.76   54.409255\n",
              "...      ...      ...    ...  ...    ...    ...   ...   ...   ...         ...\n",
              "52325   1.02        2      4    2   62.9   59.0  6.38  6.41  4.02  164.401114\n",
              "52326   0.93        2      4    3   61.8   59.0  6.27  6.23  3.86  150.779702\n",
              "52327   0.30        4      5    4   62.4   54.0  4.30  4.32  2.69   49.969445\n",
              "52328   0.36        3      2    4   61.5   55.0  4.60  4.57  2.82   59.282040\n",
              "52329   0.70        1      2    2   60.7   58.0  5.73  5.77  3.49  115.386729\n",
              "\n",
              "[52330 rows x 10 columns]"
            ],
            "text/html": [
              "\n",
              "  <div id=\"df-201db111-4fce-43c5-9022-03858c941977\">\n",
              "    <div class=\"colab-df-container\">\n",
              "      <div>\n",
              "<style scoped>\n",
              "    .dataframe tbody tr th:only-of-type {\n",
              "        vertical-align: middle;\n",
              "    }\n",
              "\n",
              "    .dataframe tbody tr th {\n",
              "        vertical-align: top;\n",
              "    }\n",
              "\n",
              "    .dataframe thead th {\n",
              "        text-align: right;\n",
              "    }\n",
              "</style>\n",
              "<table border=\"1\" class=\"dataframe\">\n",
              "  <thead>\n",
              "    <tr style=\"text-align: right;\">\n",
              "      <th></th>\n",
              "      <th>carat</th>\n",
              "      <th>clarity</th>\n",
              "      <th>color</th>\n",
              "      <th>cut</th>\n",
              "      <th>depth</th>\n",
              "      <th>table</th>\n",
              "      <th>x</th>\n",
              "      <th>y</th>\n",
              "      <th>z</th>\n",
              "      <th>volume</th>\n",
              "    </tr>\n",
              "  </thead>\n",
              "  <tbody>\n",
              "    <tr>\n",
              "      <th>0</th>\n",
              "      <td>1.26</td>\n",
              "      <td>2</td>\n",
              "      <td>4</td>\n",
              "      <td>2</td>\n",
              "      <td>60.6</td>\n",
              "      <td>60.0</td>\n",
              "      <td>6.97</td>\n",
              "      <td>7.00</td>\n",
              "      <td>4.23</td>\n",
              "      <td>206.381695</td>\n",
              "    </tr>\n",
              "    <tr>\n",
              "      <th>1</th>\n",
              "      <td>0.80</td>\n",
              "      <td>3</td>\n",
              "      <td>4</td>\n",
              "      <td>4</td>\n",
              "      <td>62.1</td>\n",
              "      <td>54.0</td>\n",
              "      <td>5.96</td>\n",
              "      <td>5.99</td>\n",
              "      <td>3.71</td>\n",
              "      <td>132.448481</td>\n",
              "    </tr>\n",
              "    <tr>\n",
              "      <th>2</th>\n",
              "      <td>0.56</td>\n",
              "      <td>4</td>\n",
              "      <td>2</td>\n",
              "      <td>4</td>\n",
              "      <td>61.7</td>\n",
              "      <td>54.0</td>\n",
              "      <td>5.28</td>\n",
              "      <td>5.32</td>\n",
              "      <td>3.27</td>\n",
              "      <td>91.852998</td>\n",
              "    </tr>\n",
              "    <tr>\n",
              "      <th>3</th>\n",
              "      <td>1.51</td>\n",
              "      <td>3</td>\n",
              "      <td>6</td>\n",
              "      <td>1</td>\n",
              "      <td>64.0</td>\n",
              "      <td>58.0</td>\n",
              "      <td>7.24</td>\n",
              "      <td>7.27</td>\n",
              "      <td>4.64</td>\n",
              "      <td>244.225457</td>\n",
              "    </tr>\n",
              "    <tr>\n",
              "      <th>4</th>\n",
              "      <td>0.33</td>\n",
              "      <td>6</td>\n",
              "      <td>5</td>\n",
              "      <td>4</td>\n",
              "      <td>62.2</td>\n",
              "      <td>54.0</td>\n",
              "      <td>4.43</td>\n",
              "      <td>4.45</td>\n",
              "      <td>2.76</td>\n",
              "      <td>54.409255</td>\n",
              "    </tr>\n",
              "    <tr>\n",
              "      <th>...</th>\n",
              "      <td>...</td>\n",
              "      <td>...</td>\n",
              "      <td>...</td>\n",
              "      <td>...</td>\n",
              "      <td>...</td>\n",
              "      <td>...</td>\n",
              "      <td>...</td>\n",
              "      <td>...</td>\n",
              "      <td>...</td>\n",
              "      <td>...</td>\n",
              "    </tr>\n",
              "    <tr>\n",
              "      <th>52325</th>\n",
              "      <td>1.02</td>\n",
              "      <td>2</td>\n",
              "      <td>4</td>\n",
              "      <td>2</td>\n",
              "      <td>62.9</td>\n",
              "      <td>59.0</td>\n",
              "      <td>6.38</td>\n",
              "      <td>6.41</td>\n",
              "      <td>4.02</td>\n",
              "      <td>164.401114</td>\n",
              "    </tr>\n",
              "    <tr>\n",
              "      <th>52326</th>\n",
              "      <td>0.93</td>\n",
              "      <td>2</td>\n",
              "      <td>4</td>\n",
              "      <td>3</td>\n",
              "      <td>61.8</td>\n",
              "      <td>59.0</td>\n",
              "      <td>6.27</td>\n",
              "      <td>6.23</td>\n",
              "      <td>3.86</td>\n",
              "      <td>150.779702</td>\n",
              "    </tr>\n",
              "    <tr>\n",
              "      <th>52327</th>\n",
              "      <td>0.30</td>\n",
              "      <td>4</td>\n",
              "      <td>5</td>\n",
              "      <td>4</td>\n",
              "      <td>62.4</td>\n",
              "      <td>54.0</td>\n",
              "      <td>4.30</td>\n",
              "      <td>4.32</td>\n",
              "      <td>2.69</td>\n",
              "      <td>49.969445</td>\n",
              "    </tr>\n",
              "    <tr>\n",
              "      <th>52328</th>\n",
              "      <td>0.36</td>\n",
              "      <td>3</td>\n",
              "      <td>2</td>\n",
              "      <td>4</td>\n",
              "      <td>61.5</td>\n",
              "      <td>55.0</td>\n",
              "      <td>4.60</td>\n",
              "      <td>4.57</td>\n",
              "      <td>2.82</td>\n",
              "      <td>59.282040</td>\n",
              "    </tr>\n",
              "    <tr>\n",
              "      <th>52329</th>\n",
              "      <td>0.70</td>\n",
              "      <td>1</td>\n",
              "      <td>2</td>\n",
              "      <td>2</td>\n",
              "      <td>60.7</td>\n",
              "      <td>58.0</td>\n",
              "      <td>5.73</td>\n",
              "      <td>5.77</td>\n",
              "      <td>3.49</td>\n",
              "      <td>115.386729</td>\n",
              "    </tr>\n",
              "  </tbody>\n",
              "</table>\n",
              "<p>52330 rows × 10 columns</p>\n",
              "</div>\n",
              "      <button class=\"colab-df-convert\" onclick=\"convertToInteractive('df-201db111-4fce-43c5-9022-03858c941977')\"\n",
              "              title=\"Convert this dataframe to an interactive table.\"\n",
              "              style=\"display:none;\">\n",
              "        \n",
              "  <svg xmlns=\"http://www.w3.org/2000/svg\" height=\"24px\"viewBox=\"0 0 24 24\"\n",
              "       width=\"24px\">\n",
              "    <path d=\"M0 0h24v24H0V0z\" fill=\"none\"/>\n",
              "    <path d=\"M18.56 5.44l.94 2.06.94-2.06 2.06-.94-2.06-.94-.94-2.06-.94 2.06-2.06.94zm-11 1L8.5 8.5l.94-2.06 2.06-.94-2.06-.94L8.5 2.5l-.94 2.06-2.06.94zm10 10l.94 2.06.94-2.06 2.06-.94-2.06-.94-.94-2.06-.94 2.06-2.06.94z\"/><path d=\"M17.41 7.96l-1.37-1.37c-.4-.4-.92-.59-1.43-.59-.52 0-1.04.2-1.43.59L10.3 9.45l-7.72 7.72c-.78.78-.78 2.05 0 2.83L4 21.41c.39.39.9.59 1.41.59.51 0 1.02-.2 1.41-.59l7.78-7.78 2.81-2.81c.8-.78.8-2.07 0-2.86zM5.41 20L4 18.59l7.72-7.72 1.47 1.35L5.41 20z\"/>\n",
              "  </svg>\n",
              "      </button>\n",
              "      \n",
              "  <style>\n",
              "    .colab-df-container {\n",
              "      display:flex;\n",
              "      flex-wrap:wrap;\n",
              "      gap: 12px;\n",
              "    }\n",
              "\n",
              "    .colab-df-convert {\n",
              "      background-color: #E8F0FE;\n",
              "      border: none;\n",
              "      border-radius: 50%;\n",
              "      cursor: pointer;\n",
              "      display: none;\n",
              "      fill: #1967D2;\n",
              "      height: 32px;\n",
              "      padding: 0 0 0 0;\n",
              "      width: 32px;\n",
              "    }\n",
              "\n",
              "    .colab-df-convert:hover {\n",
              "      background-color: #E2EBFA;\n",
              "      box-shadow: 0px 1px 2px rgba(60, 64, 67, 0.3), 0px 1px 3px 1px rgba(60, 64, 67, 0.15);\n",
              "      fill: #174EA6;\n",
              "    }\n",
              "\n",
              "    [theme=dark] .colab-df-convert {\n",
              "      background-color: #3B4455;\n",
              "      fill: #D2E3FC;\n",
              "    }\n",
              "\n",
              "    [theme=dark] .colab-df-convert:hover {\n",
              "      background-color: #434B5C;\n",
              "      box-shadow: 0px 1px 3px 1px rgba(0, 0, 0, 0.15);\n",
              "      filter: drop-shadow(0px 1px 2px rgba(0, 0, 0, 0.3));\n",
              "      fill: #FFFFFF;\n",
              "    }\n",
              "  </style>\n",
              "\n",
              "      <script>\n",
              "        const buttonEl =\n",
              "          document.querySelector('#df-201db111-4fce-43c5-9022-03858c941977 button.colab-df-convert');\n",
              "        buttonEl.style.display =\n",
              "          google.colab.kernel.accessAllowed ? 'block' : 'none';\n",
              "\n",
              "        async function convertToInteractive(key) {\n",
              "          const element = document.querySelector('#df-201db111-4fce-43c5-9022-03858c941977');\n",
              "          const dataTable =\n",
              "            await google.colab.kernel.invokeFunction('convertToInteractive',\n",
              "                                                     [key], {});\n",
              "          if (!dataTable) return;\n",
              "\n",
              "          const docLinkHtml = 'Like what you see? Visit the ' +\n",
              "            '<a target=\"_blank\" href=https://colab.research.google.com/notebooks/data_table.ipynb>data table notebook</a>'\n",
              "            + ' to learn more about interactive tables.';\n",
              "          element.innerHTML = '';\n",
              "          dataTable['output_type'] = 'display_data';\n",
              "          await google.colab.output.renderOutput(dataTable, element);\n",
              "          const docLink = document.createElement('div');\n",
              "          docLink.innerHTML = docLinkHtml;\n",
              "          element.appendChild(docLink);\n",
              "        }\n",
              "      </script>\n",
              "    </div>\n",
              "  </div>\n",
              "  "
            ]
          },
          "metadata": {},
          "execution_count": 21
        }
      ]
    },
    {
      "cell_type": "code",
      "source": [
        "y = diamonds['class']\n",
        "y"
      ],
      "metadata": {
        "colab": {
          "base_uri": "https://localhost:8080/"
        },
        "id": "gNvS9X_7K-cI",
        "outputId": "8b89cbd2-5d3b-487d-c06d-28804d059a0d"
      },
      "execution_count": 22,
      "outputs": [
        {
          "output_type": "execute_result",
          "data": {
            "text/plain": [
              "0        (5000, 10000]\n",
              "1            [0, 5000]\n",
              "2            [0, 5000]\n",
              "3        (5000, 10000]\n",
              "4            [0, 5000]\n",
              "             ...      \n",
              "52325        [0, 5000]\n",
              "52326        [0, 5000]\n",
              "52327        [0, 5000]\n",
              "52328        [0, 5000]\n",
              "52329        [0, 5000]\n",
              "Name: class, Length: 52330, dtype: object"
            ]
          },
          "metadata": {},
          "execution_count": 22
        }
      ]
    },
    {
      "cell_type": "code",
      "source": [
        "plt.scatter(X['carat'], X['depth'])\n",
        "plt.xlabel('carat')\n",
        "plt.ylabel('depth')\n",
        "plt.title(\"Diamonds\")\n",
        "plt.show()"
      ],
      "metadata": {
        "colab": {
          "base_uri": "https://localhost:8080/",
          "height": 472
        },
        "id": "WKZGLWBPqDcj",
        "outputId": "96e36ba8-524f-4c79-fd3c-a5860712dbea"
      },
      "execution_count": 23,
      "outputs": [
        {
          "output_type": "display_data",
          "data": {
            "text/plain": [
              "<Figure size 640x480 with 1 Axes>"
            ],
            "image/png": "[encoded data removed]"
          },
          "metadata": {}
        }
      ]
    },
    {
      "cell_type": "code",
      "source": [
        "scaler = MinMaxScaler()"
      ],
      "metadata": {
        "id": "zV64L6cbOcej"
      },
      "execution_count": 24,
      "outputs": []
    },
    {
      "cell_type": "code",
      "source": [
        "X = pd.DataFrame(scaler.fit_transform(X), columns = feature_names)\n",
        "X"
      ],
      "metadata": {
        "colab": {
          "base_uri": "https://localhost:8080/",
          "height": 424
        },
        "id": "W2rPdcumOWZk",
        "outputId": "8e15d94d-6aff-47ae-8657-f157f878837d"
      },
      "execution_count": 25,
      "outputs": [
        {
          "output_type": "execute_result",
          "data": {
            "text/plain": [
              "          carat   clarity     color   cut     depth  table         x  \\\n",
              "0      0.527363  0.285714  0.666667  0.50  0.364706   0.72  0.661224   \n",
              "1      0.298507  0.428571  0.666667  1.00  0.541176   0.24  0.455102   \n",
              "2      0.179104  0.571429  0.333333  1.00  0.494118   0.24  0.316327   \n",
              "3      0.651741  0.428571  1.000000  0.25  0.764706   0.56  0.716327   \n",
              "4      0.064677  0.857143  0.833333  1.00  0.552941   0.24  0.142857   \n",
              "...         ...       ...       ...   ...       ...    ...       ...   \n",
              "52325  0.407960  0.285714  0.666667  0.50  0.635294   0.64  0.540816   \n",
              "52326  0.363184  0.285714  0.666667  0.75  0.505882   0.64  0.518367   \n",
              "52327  0.049751  0.571429  0.833333  1.00  0.576471   0.24  0.116327   \n",
              "52328  0.079602  0.428571  0.333333  1.00  0.470588   0.32  0.177551   \n",
              "52329  0.248756  0.142857  0.333333  0.50  0.376471   0.56  0.408163   \n",
              "\n",
              "              y         z    volume  \n",
              "0      0.680328  0.716180  0.512314  \n",
              "1      0.473361  0.578249  0.295469  \n",
              "2      0.336066  0.461538  0.176404  \n",
              "3      0.735656  0.824934  0.623309  \n",
              "4      0.157787  0.326260  0.066582  \n",
              "...         ...       ...       ...  \n",
              "52325  0.559426  0.660477  0.389186  \n",
              "52326  0.522541  0.618037  0.349234  \n",
              "52327  0.131148  0.307692  0.053560  \n",
              "52328  0.182377  0.342175  0.080874  \n",
              "52329  0.428279  0.519894  0.245428  \n",
              "\n",
              "[52330 rows x 10 columns]"
            ],
            "text/html": [
              "\n",
              "  <div id=\"df-a4f07560-a922-4008-81bf-e4d14c5f3aaf\">\n",
              "    <div class=\"colab-df-container\">\n",
              "      <div>\n",
              "<style scoped>\n",
              "    .dataframe tbody tr th:only-of-type {\n",
              "        vertical-align: middle;\n",
              "    }\n",
              "\n",
              "    .dataframe tbody tr th {\n",
              "        vertical-align: top;\n",
              "    }\n",
              "\n",
              "    .dataframe thead th {\n",
              "        text-align: right;\n",
              "    }\n",
              "</style>\n",
              "<table border=\"1\" class=\"dataframe\">\n",
              "  <thead>\n",
              "    <tr style=\"text-align: right;\">\n",
              "      <th></th>\n",
              "      <th>carat</th>\n",
              "      <th>clarity</th>\n",
              "      <th>color</th>\n",
              "      <th>cut</th>\n",
              "      <th>depth</th>\n",
              "      <th>table</th>\n",
              "      <th>x</th>\n",
              "      <th>y</th>\n",
              "      <th>z</th>\n",
              "      <th>volume</th>\n",
              "    </tr>\n",
              "  </thead>\n",
              "  <tbody>\n",
              "    <tr>\n",
              "      <th>0</th>\n",
              "      <td>0.527363</td>\n",
              "      <td>0.285714</td>\n",
              "      <td>0.666667</td>\n",
              "      <td>0.50</td>\n",
              "      <td>0.364706</td>\n",
              "      <td>0.72</td>\n",
              "      <td>0.661224</td>\n",
              "      <td>0.680328</td>\n",
              "      <td>0.716180</td>\n",
              "      <td>0.512314</td>\n",
              "    </tr>\n",
              "    <tr>\n",
              "      <th>1</th>\n",
              "      <td>0.298507</td>\n",
              "      <td>0.428571</td>\n",
              "      <td>0.666667</td>\n",
              "      <td>1.00</td>\n",
              "      <td>0.541176</td>\n",
              "      <td>0.24</td>\n",
              "      <td>0.455102</td>\n",
              "      <td>0.473361</td>\n",
              "      <td>0.578249</td>\n",
              "      <td>0.295469</td>\n",
              "    </tr>\n",
              "    <tr>\n",
              "      <th>2</th>\n",
              "      <td>0.179104</td>\n",
              "      <td>0.571429</td>\n",
              "      <td>0.333333</td>\n",
              "      <td>1.00</td>\n",
              "      <td>0.494118</td>\n",
              "      <td>0.24</td>\n",
              "      <td>0.316327</td>\n",
              "      <td>0.336066</td>\n",
              "      <td>0.461538</td>\n",
              "      <td>0.176404</td>\n",
              "    </tr>\n",
              "    <tr>\n",
              "      <th>3</th>\n",
              "      <td>0.651741</td>\n",
              "      <td>0.428571</td>\n",
              "      <td>1.000000</td>\n",
              "      <td>0.25</td>\n",
              "      <td>0.764706</td>\n",
              "      <td>0.56</td>\n",
              "      <td>0.716327</td>\n",
              "      <td>0.735656</td>\n",
              "      <td>0.824934</td>\n",
              "      <td>0.623309</td>\n",
              "    </tr>\n",
              "    <tr>\n",
              "      <th>4</th>\n",
              "      <td>0.064677</td>\n",
              "      <td>0.857143</td>\n",
              "      <td>0.833333</td>\n",
              "      <td>1.00</td>\n",
              "      <td>0.552941</td>\n",
              "      <td>0.24</td>\n",
              "      <td>0.142857</td>\n",
              "      <td>0.157787</td>\n",
              "      <td>0.326260</td>\n",
              "      <td>0.066582</td>\n",
              "    </tr>\n",
              "    <tr>\n",
              "      <th>...</th>\n",
              "      <td>...</td>\n",
              "      <td>...</td>\n",
              "      <td>...</td>\n",
              "      <td>...</td>\n",
              "      <td>...</td>\n",
              "      <td>...</td>\n",
              "      <td>...</td>\n",
              "      <td>...</td>\n",
              "      <td>...</td>\n",
              "      <td>...</td>\n",
              "    </tr>\n",
              "    <tr>\n",
              "      <th>52325</th>\n",
              "      <td>0.407960</td>\n",
              "      <td>0.285714</td>\n",
              "      <td>0.666667</td>\n",
              "      <td>0.50</td>\n",
              "      <td>0.635294</td>\n",
              "      <td>0.64</td>\n",
              "      <td>0.540816</td>\n",
              "      <td>0.559426</td>\n",
              "      <td>0.660477</td>\n",
              "      <td>0.389186</td>\n",
              "    </tr>\n",
              "    <tr>\n",
              "      <th>52326</th>\n",
              "      <td>0.363184</td>\n",
              "      <td>0.285714</td>\n",
              "      <td>0.666667</td>\n",
              "      <td>0.75</td>\n",
              "      <td>0.505882</td>\n",
              "      <td>0.64</td>\n",
              "      <td>0.518367</td>\n",
              "      <td>0.522541</td>\n",
              "      <td>0.618037</td>\n",
              "      <td>0.349234</td>\n",
              "    </tr>\n",
              "    <tr>\n",
              "      <th>52327</th>\n",
              "      <td>0.049751</td>\n",
              "      <td>0.571429</td>\n",
              "      <td>0.833333</td>\n",
              "      <td>1.00</td>\n",
              "      <td>0.576471</td>\n",
              "      <td>0.24</td>\n",
              "      <td>0.116327</td>\n",
              "      <td>0.131148</td>\n",
              "      <td>0.307692</td>\n",
              "      <td>0.053560</td>\n",
              "    </tr>\n",
              "    <tr>\n",
              "      <th>52328</th>\n",
              "      <td>0.079602</td>\n",
              "      <td>0.428571</td>\n",
              "      <td>0.333333</td>\n",
              "      <td>1.00</td>\n",
              "      <td>0.470588</td>\n",
              "      <td>0.32</td>\n",
              "      <td>0.177551</td>\n",
              "      <td>0.182377</td>\n",
              "      <td>0.342175</td>\n",
              "      <td>0.080874</td>\n",
              "    </tr>\n",
              "    <tr>\n",
              "      <th>52329</th>\n",
              "      <td>0.248756</td>\n",
              "      <td>0.142857</td>\n",
              "      <td>0.333333</td>\n",
              "      <td>0.50</td>\n",
              "      <td>0.376471</td>\n",
              "      <td>0.56</td>\n",
              "      <td>0.408163</td>\n",
              "      <td>0.428279</td>\n",
              "      <td>0.519894</td>\n",
              "      <td>0.245428</td>\n",
              "    </tr>\n",
              "  </tbody>\n",
              "</table>\n",
              "<p>52330 rows × 10 columns</p>\n",
              "</div>\n",
              "      <button class=\"colab-df-convert\" onclick=\"convertToInteractive('df-a4f07560-a922-4008-81bf-e4d14c5f3aaf')\"\n",
              "              title=\"Convert this dataframe to an interactive table.\"\n",
              "              style=\"display:none;\">\n",
              "        \n",
              "  <svg xmlns=\"http://www.w3.org/2000/svg\" height=\"24px\"viewBox=\"0 0 24 24\"\n",
              "       width=\"24px\">\n",
              "    <path d=\"M0 0h24v24H0V0z\" fill=\"none\"/>\n",
              "    <path d=\"M18.56 5.44l.94 2.06.94-2.06 2.06-.94-2.06-.94-.94-2.06-.94 2.06-2.06.94zm-11 1L8.5 8.5l.94-2.06 2.06-.94-2.06-.94L8.5 2.5l-.94 2.06-2.06.94zm10 10l.94 2.06.94-2.06 2.06-.94-2.06-.94-.94-2.06-.94 2.06-2.06.94z\"/><path d=\"M17.41 7.96l-1.37-1.37c-.4-.4-.92-.59-1.43-.59-.52 0-1.04.2-1.43.59L10.3 9.45l-7.72 7.72c-.78.78-.78 2.05 0 2.83L4 21.41c.39.39.9.59 1.41.59.51 0 1.02-.2 1.41-.59l7.78-7.78 2.81-2.81c.8-.78.8-2.07 0-2.86zM5.41 20L4 18.59l7.72-7.72 1.47 1.35L5.41 20z\"/>\n",
              "  </svg>\n",
              "      </button>\n",
              "      \n",
              "  <style>\n",
              "    .colab-df-container {\n",
              "      display:flex;\n",
              "      flex-wrap:wrap;\n",
              "      gap: 12px;\n",
              "    }\n",
              "\n",
              "    .colab-df-convert {\n",
              "      background-color: #E8F0FE;\n",
              "      border: none;\n",
              "      border-radius: 50%;\n",
              "      cursor: pointer;\n",
              "      display: none;\n",
              "      fill: #1967D2;\n",
              "      height: 32px;\n",
              "      padding: 0 0 0 0;\n",
              "      width: 32px;\n",
              "    }\n",
              "\n",
              "    .colab-df-convert:hover {\n",
              "      background-color: #E2EBFA;\n",
              "      box-shadow: 0px 1px 2px rgba(60, 64, 67, 0.3), 0px 1px 3px 1px rgba(60, 64, 67, 0.15);\n",
              "      fill: #174EA6;\n",
              "    }\n",
              "\n",
              "    [theme=dark] .colab-df-convert {\n",
              "      background-color: #3B4455;\n",
              "      fill: #D2E3FC;\n",
              "    }\n",
              "\n",
              "    [theme=dark] .colab-df-convert:hover {\n",
              "      background-color: #434B5C;\n",
              "      box-shadow: 0px 1px 3px 1px rgba(0, 0, 0, 0.15);\n",
              "      filter: drop-shadow(0px 1px 2px rgba(0, 0, 0, 0.3));\n",
              "      fill: #FFFFFF;\n",
              "    }\n",
              "  </style>\n",
              "\n",
              "      <script>\n",
              "        const buttonEl =\n",
              "          document.querySelector('#df-a4f07560-a922-4008-81bf-e4d14c5f3aaf button.colab-df-convert');\n",
              "        buttonEl.style.display =\n",
              "          google.colab.kernel.accessAllowed ? 'block' : 'none';\n",
              "\n",
              "        async function convertToInteractive(key) {\n",
              "          const element = document.querySelector('#df-a4f07560-a922-4008-81bf-e4d14c5f3aaf');\n",
              "          const dataTable =\n",
              "            await google.colab.kernel.invokeFunction('convertToInteractive',\n",
              "                                                     [key], {});\n",
              "          if (!dataTable) return;\n",
              "\n",
              "          const docLinkHtml = 'Like what you see? Visit the ' +\n",
              "            '<a target=\"_blank\" href=https://colab.research.google.com/notebooks/data_table.ipynb>data table notebook</a>'\n",
              "            + ' to learn more about interactive tables.';\n",
              "          element.innerHTML = '';\n",
              "          dataTable['output_type'] = 'display_data';\n",
              "          await google.colab.output.renderOutput(dataTable, element);\n",
              "          const docLink = document.createElement('div');\n",
              "          docLink.innerHTML = docLinkHtml;\n",
              "          element.appendChild(docLink);\n",
              "        }\n",
              "      </script>\n",
              "    </div>\n",
              "  </div>\n",
              "  "
            ]
          },
          "metadata": {},
          "execution_count": 25
        }
      ]
    },
    {
      "cell_type": "markdown",
      "source": [
        "***"
      ],
      "metadata": {
        "id": "0LjR3ddqjlJ2"
      }
    },
    {
      "cell_type": "markdown",
      "source": [
        "# Izvestaj i poredjenje modela"
      ],
      "metadata": {
        "id": "Gp6giPNGP-ar"
      }
    },
    {
      "cell_type": "code",
      "source": [
        "kmeans = joblib.load('KM.pkl')\n",
        "kmodes = joblib.load('KMODES.pkl')\n",
        "gm = joblib.load('GM.pkl')"
      ],
      "metadata": {
        "id": "gMOhwy8rQEQo"
      },
      "execution_count": 26,
      "outputs": []
    },
    {
      "cell_type": "code",
      "source": [
        "models = [kmeans, kmodes, gm]\n",
        "model_names = ['KMeans', 'KModes', 'GaussianMixture']"
      ],
      "metadata": {
        "id": "AIxIvwwuQj1_"
      },
      "execution_count": 27,
      "outputs": []
    },
    {
      "cell_type": "code",
      "source": [
        "colors = ['#1A70C5', '#FD8109', '#09B144']"
      ],
      "metadata": {
        "id": "mkyz0yavzjMI"
      },
      "execution_count": 28,
      "outputs": []
    },
    {
      "cell_type": "code",
      "source": [
        "for model in models:\n",
        "  print(type(model))"
      ],
      "metadata": {
        "colab": {
          "base_uri": "https://localhost:8080/"
        },
        "id": "Qaw-2z2sQoyf",
        "outputId": "2124f55d-27a8-4702-868d-b07c29dd5311"
      },
      "execution_count": 29,
      "outputs": [
        {
          "output_type": "stream",
          "name": "stdout",
          "text": [
            "<class 'sklearn.cluster._kmeans.KMeans'>\n",
            "<class 'kmodes.kmodes.KModes'>\n",
            "<class 'sklearn.mixture._gaussian_mixture.GaussianMixture'>\n"
          ]
        }
      ]
    },
    {
      "cell_type": "code",
      "source": [
        "labels = []\n",
        "for model in models:\n",
        "  labels_ = model.fit_predict(X)\n",
        "  labels.append(labels_)\n",
        "\n",
        "labels"
      ],
      "metadata": {
        "colab": {
          "base_uri": "https://localhost:8080/"
        },
        "id": "cchcDxR1UTz_",
        "outputId": "a53a9304-8243-4db5-d85e-b97d37476f11"
      },
      "execution_count": 30,
      "outputs": [
        {
          "output_type": "execute_result",
          "data": {
            "text/plain": [
              "[array([0, 0, 1, ..., 1, 1, 1], dtype=int32),\n",
              " array([0, 1, 0, ..., 0, 1, 0], dtype=uint16),\n",
              " array([0, 0, 1, ..., 1, 1, 0])]"
            ]
          },
          "metadata": {},
          "execution_count": 30
        }
      ]
    },
    {
      "cell_type": "markdown",
      "source": [
        "###Silhouette score"
      ],
      "metadata": {
        "id": "OPzys9JORL9m"
      }
    },
    {
      "cell_type": "markdown",
      "source": [
        "\n",
        "Silhouette koeficijent je metrika za evaluaciju kvaliteta klasterovanja. Ova metrika meri koliko dobro je svaki objekat dodeljen odgovarajucem klasteru, uzimajuci u obzir gustinu i razdvajanje klastera. Silhouette koeficijent se izracunava za svaki objekat i predstavlja prosecnu vrednost za sve objekte u skupu podataka.\n",
        "Vrednosti Silhouette koeficijenta se krecu u opsegu od -1 do 1. Vece vrednosti Silhouette koeficijenta ukazuju na bolje klasterovanje, pri cemu vrednost bliska 1 ukazuje na dobro definisane i odvojene klastera, dok vrednost bliska -1 ukazuje na objekte koji su pogresno dodeljeni klasterima.\n"
      ],
      "metadata": {
        "id": "ACByJxl1X076"
      }
    },
    {
      "cell_type": "code",
      "source": [
        "silhouette_scores = []\n",
        "for i in range(len(models)):\n",
        "  silhouette_scores.append(silhouette_score(X, labels[i]))\n",
        "\n",
        "silhouette_scores"
      ],
      "metadata": {
        "colab": {
          "base_uri": "https://localhost:8080/"
        },
        "id": "JU5cv2H9RTjd",
        "outputId": "f5fcb68e-e1b3-49b3-f454-97e4922da2ba"
      },
      "execution_count": 31,
      "outputs": [
        {
          "output_type": "execute_result",
          "data": {
            "text/plain": [
              "[0.3184274531769023, 0.002503643163707464, 0.31632022972093726]"
            ]
          },
          "metadata": {},
          "execution_count": 31
        }
      ]
    },
    {
      "cell_type": "code",
      "source": [
        "plt.figure(figsize=(6, 4))\n",
        "plt.bar(model_names, silhouette_scores, color=colors)\n",
        "plt.grid(alpha=0.5)\n",
        "for i, s in enumerate(silhouette_scores):\n",
        "    plt.text(model_names[i], s, f'{s:.4f}', ha='center', va='bottom')\n",
        "plt.title('Silhouette ocena za modele')\n",
        "plt.show()"
      ],
      "metadata": {
        "colab": {
          "base_uri": "https://localhost:8080/",
          "height": 391
        },
        "id": "WNmxDMUzRum0",
        "outputId": "344c38eb-097a-46f9-ab36-e68ac7e8afd4"
      },
      "execution_count": 32,
      "outputs": [
        {
          "output_type": "display_data",
          "data": {
            "text/plain": [
              "<Figure size 600x400 with 1 Axes>"
            ],
            "image/png": "[encoded data removed]"
          },
          "metadata": {}
        }
      ]
    },
    {
      "cell_type": "markdown",
      "source": [
        "Svakako ocene nisu zadovoljavajuce da bismo mogli da kazemo da imamo neke klastere.  \n",
        "Takodje treba uzeti u obzir da su Kmeans i GaussianMixture osetljivi na kategoricke promenljive te daju ovakve rezultate.  \n",
        "Najrealniju sliku klasterovanja daje KModes"
      ],
      "metadata": {
        "id": "kLBK9pi5WSQy"
      }
    },
    {
      "cell_type": "markdown",
      "source": [
        "### Dunn index"
      ],
      "metadata": {
        "id": "pKsYbNt1hHYj"
      }
    },
    {
      "cell_type": "markdown",
      "source": [
        "Ova metrika meri razdvajanje izmedju klastera i gustocu objekata unutar klastera. Visoke vrednosti Dunn indeksa ukazuju na dobro odvojene klastera i dobru gustinu unutar klastera, dok niske vrednosti ukazuju na manje jasno definisane klastera i vecu rasprsenost objekata. Vrednosti Dunn indeksa se krecu u opsegu od 0 do pozitivne beskonacnosti. Vise vrednosti Dunn indeksa ukazuju na bolje klasterovanje, pri cemu vece vrednosti ukazuju na bolje razdvajanje izmedju klastera i vecu gustocu unutar klastera."
      ],
      "metadata": {
        "id": "uQL86EDQhGk3"
      }
    },
    {
      "cell_type": "code",
      "source": [
        "half_X = X.head(30000)\n",
        "half_X"
      ],
      "metadata": {
        "colab": {
          "base_uri": "https://localhost:8080/",
          "height": 424
        },
        "id": "IVzEeiJdY0CF",
        "outputId": "3c6cdc8d-16d4-4c35-bffb-db3bfb56567b"
      },
      "execution_count": 33,
      "outputs": [
        {
          "output_type": "execute_result",
          "data": {
            "text/plain": [
              "          carat   clarity     color   cut     depth  table         x  \\\n",
              "0      0.527363  0.285714  0.666667  0.50  0.364706   0.72  0.661224   \n",
              "1      0.298507  0.428571  0.666667  1.00  0.541176   0.24  0.455102   \n",
              "2      0.179104  0.571429  0.333333  1.00  0.494118   0.24  0.316327   \n",
              "3      0.651741  0.428571  1.000000  0.25  0.764706   0.56  0.716327   \n",
              "4      0.064677  0.857143  0.833333  1.00  0.552941   0.24  0.142857   \n",
              "...         ...       ...       ...   ...       ...    ...       ...   \n",
              "29995  0.149254  0.428571  0.166667  0.50  0.541176   0.88  0.275510   \n",
              "29996  0.402985  0.142857  0.166667  1.00  0.247059   0.72  0.569388   \n",
              "29997  0.402985  0.571429  0.500000  0.50  0.670588   0.80  0.534694   \n",
              "29998  0.064677  0.714286  0.333333  1.00  0.517647   0.40  0.140816   \n",
              "29999  0.507463  0.142857  1.000000  0.75  0.600000   0.64  0.624490   \n",
              "\n",
              "              y         z    volume  \n",
              "0      0.680328  0.716180  0.512314  \n",
              "1      0.473361  0.578249  0.295469  \n",
              "2      0.336066  0.461538  0.176404  \n",
              "3      0.735656  0.824934  0.623309  \n",
              "4      0.157787  0.326260  0.066582  \n",
              "...         ...       ...       ...  \n",
              "29995  0.290984  0.432361  0.147122  \n",
              "29996  0.598361  0.631300  0.400489  \n",
              "29997  0.543033  0.657825  0.379750  \n",
              "29998  0.159836  0.323607  0.066002  \n",
              "29999  0.114754  0.591512  0.224493  \n",
              "\n",
              "[30000 rows x 10 columns]"
            ],
            "text/html": [
              "\n",
              "  <div id=\"df-c5001a4b-77e8-41e0-85e7-23e8b8be914a\">\n",
              "    <div class=\"colab-df-container\">\n",
              "      <div>\n",
              "<style scoped>\n",
              "    .dataframe tbody tr th:only-of-type {\n",
              "        vertical-align: middle;\n",
              "    }\n",
              "\n",
              "    .dataframe tbody tr th {\n",
              "        vertical-align: top;\n",
              "    }\n",
              "\n",
              "    .dataframe thead th {\n",
              "        text-align: right;\n",
              "    }\n",
              "</style>\n",
              "<table border=\"1\" class=\"dataframe\">\n",
              "  <thead>\n",
              "    <tr style=\"text-align: right;\">\n",
              "      <th></th>\n",
              "      <th>carat</th>\n",
              "      <th>clarity</th>\n",
              "      <th>color</th>\n",
              "      <th>cut</th>\n",
              "      <th>depth</th>\n",
              "      <th>table</th>\n",
              "      <th>x</th>\n",
              "      <th>y</th>\n",
              "      <th>z</th>\n",
              "      <th>volume</th>\n",
              "    </tr>\n",
              "  </thead>\n",
              "  <tbody>\n",
              "    <tr>\n",
              "      <th>0</th>\n",
              "      <td>0.527363</td>\n",
              "      <td>0.285714</td>\n",
              "      <td>0.666667</td>\n",
              "      <td>0.50</td>\n",
              "      <td>0.364706</td>\n",
              "      <td>0.72</td>\n",
              "      <td>0.661224</td>\n",
              "      <td>0.680328</td>\n",
              "      <td>0.716180</td>\n",
              "      <td>0.512314</td>\n",
              "    </tr>\n",
              "    <tr>\n",
              "      <th>1</th>\n",
              "      <td>0.298507</td>\n",
              "      <td>0.428571</td>\n",
              "      <td>0.666667</td>\n",
              "      <td>1.00</td>\n",
              "      <td>0.541176</td>\n",
              "      <td>0.24</td>\n",
              "      <td>0.455102</td>\n",
              "      <td>0.473361</td>\n",
              "      <td>0.578249</td>\n",
              "      <td>0.295469</td>\n",
              "    </tr>\n",
              "    <tr>\n",
              "      <th>2</th>\n",
              "      <td>0.179104</td>\n",
              "      <td>0.571429</td>\n",
              "      <td>0.333333</td>\n",
              "      <td>1.00</td>\n",
              "      <td>0.494118</td>\n",
              "      <td>0.24</td>\n",
              "      <td>0.316327</td>\n",
              "      <td>0.336066</td>\n",
              "      <td>0.461538</td>\n",
              "      <td>0.176404</td>\n",
              "    </tr>\n",
              "    <tr>\n",
              "      <th>3</th>\n",
              "      <td>0.651741</td>\n",
              "      <td>0.428571</td>\n",
              "      <td>1.000000</td>\n",
              "      <td>0.25</td>\n",
              "      <td>0.764706</td>\n",
              "      <td>0.56</td>\n",
              "      <td>0.716327</td>\n",
              "      <td>0.735656</td>\n",
              "      <td>0.824934</td>\n",
              "      <td>0.623309</td>\n",
              "    </tr>\n",
              "    <tr>\n",
              "      <th>4</th>\n",
              "      <td>0.064677</td>\n",
              "      <td>0.857143</td>\n",
              "      <td>0.833333</td>\n",
              "      <td>1.00</td>\n",
              "      <td>0.552941</td>\n",
              "      <td>0.24</td>\n",
              "      <td>0.142857</td>\n",
              "      <td>0.157787</td>\n",
              "      <td>0.326260</td>\n",
              "      <td>0.066582</td>\n",
              "    </tr>\n",
              "    <tr>\n",
              "      <th>...</th>\n",
              "      <td>...</td>\n",
              "      <td>...</td>\n",
              "      <td>...</td>\n",
              "      <td>...</td>\n",
              "      <td>...</td>\n",
              "      <td>...</td>\n",
              "      <td>...</td>\n",
              "      <td>...</td>\n",
              "      <td>...</td>\n",
              "      <td>...</td>\n",
              "    </tr>\n",
              "    <tr>\n",
              "      <th>29995</th>\n",
              "      <td>0.149254</td>\n",
              "      <td>0.428571</td>\n",
              "      <td>0.166667</td>\n",
              "      <td>0.50</td>\n",
              "      <td>0.541176</td>\n",
              "      <td>0.88</td>\n",
              "      <td>0.275510</td>\n",
              "      <td>0.290984</td>\n",
              "      <td>0.432361</td>\n",
              "      <td>0.147122</td>\n",
              "    </tr>\n",
              "    <tr>\n",
              "      <th>29996</th>\n",
              "      <td>0.402985</td>\n",
              "      <td>0.142857</td>\n",
              "      <td>0.166667</td>\n",
              "      <td>1.00</td>\n",
              "      <td>0.247059</td>\n",
              "      <td>0.72</td>\n",
              "      <td>0.569388</td>\n",
              "      <td>0.598361</td>\n",
              "      <td>0.631300</td>\n",
              "      <td>0.400489</td>\n",
              "    </tr>\n",
              "    <tr>\n",
              "      <th>29997</th>\n",
              "      <td>0.402985</td>\n",
              "      <td>0.571429</td>\n",
              "      <td>0.500000</td>\n",
              "      <td>0.50</td>\n",
              "      <td>0.670588</td>\n",
              "      <td>0.80</td>\n",
              "      <td>0.534694</td>\n",
              "      <td>0.543033</td>\n",
              "      <td>0.657825</td>\n",
              "      <td>0.379750</td>\n",
              "    </tr>\n",
              "    <tr>\n",
              "      <th>29998</th>\n",
              "      <td>0.064677</td>\n",
              "      <td>0.714286</td>\n",
              "      <td>0.333333</td>\n",
              "      <td>1.00</td>\n",
              "      <td>0.517647</td>\n",
              "      <td>0.40</td>\n",
              "      <td>0.140816</td>\n",
              "      <td>0.159836</td>\n",
              "      <td>0.323607</td>\n",
              "      <td>0.066002</td>\n",
              "    </tr>\n",
              "    <tr>\n",
              "      <th>29999</th>\n",
              "      <td>0.507463</td>\n",
              "      <td>0.142857</td>\n",
              "      <td>1.000000</td>\n",
              "      <td>0.75</td>\n",
              "      <td>0.600000</td>\n",
              "      <td>0.64</td>\n",
              "      <td>0.624490</td>\n",
              "      <td>0.114754</td>\n",
              "      <td>0.591512</td>\n",
              "      <td>0.224493</td>\n",
              "    </tr>\n",
              "  </tbody>\n",
              "</table>\n",
              "<p>30000 rows × 10 columns</p>\n",
              "</div>\n",
              "      <button class=\"colab-df-convert\" onclick=\"convertToInteractive('df-c5001a4b-77e8-41e0-85e7-23e8b8be914a')\"\n",
              "              title=\"Convert this dataframe to an interactive table.\"\n",
              "              style=\"display:none;\">\n",
              "        \n",
              "  <svg xmlns=\"http://www.w3.org/2000/svg\" height=\"24px\"viewBox=\"0 0 24 24\"\n",
              "       width=\"24px\">\n",
              "    <path d=\"M0 0h24v24H0V0z\" fill=\"none\"/>\n",
              "    <path d=\"M18.56 5.44l.94 2.06.94-2.06 2.06-.94-2.06-.94-.94-2.06-.94 2.06-2.06.94zm-11 1L8.5 8.5l.94-2.06 2.06-.94-2.06-.94L8.5 2.5l-.94 2.06-2.06.94zm10 10l.94 2.06.94-2.06 2.06-.94-2.06-.94-.94-2.06-.94 2.06-2.06.94z\"/><path d=\"M17.41 7.96l-1.37-1.37c-.4-.4-.92-.59-1.43-.59-.52 0-1.04.2-1.43.59L10.3 9.45l-7.72 7.72c-.78.78-.78 2.05 0 2.83L4 21.41c.39.39.9.59 1.41.59.51 0 1.02-.2 1.41-.59l7.78-7.78 2.81-2.81c.8-.78.8-2.07 0-2.86zM5.41 20L4 18.59l7.72-7.72 1.47 1.35L5.41 20z\"/>\n",
              "  </svg>\n",
              "      </button>\n",
              "      \n",
              "  <style>\n",
              "    .colab-df-container {\n",
              "      display:flex;\n",
              "      flex-wrap:wrap;\n",
              "      gap: 12px;\n",
              "    }\n",
              "\n",
              "    .colab-df-convert {\n",
              "      background-color: #E8F0FE;\n",
              "      border: none;\n",
              "      border-radius: 50%;\n",
              "      cursor: pointer;\n",
              "      display: none;\n",
              "      fill: #1967D2;\n",
              "      height: 32px;\n",
              "      padding: 0 0 0 0;\n",
              "      width: 32px;\n",
              "    }\n",
              "\n",
              "    .colab-df-convert:hover {\n",
              "      background-color: #E2EBFA;\n",
              "      box-shadow: 0px 1px 2px rgba(60, 64, 67, 0.3), 0px 1px 3px 1px rgba(60, 64, 67, 0.15);\n",
              "      fill: #174EA6;\n",
              "    }\n",
              "\n",
              "    [theme=dark] .colab-df-convert {\n",
              "      background-color: #3B4455;\n",
              "      fill: #D2E3FC;\n",
              "    }\n",
              "\n",
              "    [theme=dark] .colab-df-convert:hover {\n",
              "      background-color: #434B5C;\n",
              "      box-shadow: 0px 1px 3px 1px rgba(0, 0, 0, 0.15);\n",
              "      filter: drop-shadow(0px 1px 2px rgba(0, 0, 0, 0.3));\n",
              "      fill: #FFFFFF;\n",
              "    }\n",
              "  </style>\n",
              "\n",
              "      <script>\n",
              "        const buttonEl =\n",
              "          document.querySelector('#df-c5001a4b-77e8-41e0-85e7-23e8b8be914a button.colab-df-convert');\n",
              "        buttonEl.style.display =\n",
              "          google.colab.kernel.accessAllowed ? 'block' : 'none';\n",
              "\n",
              "        async function convertToInteractive(key) {\n",
              "          const element = document.querySelector('#df-c5001a4b-77e8-41e0-85e7-23e8b8be914a');\n",
              "          const dataTable =\n",
              "            await google.colab.kernel.invokeFunction('convertToInteractive',\n",
              "                                                     [key], {});\n",
              "          if (!dataTable) return;\n",
              "\n",
              "          const docLinkHtml = 'Like what you see? Visit the ' +\n",
              "            '<a target=\"_blank\" href=https://colab.research.google.com/notebooks/data_table.ipynb>data table notebook</a>'\n",
              "            + ' to learn more about interactive tables.';\n",
              "          element.innerHTML = '';\n",
              "          dataTable['output_type'] = 'display_data';\n",
              "          await google.colab.output.renderOutput(dataTable, element);\n",
              "          const docLink = document.createElement('div');\n",
              "          docLink.innerHTML = docLinkHtml;\n",
              "          element.appendChild(docLink);\n",
              "        }\n",
              "      </script>\n",
              "    </div>\n",
              "  </div>\n",
              "  "
            ]
          },
          "metadata": {},
          "execution_count": 33
        }
      ]
    },
    {
      "cell_type": "code",
      "source": [
        "half_labels = []\n",
        "for i in range(len(models)):\n",
        "  half_labels.append(labels[i][:30000])\n",
        "\n",
        "len(half_labels[0])"
      ],
      "metadata": {
        "colab": {
          "base_uri": "https://localhost:8080/"
        },
        "id": "RYmDyxa8ZhIk",
        "outputId": "e38a7eae-4e18-4b92-f8fd-705380357b19"
      },
      "execution_count": 34,
      "outputs": [
        {
          "output_type": "execute_result",
          "data": {
            "text/plain": [
              "30000"
            ]
          },
          "metadata": {},
          "execution_count": 34
        }
      ]
    },
    {
      "cell_type": "code",
      "source": [
        "from scipy.spatial.distance import pdist, squareform\n",
        "\n",
        "def dunn_index(X, labels):\n",
        "    inter_cluster_dist = np.min(squareform(pdist(X))[labels != labels[:, np.newaxis]])\n",
        "    intra_cluster_dist = np.max([np.max(pdist(X[labels == i])) for i in np.unique(labels)])\n",
        "    dunn_index = inter_cluster_dist / intra_cluster_dist\n",
        "    \n",
        "    return dunn_index"
      ],
      "metadata": {
        "id": "9-GcoRUyfWVX"
      },
      "execution_count": 35,
      "outputs": []
    },
    {
      "cell_type": "code",
      "source": [
        "dunn_indexes = []\n",
        "for i in range(len(models)):\n",
        "  dunn_indexes.append(dunn_index(half_X, half_labels[i]))\n",
        "\n",
        "dunn_indexes"
      ],
      "metadata": {
        "colab": {
          "base_uri": "https://localhost:8080/"
        },
        "id": "pDX5QuJbfYg9",
        "outputId": "9cdb54d4-e9e2-4686-d9a2-78e427935e2c"
      },
      "execution_count": 36,
      "outputs": [
        {
          "output_type": "execute_result",
          "data": {
            "text/plain": [
              "[0.0049087633764006555, 0.0008178221773402136, 0.004904175463716826]"
            ]
          },
          "metadata": {},
          "execution_count": 36
        }
      ]
    },
    {
      "cell_type": "code",
      "source": [
        "plt.figure(figsize=(6, 4))\n",
        "plt.bar(model_names, dunn_indexes, color=colors)\n",
        "plt.grid(alpha=0.5)\n",
        "for i, s in enumerate(dunn_indexes):\n",
        "    plt.text(model_names[i], s, f'{s:.4f}', ha='center', va='bottom')\n",
        "plt.title('Dunn indeks za modele')\n",
        "plt.show()"
      ],
      "metadata": {
        "colab": {
          "base_uri": "https://localhost:8080/",
          "height": 391
        },
        "id": "ZcH6S0dohb_b",
        "outputId": "765229b8-4dc6-4225-9bcb-ad5697d2797a"
      },
      "execution_count": 37,
      "outputs": [
        {
          "output_type": "display_data",
          "data": {
            "text/plain": [
              "<Figure size 600x400 with 1 Axes>"
            ],
            "image/png": "[encoded data removed]"
          },
          "metadata": {}
        }
      ]
    },
    {
      "cell_type": "markdown",
      "source": [
        "Lose ocene ukazuju na rasprsenost podataka i nisku gustinu \"klastera\""
      ],
      "metadata": {
        "id": "Dv5tg_EGhmvZ"
      }
    },
    {
      "cell_type": "markdown",
      "source": [
        "### Rand score"
      ],
      "metadata": {
        "id": "f6l6uQvFavbp"
      }
    },
    {
      "cell_type": "markdown",
      "source": [
        "Rand indeks je metrika koja se koristi za merenje slicnosti izmedju predvidjenih klastera i stvarnih klasa (ukoliko su dostupne). Ova metrika ocenjuje koliko su tacno klasteri modela uskladjeni sa pravim klasama.\n",
        "Vrednosti Rand indeksa se krecu u opsegu od 0 do 1. Vece vrednosti Rand indeksa ukazuju na vecu slicnost izmedju predvidjenih klastera i stvarnih klasa, dok vrednost bliska 0 ukazuje na losu uskladjenost.\n"
      ],
      "metadata": {
        "id": "OJVYbpdtaz-K"
      }
    },
    {
      "cell_type": "code",
      "source": [
        "from sklearn.metrics import adjusted_rand_score\n",
        "\n",
        "def calculate_rand_index(labels_true, labels_pred):\n",
        "    labels_true = np.array(labels_true)\n",
        "    labels_pred = np.array(labels_pred)\n",
        "    rand_index = adjusted_rand_score(labels_true, labels_pred)\n",
        "    \n",
        "    return rand_index"
      ],
      "metadata": {
        "id": "ZTRIxnZEa-N6"
      },
      "execution_count": 38,
      "outputs": []
    },
    {
      "cell_type": "code",
      "source": [
        "rand_indexes = []\n",
        "for i in range(len(models)):\n",
        "  rand_indexes.append(calculate_rand_index(y, labels[i]))\n",
        "\n",
        "rand_indexes"
      ],
      "metadata": {
        "colab": {
          "base_uri": "https://localhost:8080/"
        },
        "id": "JtCVXISlbE8S",
        "outputId": "f5cf1008-1166-4bdb-8c61-1f44c93766f5"
      },
      "execution_count": 39,
      "outputs": [
        {
          "output_type": "execute_result",
          "data": {
            "text/plain": [
              "[0.3682758276431091, -0.006883371570882442, 0.3238889546726888]"
            ]
          },
          "metadata": {},
          "execution_count": 39
        }
      ]
    },
    {
      "cell_type": "code",
      "source": [
        "plt.figure(figsize=(6, 4))\n",
        "plt.bar(model_names, rand_indexes, color=colors)\n",
        "plt.grid(alpha=0.5)\n",
        "for i, s in enumerate(rand_indexes):\n",
        "    plt.text(model_names[i], s, f'{s:.4f}', ha='center', va='bottom')\n",
        "plt.title('Rand indeks za modele')\n",
        "plt.show()"
      ],
      "metadata": {
        "colab": {
          "base_uri": "https://localhost:8080/",
          "height": 391
        },
        "id": "pO5cTQA6b7xf",
        "outputId": "21cec90e-14ca-43bb-849e-14bd82de8692"
      },
      "execution_count": 40,
      "outputs": [
        {
          "output_type": "display_data",
          "data": {
            "text/plain": [
              "<Figure size 600x400 with 1 Axes>"
            ],
            "image/png": "[encoded data removed]"
          },
          "metadata": {}
        }
      ]
    },
    {
      "cell_type": "markdown",
      "source": [
        "Lose podudaranje klastera i pravih klasa"
      ],
      "metadata": {
        "id": "HMkKH75Gdtpk"
      }
    },
    {
      "cell_type": "markdown",
      "source": [
        "### Intra-cluster distances"
      ],
      "metadata": {
        "id": "FQYHoHTHdaYV"
      }
    },
    {
      "cell_type": "markdown",
      "source": [
        "Intra-klaster rastojanje je metrika koja se koristi za merenje prosecne udaljenosti izmedju objekata unutar istog klastera. Ova metrika ocenjuje kompaktnost i gustinu klastera tako sto racuna prosecno rastojanje izmedju svih parova objekata unutar istog klastera.\n",
        "Manje vrednosti intra-klaster rastojanja ukazuju na bolje klasterovanje, jer ukazuju na to da su objekti unutar klastera blizi jedni drugima.\n"
      ],
      "metadata": {
        "id": "8VsdNDx7d8BC"
      }
    },
    {
      "cell_type": "code",
      "source": [
        "from sklearn.metrics import pairwise_distances\n",
        "\n",
        "def calculate_intra_cluster_distance(X, labels):\n",
        "    distances = pairwise_distances(X)\n",
        "    intra_cluster_distance = 0.0\n",
        "  \n",
        "    unique_labels = set(labels)\n",
        "    for label in unique_labels:\n",
        "        indices = (labels == label)\n",
        "        intra_cluster_distance += np.sum(distances[np.ix_(indices, indices)])\n",
        "    \n",
        "    return intra_cluster_distance"
      ],
      "metadata": {
        "id": "Qqf2C4QcddF7"
      },
      "execution_count": 41,
      "outputs": []
    },
    {
      "cell_type": "code",
      "source": [
        "intra_distances = []\n",
        "for i in range(len(models)):\n",
        "  intra_distances.append(calculate_intra_cluster_distance(half_X, half_labels[i]))\n",
        "\n",
        "intra_distances"
      ],
      "metadata": {
        "colab": {
          "base_uri": "https://localhost:8080/"
        },
        "id": "yWzmVzTedeKN",
        "outputId": "535c3761-e09f-43c1-c238-32bc840727ca"
      },
      "execution_count": 42,
      "outputs": [
        {
          "output_type": "execute_result",
          "data": {
            "text/plain": [
              "[336000357.3365178, 470379459.7478589, 333517095.9365555]"
            ]
          },
          "metadata": {},
          "execution_count": 42
        }
      ]
    },
    {
      "cell_type": "code",
      "source": [
        "plt.figure(figsize=(6, 4))\n",
        "plt.bar(model_names, intra_distances, color=colors)\n",
        "plt.grid(alpha=0.5)\n",
        "for i, s in enumerate(intra_distances):\n",
        "    plt.text(model_names[i], s, f'{s:.4f}', ha='center', va='bottom')\n",
        "plt.title('Intra-cluster rastojanje za modele')\n",
        "plt.show()"
      ],
      "metadata": {
        "colab": {
          "base_uri": "https://localhost:8080/",
          "height": 391
        },
        "id": "YmKS3IP_dyVM",
        "outputId": "da18e1eb-aa95-430b-b9c1-134ca51273c9"
      },
      "execution_count": 43,
      "outputs": [
        {
          "output_type": "display_data",
          "data": {
            "text/plain": [
              "<Figure size 600x400 with 1 Axes>"
            ],
            "image/png": "[encoded data removed]"
          },
          "metadata": {}
        }
      ]
    },
    {
      "cell_type": "markdown",
      "source": [
        "Objekti unutar klastera su poprilicno udaljeni i ukazuje na slabu gustinu unutar klastera"
      ],
      "metadata": {
        "id": "bkp_WEtkibgS"
      }
    },
    {
      "cell_type": "markdown",
      "source": [
        "***"
      ],
      "metadata": {
        "id": "Y2v4qS462NxD"
      }
    },
    {
      "cell_type": "markdown",
      "source": [
        "### Balansiranost predvidjenih klastera"
      ],
      "metadata": {
        "id": "MH65qoMQ2Gej"
      }
    },
    {
      "cell_type": "code",
      "source": [
        "pieColors = ['#C99CE5', '#7FDDB3', '#7AC5E2', '#FFF4B3']"
      ],
      "metadata": {
        "id": "ZgZ9mRkv8pPK"
      },
      "execution_count": 44,
      "outputs": []
    },
    {
      "cell_type": "code",
      "source": [
        "fig = plt.figure(figsize=(16, 4))\n",
        "plt.suptitle('Balansiranost predvidjenih klastera')\n",
        "idx = 1\n",
        "for i, model in enumerate(models):\n",
        "  \n",
        "  pieData = pd.Series(labels[i]).value_counts()\n",
        "  pieData.reset_index(drop=True, inplace=True)\n",
        "  p = fig.add_subplot(1, 4, idx)\n",
        "  idx += 1\n",
        "  p.set_title(model_names[i])\n",
        "\n",
        "  plt.pie(pieData, startangle= 90, autopct= '%.1f%%', pctdistance=1.2, colors=pieColors)\n",
        "\n",
        "plt.show()\n"
      ],
      "metadata": {
        "colab": {
          "base_uri": "https://localhost:8080/",
          "height": 365
        },
        "id": "baCxrdNL2Sb6",
        "outputId": "cc351e9d-e091-4a16-8eda-6814c34061dc"
      },
      "execution_count": 45,
      "outputs": [
        {
          "output_type": "display_data",
          "data": {
            "text/plain": [
              "<Figure size 1600x400 with 3 Axes>"
            ],
            "image/png": "[encoded data removed]"
          },
          "metadata": {}
        }
      ]
    },
    {
      "cell_type": "markdown",
      "source": [
        "### Runtimes and scalability"
      ],
      "metadata": {
        "id": "mphBK9qeHkSl"
      }
    },
    {
      "cell_type": "code",
      "source": [
        "import time"
      ],
      "metadata": {
        "id": "8gEhJm4nKd6u"
      },
      "execution_count": 46,
      "outputs": []
    },
    {
      "cell_type": "code",
      "source": [
        "X1 = X.head(50000)\n",
        "X2 = X.head(50000)"
      ],
      "metadata": {
        "id": "iZijGFpXJSKP"
      },
      "execution_count": 47,
      "outputs": []
    },
    {
      "cell_type": "code",
      "source": [
        "X1 = pd.DataFrame(scaler.fit_transform(X1), columns = feature_names)"
      ],
      "metadata": {
        "id": "DW2ZVjmWNsiF"
      },
      "execution_count": 48,
      "outputs": []
    },
    {
      "cell_type": "code",
      "source": [
        "data_full = pd.concat([X1, X2], ignore_index=True)\n",
        "data_full.shape"
      ],
      "metadata": {
        "colab": {
          "base_uri": "https://localhost:8080/"
        },
        "id": "dAIcUUsNHqIE",
        "outputId": "951c7f02-b10e-4a61-f688-e6fd1b43fa7e"
      },
      "execution_count": 49,
      "outputs": [
        {
          "output_type": "execute_result",
          "data": {
            "text/plain": [
              "(100000, 10)"
            ]
          },
          "metadata": {},
          "execution_count": 49
        }
      ]
    },
    {
      "cell_type": "code",
      "source": [
        "data_sizes = [100, 1000, 10000, 20000, 50000, 100000]\n",
        "for i, model in enumerate(models):\n",
        "  runtimes = []\n",
        "  for size in data_sizes:\n",
        "      data = data_full.head(size) \n",
        "      \n",
        "      start_time = time.time()\n",
        "      model.fit(data)\n",
        "      end_time = time.time()\n",
        "      runtime = end_time - start_time\n",
        "\n",
        "      runtimes.append(runtime)\n",
        "\n",
        "  plt.figure(figsize=(5, 5))\n",
        "  plt.plot(data_sizes, runtimes, marker='o')\n",
        "  plt.title(model_names[i])\n",
        "  plt.xlabel('Data size')\n",
        "  plt.ylabel('Runtime(sec)')\n",
        "  plt.show()"
      ],
      "metadata": {
        "colab": {
          "base_uri": "https://localhost:8080/",
          "height": 1000
        },
        "id": "SzWLwfCSKlxE",
        "outputId": "c751e1a3-28a8-4497-aa0b-917711ab2613"
      },
      "execution_count": 50,
      "outputs": [
        {
          "output_type": "display_data",
          "data": {
            "text/plain": [
              "<Figure size 500x500 with 1 Axes>"
            ],
            "image/png": "[encoded data removed]"
          },
          "metadata": {}
        },
        {
          "output_type": "display_data",
          "data": {
            "text/plain": [
              "<Figure size 500x500 with 1 Axes>"
            ],
            "image/png": "[encoded data removed]"
          },
          "metadata": {}
        },
        {
          "output_type": "display_data",
          "data": {
            "text/plain": [
              "<Figure size 500x500 with 1 Axes>"
            ],
            "image/png": "[encoded data removed]"
          },
          "metadata": {}
        }
      ]
    }
  ]
}