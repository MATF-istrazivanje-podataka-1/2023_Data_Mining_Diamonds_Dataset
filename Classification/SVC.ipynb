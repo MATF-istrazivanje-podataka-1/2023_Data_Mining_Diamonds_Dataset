{
  "nbformat": 4,
  "nbformat_minor": 0,
  "metadata": {
    "colab": {
      "provenance": []
    },
    "kernelspec": {
      "name": "python3",
      "display_name": "Python 3"
    },
    "language_info": {
      "name": "python"
    }
  },
  "cells": [
    {
      "cell_type": "code",
      "execution_count": 1,
      "metadata": {
        "id": "ccerxJOBTHR-"
      },
      "outputs": [],
      "source": [
        "import pandas as pd\n",
        "import numpy as np\n",
        "import tensorflow as tf\n",
        "import seaborn as sns\n",
        "from matplotlib import pyplot as plt\n",
        "from sklearn.svm import SVC\n",
        "from sklearn.model_selection import train_test_split, GridSearchCV\n",
        "from sklearn.decomposition import PCA\n",
        "from sklearn.metrics import accuracy_score, confusion_matrix, f1_score, classification_report\n",
        "from sklearn.metrics import roc_curve, roc_auc_score\n",
        "from sklearn.pipeline import Pipeline\n",
        "import joblib"
      ]
    },
    {
      "cell_type": "code",
      "source": [
        "diamonds = pd.read_csv('diamonds_preprocessed.csv')\n",
        "diamondsOG = pd.read_csv('diamonds_original.csv')"
      ],
      "metadata": {
        "id": "uNjQfv-IT2lI"
      },
      "execution_count": 2,
      "outputs": []
    },
    {
      "cell_type": "code",
      "source": [
        "diamonds"
      ],
      "metadata": {
        "id": "Qx5zeUWvU3td",
        "colab": {
          "base_uri": "https://localhost:8080/",
          "height": 424
        },
        "outputId": "03ebdf24-f3c3-44b9-caba-d97559703519"
      },
      "execution_count": 3,
      "outputs": [
        {
          "output_type": "execute_result",
          "data": {
            "text/plain": [
              "       carat  clarity  color  cut     depth  table         x         y  \\\n",
              "0       1.26        2      4    2  0.364706   0.72  0.661224  0.680328   \n",
              "1       0.80        3      4    4  0.541176   0.24  0.455102  0.473361   \n",
              "2       0.56        4      2    4  0.494118   0.24  0.316327  0.336066   \n",
              "3       1.51        3      6    1  0.764706   0.56  0.716326  0.735656   \n",
              "4       0.33        6      5    4  0.552941   0.24  0.142857  0.157787   \n",
              "...      ...      ...    ...  ...       ...    ...       ...       ...   \n",
              "52325   1.02        2      4    2  0.635294   0.64  0.540816  0.559426   \n",
              "52326   0.93        2      4    3  0.505882   0.64  0.518367  0.522541   \n",
              "52327   0.30        4      5    4  0.576471   0.24  0.116327  0.131148   \n",
              "52328   0.36        3      2    4  0.470588   0.32  0.177551  0.182377   \n",
              "52329   0.70        1      2    2  0.376471   0.56  0.408163  0.428279   \n",
              "\n",
              "              z          class    volume  \n",
              "0      0.716180  (5000, 10000]  0.512314  \n",
              "1      0.578249      [0, 5000]  0.295469  \n",
              "2      0.461538      [0, 5000]  0.176404  \n",
              "3      0.824934  (5000, 10000]  0.623309  \n",
              "4      0.326260      [0, 5000]  0.066582  \n",
              "...         ...            ...       ...  \n",
              "52325  0.660477      [0, 5000]  0.389186  \n",
              "52326  0.618037      [0, 5000]  0.349234  \n",
              "52327  0.307692      [0, 5000]  0.053560  \n",
              "52328  0.342175      [0, 5000]  0.080874  \n",
              "52329  0.519894      [0, 5000]  0.245428  \n",
              "\n",
              "[52330 rows x 11 columns]"
            ],
            "text/html": [
              "\n",
              "  <div id=\"df-198f258a-6805-488c-b2e2-04cdec0a50ec\">\n",
              "    <div class=\"colab-df-container\">\n",
              "      <div>\n",
              "<style scoped>\n",
              "    .dataframe tbody tr th:only-of-type {\n",
              "        vertical-align: middle;\n",
              "    }\n",
              "\n",
              "    .dataframe tbody tr th {\n",
              "        vertical-align: top;\n",
              "    }\n",
              "\n",
              "    .dataframe thead th {\n",
              "        text-align: right;\n",
              "    }\n",
              "</style>\n",
              "<table border=\"1\" class=\"dataframe\">\n",
              "  <thead>\n",
              "    <tr style=\"text-align: right;\">\n",
              "      <th></th>\n",
              "      <th>carat</th>\n",
              "      <th>clarity</th>\n",
              "      <th>color</th>\n",
              "      <th>cut</th>\n",
              "      <th>depth</th>\n",
              "      <th>table</th>\n",
              "      <th>x</th>\n",
              "      <th>y</th>\n",
              "      <th>z</th>\n",
              "      <th>class</th>\n",
              "      <th>volume</th>\n",
              "    </tr>\n",
              "  </thead>\n",
              "  <tbody>\n",
              "    <tr>\n",
              "      <th>0</th>\n",
              "      <td>1.26</td>\n",
              "      <td>2</td>\n",
              "      <td>4</td>\n",
              "      <td>2</td>\n",
              "      <td>0.364706</td>\n",
              "      <td>0.72</td>\n",
              "      <td>0.661224</td>\n",
              "      <td>0.680328</td>\n",
              "      <td>0.716180</td>\n",
              "      <td>(5000, 10000]</td>\n",
              "      <td>0.512314</td>\n",
              "    </tr>\n",
              "    <tr>\n",
              "      <th>1</th>\n",
              "      <td>0.80</td>\n",
              "      <td>3</td>\n",
              "      <td>4</td>\n",
              "      <td>4</td>\n",
              "      <td>0.541176</td>\n",
              "      <td>0.24</td>\n",
              "      <td>0.455102</td>\n",
              "      <td>0.473361</td>\n",
              "      <td>0.578249</td>\n",
              "      <td>[0, 5000]</td>\n",
              "      <td>0.295469</td>\n",
              "    </tr>\n",
              "    <tr>\n",
              "      <th>2</th>\n",
              "      <td>0.56</td>\n",
              "      <td>4</td>\n",
              "      <td>2</td>\n",
              "      <td>4</td>\n",
              "      <td>0.494118</td>\n",
              "      <td>0.24</td>\n",
              "      <td>0.316327</td>\n",
              "      <td>0.336066</td>\n",
              "      <td>0.461538</td>\n",
              "      <td>[0, 5000]</td>\n",
              "      <td>0.176404</td>\n",
              "    </tr>\n",
              "    <tr>\n",
              "      <th>3</th>\n",
              "      <td>1.51</td>\n",
              "      <td>3</td>\n",
              "      <td>6</td>\n",
              "      <td>1</td>\n",
              "      <td>0.764706</td>\n",
              "      <td>0.56</td>\n",
              "      <td>0.716326</td>\n",
              "      <td>0.735656</td>\n",
              "      <td>0.824934</td>\n",
              "      <td>(5000, 10000]</td>\n",
              "      <td>0.623309</td>\n",
              "    </tr>\n",
              "    <tr>\n",
              "      <th>4</th>\n",
              "      <td>0.33</td>\n",
              "      <td>6</td>\n",
              "      <td>5</td>\n",
              "      <td>4</td>\n",
              "      <td>0.552941</td>\n",
              "      <td>0.24</td>\n",
              "      <td>0.142857</td>\n",
              "      <td>0.157787</td>\n",
              "      <td>0.326260</td>\n",
              "      <td>[0, 5000]</td>\n",
              "      <td>0.066582</td>\n",
              "    </tr>\n",
              "    <tr>\n",
              "      <th>...</th>\n",
              "      <td>...</td>\n",
              "      <td>...</td>\n",
              "      <td>...</td>\n",
              "      <td>...</td>\n",
              "      <td>...</td>\n",
              "      <td>...</td>\n",
              "      <td>...</td>\n",
              "      <td>...</td>\n",
              "      <td>...</td>\n",
              "      <td>...</td>\n",
              "      <td>...</td>\n",
              "    </tr>\n",
              "    <tr>\n",
              "      <th>52325</th>\n",
              "      <td>1.02</td>\n",
              "      <td>2</td>\n",
              "      <td>4</td>\n",
              "      <td>2</td>\n",
              "      <td>0.635294</td>\n",
              "      <td>0.64</td>\n",
              "      <td>0.540816</td>\n",
              "      <td>0.559426</td>\n",
              "      <td>0.660477</td>\n",
              "      <td>[0, 5000]</td>\n",
              "      <td>0.389186</td>\n",
              "    </tr>\n",
              "    <tr>\n",
              "      <th>52326</th>\n",
              "      <td>0.93</td>\n",
              "      <td>2</td>\n",
              "      <td>4</td>\n",
              "      <td>3</td>\n",
              "      <td>0.505882</td>\n",
              "      <td>0.64</td>\n",
              "      <td>0.518367</td>\n",
              "      <td>0.522541</td>\n",
              "      <td>0.618037</td>\n",
              "      <td>[0, 5000]</td>\n",
              "      <td>0.349234</td>\n",
              "    </tr>\n",
              "    <tr>\n",
              "      <th>52327</th>\n",
              "      <td>0.30</td>\n",
              "      <td>4</td>\n",
              "      <td>5</td>\n",
              "      <td>4</td>\n",
              "      <td>0.576471</td>\n",
              "      <td>0.24</td>\n",
              "      <td>0.116327</td>\n",
              "      <td>0.131148</td>\n",
              "      <td>0.307692</td>\n",
              "      <td>[0, 5000]</td>\n",
              "      <td>0.053560</td>\n",
              "    </tr>\n",
              "    <tr>\n",
              "      <th>52328</th>\n",
              "      <td>0.36</td>\n",
              "      <td>3</td>\n",
              "      <td>2</td>\n",
              "      <td>4</td>\n",
              "      <td>0.470588</td>\n",
              "      <td>0.32</td>\n",
              "      <td>0.177551</td>\n",
              "      <td>0.182377</td>\n",
              "      <td>0.342175</td>\n",
              "      <td>[0, 5000]</td>\n",
              "      <td>0.080874</td>\n",
              "    </tr>\n",
              "    <tr>\n",
              "      <th>52329</th>\n",
              "      <td>0.70</td>\n",
              "      <td>1</td>\n",
              "      <td>2</td>\n",
              "      <td>2</td>\n",
              "      <td>0.376471</td>\n",
              "      <td>0.56</td>\n",
              "      <td>0.408163</td>\n",
              "      <td>0.428279</td>\n",
              "      <td>0.519894</td>\n",
              "      <td>[0, 5000]</td>\n",
              "      <td>0.245428</td>\n",
              "    </tr>\n",
              "  </tbody>\n",
              "</table>\n",
              "<p>52330 rows × 11 columns</p>\n",
              "</div>\n",
              "      <button class=\"colab-df-convert\" onclick=\"convertToInteractive('df-198f258a-6805-488c-b2e2-04cdec0a50ec')\"\n",
              "              title=\"Convert this dataframe to an interactive table.\"\n",
              "              style=\"display:none;\">\n",
              "        \n",
              "  <svg xmlns=\"http://www.w3.org/2000/svg\" height=\"24px\"viewBox=\"0 0 24 24\"\n",
              "       width=\"24px\">\n",
              "    <path d=\"M0 0h24v24H0V0z\" fill=\"none\"/>\n",
              "    <path d=\"M18.56 5.44l.94 2.06.94-2.06 2.06-.94-2.06-.94-.94-2.06-.94 2.06-2.06.94zm-11 1L8.5 8.5l.94-2.06 2.06-.94-2.06-.94L8.5 2.5l-.94 2.06-2.06.94zm10 10l.94 2.06.94-2.06 2.06-.94-2.06-.94-.94-2.06-.94 2.06-2.06.94z\"/><path d=\"M17.41 7.96l-1.37-1.37c-.4-.4-.92-.59-1.43-.59-.52 0-1.04.2-1.43.59L10.3 9.45l-7.72 7.72c-.78.78-.78 2.05 0 2.83L4 21.41c.39.39.9.59 1.41.59.51 0 1.02-.2 1.41-.59l7.78-7.78 2.81-2.81c.8-.78.8-2.07 0-2.86zM5.41 20L4 18.59l7.72-7.72 1.47 1.35L5.41 20z\"/>\n",
              "  </svg>\n",
              "      </button>\n",
              "      \n",
              "  <style>\n",
              "    .colab-df-container {\n",
              "      display:flex;\n",
              "      flex-wrap:wrap;\n",
              "      gap: 12px;\n",
              "    }\n",
              "\n",
              "    .colab-df-convert {\n",
              "      background-color: #E8F0FE;\n",
              "      border: none;\n",
              "      border-radius: 50%;\n",
              "      cursor: pointer;\n",
              "      display: none;\n",
              "      fill: #1967D2;\n",
              "      height: 32px;\n",
              "      padding: 0 0 0 0;\n",
              "      width: 32px;\n",
              "    }\n",
              "\n",
              "    .colab-df-convert:hover {\n",
              "      background-color: #E2EBFA;\n",
              "      box-shadow: 0px 1px 2px rgba(60, 64, 67, 0.3), 0px 1px 3px 1px rgba(60, 64, 67, 0.15);\n",
              "      fill: #174EA6;\n",
              "    }\n",
              "\n",
              "    [theme=dark] .colab-df-convert {\n",
              "      background-color: #3B4455;\n",
              "      fill: #D2E3FC;\n",
              "    }\n",
              "\n",
              "    [theme=dark] .colab-df-convert:hover {\n",
              "      background-color: #434B5C;\n",
              "      box-shadow: 0px 1px 3px 1px rgba(0, 0, 0, 0.15);\n",
              "      filter: drop-shadow(0px 1px 2px rgba(0, 0, 0, 0.3));\n",
              "      fill: #FFFFFF;\n",
              "    }\n",
              "  </style>\n",
              "\n",
              "      <script>\n",
              "        const buttonEl =\n",
              "          document.querySelector('#df-198f258a-6805-488c-b2e2-04cdec0a50ec button.colab-df-convert');\n",
              "        buttonEl.style.display =\n",
              "          google.colab.kernel.accessAllowed ? 'block' : 'none';\n",
              "\n",
              "        async function convertToInteractive(key) {\n",
              "          const element = document.querySelector('#df-198f258a-6805-488c-b2e2-04cdec0a50ec');\n",
              "          const dataTable =\n",
              "            await google.colab.kernel.invokeFunction('convertToInteractive',\n",
              "                                                     [key], {});\n",
              "          if (!dataTable) return;\n",
              "\n",
              "          const docLinkHtml = 'Like what you see? Visit the ' +\n",
              "            '<a target=\"_blank\" href=https://colab.research.google.com/notebooks/data_table.ipynb>data table notebook</a>'\n",
              "            + ' to learn more about interactive tables.';\n",
              "          element.innerHTML = '';\n",
              "          dataTable['output_type'] = 'display_data';\n",
              "          await google.colab.output.renderOutput(dataTable, element);\n",
              "          const docLink = document.createElement('div');\n",
              "          docLink.innerHTML = docLinkHtml;\n",
              "          element.appendChild(docLink);\n",
              "        }\n",
              "      </script>\n",
              "    </div>\n",
              "  </div>\n",
              "  "
            ]
          },
          "metadata": {},
          "execution_count": 3
        }
      ]
    },
    {
      "cell_type": "code",
      "source": [
        "diamondsOG"
      ],
      "metadata": {
        "id": "xKmtyNvAU56L",
        "colab": {
          "base_uri": "https://localhost:8080/",
          "height": 424
        },
        "outputId": "5c214ba6-4c29-47f2-cada-1be577584ef4"
      },
      "execution_count": 4,
      "outputs": [
        {
          "output_type": "execute_result",
          "data": {
            "text/plain": [
              "       carat  clarity  color  cut  depth  table     x     y     z   price\n",
              "0       1.26        2      4    2   60.6   60.0  6.97  7.00  4.23  6546.0\n",
              "1       0.80        3      4    4   62.1   54.0  5.96  5.99  3.71  3030.0\n",
              "2       0.56        4      2    4   61.7   54.0  5.28  5.32  3.27  1915.0\n",
              "3       1.51        3      6    1   64.0   58.0  7.24  7.27  4.64  6936.0\n",
              "4       0.33        6      5    4   62.2   54.0  4.43  4.45  2.76   646.0\n",
              "...      ...      ...    ...  ...    ...    ...   ...   ...   ...     ...\n",
              "53935   1.02        2      4    2   62.9   59.0  6.38  6.41  4.02  4796.0\n",
              "53936   0.93        2      4    3   61.8   59.0  6.27  6.23  3.86  3750.0\n",
              "53937   0.30        4      5    4   62.4   54.0  4.30  4.32  2.69   491.0\n",
              "53938   0.36        3      2    4   61.5   55.0  4.60  4.57  2.82   807.0\n",
              "53939   0.70        1      2    2   60.7   58.0  5.73  5.77  3.49  2195.0\n",
              "\n",
              "[53940 rows x 10 columns]"
            ],
            "text/html": [
              "\n",
              "  <div id=\"df-f3f25d1f-2e4c-407b-9143-a5f2fa0e64fa\">\n",
              "    <div class=\"colab-df-container\">\n",
              "      <div>\n",
              "<style scoped>\n",
              "    .dataframe tbody tr th:only-of-type {\n",
              "        vertical-align: middle;\n",
              "    }\n",
              "\n",
              "    .dataframe tbody tr th {\n",
              "        vertical-align: top;\n",
              "    }\n",
              "\n",
              "    .dataframe thead th {\n",
              "        text-align: right;\n",
              "    }\n",
              "</style>\n",
              "<table border=\"1\" class=\"dataframe\">\n",
              "  <thead>\n",
              "    <tr style=\"text-align: right;\">\n",
              "      <th></th>\n",
              "      <th>carat</th>\n",
              "      <th>clarity</th>\n",
              "      <th>color</th>\n",
              "      <th>cut</th>\n",
              "      <th>depth</th>\n",
              "      <th>table</th>\n",
              "      <th>x</th>\n",
              "      <th>y</th>\n",
              "      <th>z</th>\n",
              "      <th>price</th>\n",
              "    </tr>\n",
              "  </thead>\n",
              "  <tbody>\n",
              "    <tr>\n",
              "      <th>0</th>\n",
              "      <td>1.26</td>\n",
              "      <td>2</td>\n",
              "      <td>4</td>\n",
              "      <td>2</td>\n",
              "      <td>60.6</td>\n",
              "      <td>60.0</td>\n",
              "      <td>6.97</td>\n",
              "      <td>7.00</td>\n",
              "      <td>4.23</td>\n",
              "      <td>6546.0</td>\n",
              "    </tr>\n",
              "    <tr>\n",
              "      <th>1</th>\n",
              "      <td>0.80</td>\n",
              "      <td>3</td>\n",
              "      <td>4</td>\n",
              "      <td>4</td>\n",
              "      <td>62.1</td>\n",
              "      <td>54.0</td>\n",
              "      <td>5.96</td>\n",
              "      <td>5.99</td>\n",
              "      <td>3.71</td>\n",
              "      <td>3030.0</td>\n",
              "    </tr>\n",
              "    <tr>\n",
              "      <th>2</th>\n",
              "      <td>0.56</td>\n",
              "      <td>4</td>\n",
              "      <td>2</td>\n",
              "      <td>4</td>\n",
              "      <td>61.7</td>\n",
              "      <td>54.0</td>\n",
              "      <td>5.28</td>\n",
              "      <td>5.32</td>\n",
              "      <td>3.27</td>\n",
              "      <td>1915.0</td>\n",
              "    </tr>\n",
              "    <tr>\n",
              "      <th>3</th>\n",
              "      <td>1.51</td>\n",
              "      <td>3</td>\n",
              "      <td>6</td>\n",
              "      <td>1</td>\n",
              "      <td>64.0</td>\n",
              "      <td>58.0</td>\n",
              "      <td>7.24</td>\n",
              "      <td>7.27</td>\n",
              "      <td>4.64</td>\n",
              "      <td>6936.0</td>\n",
              "    </tr>\n",
              "    <tr>\n",
              "      <th>4</th>\n",
              "      <td>0.33</td>\n",
              "      <td>6</td>\n",
              "      <td>5</td>\n",
              "      <td>4</td>\n",
              "      <td>62.2</td>\n",
              "      <td>54.0</td>\n",
              "      <td>4.43</td>\n",
              "      <td>4.45</td>\n",
              "      <td>2.76</td>\n",
              "      <td>646.0</td>\n",
              "    </tr>\n",
              "    <tr>\n",
              "      <th>...</th>\n",
              "      <td>...</td>\n",
              "      <td>...</td>\n",
              "      <td>...</td>\n",
              "      <td>...</td>\n",
              "      <td>...</td>\n",
              "      <td>...</td>\n",
              "      <td>...</td>\n",
              "      <td>...</td>\n",
              "      <td>...</td>\n",
              "      <td>...</td>\n",
              "    </tr>\n",
              "    <tr>\n",
              "      <th>53935</th>\n",
              "      <td>1.02</td>\n",
              "      <td>2</td>\n",
              "      <td>4</td>\n",
              "      <td>2</td>\n",
              "      <td>62.9</td>\n",
              "      <td>59.0</td>\n",
              "      <td>6.38</td>\n",
              "      <td>6.41</td>\n",
              "      <td>4.02</td>\n",
              "      <td>4796.0</td>\n",
              "    </tr>\n",
              "    <tr>\n",
              "      <th>53936</th>\n",
              "      <td>0.93</td>\n",
              "      <td>2</td>\n",
              "      <td>4</td>\n",
              "      <td>3</td>\n",
              "      <td>61.8</td>\n",
              "      <td>59.0</td>\n",
              "      <td>6.27</td>\n",
              "      <td>6.23</td>\n",
              "      <td>3.86</td>\n",
              "      <td>3750.0</td>\n",
              "    </tr>\n",
              "    <tr>\n",
              "      <th>53937</th>\n",
              "      <td>0.30</td>\n",
              "      <td>4</td>\n",
              "      <td>5</td>\n",
              "      <td>4</td>\n",
              "      <td>62.4</td>\n",
              "      <td>54.0</td>\n",
              "      <td>4.30</td>\n",
              "      <td>4.32</td>\n",
              "      <td>2.69</td>\n",
              "      <td>491.0</td>\n",
              "    </tr>\n",
              "    <tr>\n",
              "      <th>53938</th>\n",
              "      <td>0.36</td>\n",
              "      <td>3</td>\n",
              "      <td>2</td>\n",
              "      <td>4</td>\n",
              "      <td>61.5</td>\n",
              "      <td>55.0</td>\n",
              "      <td>4.60</td>\n",
              "      <td>4.57</td>\n",
              "      <td>2.82</td>\n",
              "      <td>807.0</td>\n",
              "    </tr>\n",
              "    <tr>\n",
              "      <th>53939</th>\n",
              "      <td>0.70</td>\n",
              "      <td>1</td>\n",
              "      <td>2</td>\n",
              "      <td>2</td>\n",
              "      <td>60.7</td>\n",
              "      <td>58.0</td>\n",
              "      <td>5.73</td>\n",
              "      <td>5.77</td>\n",
              "      <td>3.49</td>\n",
              "      <td>2195.0</td>\n",
              "    </tr>\n",
              "  </tbody>\n",
              "</table>\n",
              "<p>53940 rows × 10 columns</p>\n",
              "</div>\n",
              "      <button class=\"colab-df-convert\" onclick=\"convertToInteractive('df-f3f25d1f-2e4c-407b-9143-a5f2fa0e64fa')\"\n",
              "              title=\"Convert this dataframe to an interactive table.\"\n",
              "              style=\"display:none;\">\n",
              "        \n",
              "  <svg xmlns=\"http://www.w3.org/2000/svg\" height=\"24px\"viewBox=\"0 0 24 24\"\n",
              "       width=\"24px\">\n",
              "    <path d=\"M0 0h24v24H0V0z\" fill=\"none\"/>\n",
              "    <path d=\"M18.56 5.44l.94 2.06.94-2.06 2.06-.94-2.06-.94-.94-2.06-.94 2.06-2.06.94zm-11 1L8.5 8.5l.94-2.06 2.06-.94-2.06-.94L8.5 2.5l-.94 2.06-2.06.94zm10 10l.94 2.06.94-2.06 2.06-.94-2.06-.94-.94-2.06-.94 2.06-2.06.94z\"/><path d=\"M17.41 7.96l-1.37-1.37c-.4-.4-.92-.59-1.43-.59-.52 0-1.04.2-1.43.59L10.3 9.45l-7.72 7.72c-.78.78-.78 2.05 0 2.83L4 21.41c.39.39.9.59 1.41.59.51 0 1.02-.2 1.41-.59l7.78-7.78 2.81-2.81c.8-.78.8-2.07 0-2.86zM5.41 20L4 18.59l7.72-7.72 1.47 1.35L5.41 20z\"/>\n",
              "  </svg>\n",
              "      </button>\n",
              "      \n",
              "  <style>\n",
              "    .colab-df-container {\n",
              "      display:flex;\n",
              "      flex-wrap:wrap;\n",
              "      gap: 12px;\n",
              "    }\n",
              "\n",
              "    .colab-df-convert {\n",
              "      background-color: #E8F0FE;\n",
              "      border: none;\n",
              "      border-radius: 50%;\n",
              "      cursor: pointer;\n",
              "      display: none;\n",
              "      fill: #1967D2;\n",
              "      height: 32px;\n",
              "      padding: 0 0 0 0;\n",
              "      width: 32px;\n",
              "    }\n",
              "\n",
              "    .colab-df-convert:hover {\n",
              "      background-color: #E2EBFA;\n",
              "      box-shadow: 0px 1px 2px rgba(60, 64, 67, 0.3), 0px 1px 3px 1px rgba(60, 64, 67, 0.15);\n",
              "      fill: #174EA6;\n",
              "    }\n",
              "\n",
              "    [theme=dark] .colab-df-convert {\n",
              "      background-color: #3B4455;\n",
              "      fill: #D2E3FC;\n",
              "    }\n",
              "\n",
              "    [theme=dark] .colab-df-convert:hover {\n",
              "      background-color: #434B5C;\n",
              "      box-shadow: 0px 1px 3px 1px rgba(0, 0, 0, 0.15);\n",
              "      filter: drop-shadow(0px 1px 2px rgba(0, 0, 0, 0.3));\n",
              "      fill: #FFFFFF;\n",
              "    }\n",
              "  </style>\n",
              "\n",
              "      <script>\n",
              "        const buttonEl =\n",
              "          document.querySelector('#df-f3f25d1f-2e4c-407b-9143-a5f2fa0e64fa button.colab-df-convert');\n",
              "        buttonEl.style.display =\n",
              "          google.colab.kernel.accessAllowed ? 'block' : 'none';\n",
              "\n",
              "        async function convertToInteractive(key) {\n",
              "          const element = document.querySelector('#df-f3f25d1f-2e4c-407b-9143-a5f2fa0e64fa');\n",
              "          const dataTable =\n",
              "            await google.colab.kernel.invokeFunction('convertToInteractive',\n",
              "                                                     [key], {});\n",
              "          if (!dataTable) return;\n",
              "\n",
              "          const docLinkHtml = 'Like what you see? Visit the ' +\n",
              "            '<a target=\"_blank\" href=https://colab.research.google.com/notebooks/data_table.ipynb>data table notebook</a>'\n",
              "            + ' to learn more about interactive tables.';\n",
              "          element.innerHTML = '';\n",
              "          dataTable['output_type'] = 'display_data';\n",
              "          await google.colab.output.renderOutput(dataTable, element);\n",
              "          const docLink = document.createElement('div');\n",
              "          docLink.innerHTML = docLinkHtml;\n",
              "          element.appendChild(docLink);\n",
              "        }\n",
              "      </script>\n",
              "    </div>\n",
              "  </div>\n",
              "  "
            ]
          },
          "metadata": {},
          "execution_count": 4
        }
      ]
    },
    {
      "cell_type": "code",
      "source": [
        "price_classes = ['[0, 5000]', '(5000, 10000]', '(10000, 15000]', '15000+']\n",
        "feature_names = diamonds.columns.to_list()\n",
        "feature_names.remove('class')\n",
        "feature_names"
      ],
      "metadata": {
        "id": "eKvzCQVwWXXT",
        "colab": {
          "base_uri": "https://localhost:8080/"
        },
        "outputId": "a915a99c-ea36-4ad3-9c2f-aee8e62a6e04"
      },
      "execution_count": 5,
      "outputs": [
        {
          "output_type": "execute_result",
          "data": {
            "text/plain": [
              "['carat', 'clarity', 'color', 'cut', 'depth', 'table', 'x', 'y', 'z', 'volume']"
            ]
          },
          "metadata": {},
          "execution_count": 5
        }
      ]
    },
    {
      "cell_type": "code",
      "source": [
        "X = diamonds[feature_names]\n",
        "y = diamonds['class']"
      ],
      "metadata": {
        "id": "iBLEGa7UW3t6"
      },
      "execution_count": 6,
      "outputs": []
    },
    {
      "cell_type": "code",
      "source": [
        "X"
      ],
      "metadata": {
        "id": "gMP_ppx0XCso",
        "colab": {
          "base_uri": "https://localhost:8080/",
          "height": 424
        },
        "outputId": "5af19fdb-5504-477e-f106-823e3796ca30"
      },
      "execution_count": 7,
      "outputs": [
        {
          "output_type": "execute_result",
          "data": {
            "text/plain": [
              "       carat  clarity  color  cut     depth  table         x         y  \\\n",
              "0       1.26        2      4    2  0.364706   0.72  0.661224  0.680328   \n",
              "1       0.80        3      4    4  0.541176   0.24  0.455102  0.473361   \n",
              "2       0.56        4      2    4  0.494118   0.24  0.316327  0.336066   \n",
              "3       1.51        3      6    1  0.764706   0.56  0.716326  0.735656   \n",
              "4       0.33        6      5    4  0.552941   0.24  0.142857  0.157787   \n",
              "...      ...      ...    ...  ...       ...    ...       ...       ...   \n",
              "52325   1.02        2      4    2  0.635294   0.64  0.540816  0.559426   \n",
              "52326   0.93        2      4    3  0.505882   0.64  0.518367  0.522541   \n",
              "52327   0.30        4      5    4  0.576471   0.24  0.116327  0.131148   \n",
              "52328   0.36        3      2    4  0.470588   0.32  0.177551  0.182377   \n",
              "52329   0.70        1      2    2  0.376471   0.56  0.408163  0.428279   \n",
              "\n",
              "              z    volume  \n",
              "0      0.716180  0.512314  \n",
              "1      0.578249  0.295469  \n",
              "2      0.461538  0.176404  \n",
              "3      0.824934  0.623309  \n",
              "4      0.326260  0.066582  \n",
              "...         ...       ...  \n",
              "52325  0.660477  0.389186  \n",
              "52326  0.618037  0.349234  \n",
              "52327  0.307692  0.053560  \n",
              "52328  0.342175  0.080874  \n",
              "52329  0.519894  0.245428  \n",
              "\n",
              "[52330 rows x 10 columns]"
            ],
            "text/html": [
              "\n",
              "  <div id=\"df-26820108-6c94-409e-ba4d-42607c1a3793\">\n",
              "    <div class=\"colab-df-container\">\n",
              "      <div>\n",
              "<style scoped>\n",
              "    .dataframe tbody tr th:only-of-type {\n",
              "        vertical-align: middle;\n",
              "    }\n",
              "\n",
              "    .dataframe tbody tr th {\n",
              "        vertical-align: top;\n",
              "    }\n",
              "\n",
              "    .dataframe thead th {\n",
              "        text-align: right;\n",
              "    }\n",
              "</style>\n",
              "<table border=\"1\" class=\"dataframe\">\n",
              "  <thead>\n",
              "    <tr style=\"text-align: right;\">\n",
              "      <th></th>\n",
              "      <th>carat</th>\n",
              "      <th>clarity</th>\n",
              "      <th>color</th>\n",
              "      <th>cut</th>\n",
              "      <th>depth</th>\n",
              "      <th>table</th>\n",
              "      <th>x</th>\n",
              "      <th>y</th>\n",
              "      <th>z</th>\n",
              "      <th>volume</th>\n",
              "    </tr>\n",
              "  </thead>\n",
              "  <tbody>\n",
              "    <tr>\n",
              "      <th>0</th>\n",
              "      <td>1.26</td>\n",
              "      <td>2</td>\n",
              "      <td>4</td>\n",
              "      <td>2</td>\n",
              "      <td>0.364706</td>\n",
              "      <td>0.72</td>\n",
              "      <td>0.661224</td>\n",
              "      <td>0.680328</td>\n",
              "      <td>0.716180</td>\n",
              "      <td>0.512314</td>\n",
              "    </tr>\n",
              "    <tr>\n",
              "      <th>1</th>\n",
              "      <td>0.80</td>\n",
              "      <td>3</td>\n",
              "      <td>4</td>\n",
              "      <td>4</td>\n",
              "      <td>0.541176</td>\n",
              "      <td>0.24</td>\n",
              "      <td>0.455102</td>\n",
              "      <td>0.473361</td>\n",
              "      <td>0.578249</td>\n",
              "      <td>0.295469</td>\n",
              "    </tr>\n",
              "    <tr>\n",
              "      <th>2</th>\n",
              "      <td>0.56</td>\n",
              "      <td>4</td>\n",
              "      <td>2</td>\n",
              "      <td>4</td>\n",
              "      <td>0.494118</td>\n",
              "      <td>0.24</td>\n",
              "      <td>0.316327</td>\n",
              "      <td>0.336066</td>\n",
              "      <td>0.461538</td>\n",
              "      <td>0.176404</td>\n",
              "    </tr>\n",
              "    <tr>\n",
              "      <th>3</th>\n",
              "      <td>1.51</td>\n",
              "      <td>3</td>\n",
              "      <td>6</td>\n",
              "      <td>1</td>\n",
              "      <td>0.764706</td>\n",
              "      <td>0.56</td>\n",
              "      <td>0.716326</td>\n",
              "      <td>0.735656</td>\n",
              "      <td>0.824934</td>\n",
              "      <td>0.623309</td>\n",
              "    </tr>\n",
              "    <tr>\n",
              "      <th>4</th>\n",
              "      <td>0.33</td>\n",
              "      <td>6</td>\n",
              "      <td>5</td>\n",
              "      <td>4</td>\n",
              "      <td>0.552941</td>\n",
              "      <td>0.24</td>\n",
              "      <td>0.142857</td>\n",
              "      <td>0.157787</td>\n",
              "      <td>0.326260</td>\n",
              "      <td>0.066582</td>\n",
              "    </tr>\n",
              "    <tr>\n",
              "      <th>...</th>\n",
              "      <td>...</td>\n",
              "      <td>...</td>\n",
              "      <td>...</td>\n",
              "      <td>...</td>\n",
              "      <td>...</td>\n",
              "      <td>...</td>\n",
              "      <td>...</td>\n",
              "      <td>...</td>\n",
              "      <td>...</td>\n",
              "      <td>...</td>\n",
              "    </tr>\n",
              "    <tr>\n",
              "      <th>52325</th>\n",
              "      <td>1.02</td>\n",
              "      <td>2</td>\n",
              "      <td>4</td>\n",
              "      <td>2</td>\n",
              "      <td>0.635294</td>\n",
              "      <td>0.64</td>\n",
              "      <td>0.540816</td>\n",
              "      <td>0.559426</td>\n",
              "      <td>0.660477</td>\n",
              "      <td>0.389186</td>\n",
              "    </tr>\n",
              "    <tr>\n",
              "      <th>52326</th>\n",
              "      <td>0.93</td>\n",
              "      <td>2</td>\n",
              "      <td>4</td>\n",
              "      <td>3</td>\n",
              "      <td>0.505882</td>\n",
              "      <td>0.64</td>\n",
              "      <td>0.518367</td>\n",
              "      <td>0.522541</td>\n",
              "      <td>0.618037</td>\n",
              "      <td>0.349234</td>\n",
              "    </tr>\n",
              "    <tr>\n",
              "      <th>52327</th>\n",
              "      <td>0.30</td>\n",
              "      <td>4</td>\n",
              "      <td>5</td>\n",
              "      <td>4</td>\n",
              "      <td>0.576471</td>\n",
              "      <td>0.24</td>\n",
              "      <td>0.116327</td>\n",
              "      <td>0.131148</td>\n",
              "      <td>0.307692</td>\n",
              "      <td>0.053560</td>\n",
              "    </tr>\n",
              "    <tr>\n",
              "      <th>52328</th>\n",
              "      <td>0.36</td>\n",
              "      <td>3</td>\n",
              "      <td>2</td>\n",
              "      <td>4</td>\n",
              "      <td>0.470588</td>\n",
              "      <td>0.32</td>\n",
              "      <td>0.177551</td>\n",
              "      <td>0.182377</td>\n",
              "      <td>0.342175</td>\n",
              "      <td>0.080874</td>\n",
              "    </tr>\n",
              "    <tr>\n",
              "      <th>52329</th>\n",
              "      <td>0.70</td>\n",
              "      <td>1</td>\n",
              "      <td>2</td>\n",
              "      <td>2</td>\n",
              "      <td>0.376471</td>\n",
              "      <td>0.56</td>\n",
              "      <td>0.408163</td>\n",
              "      <td>0.428279</td>\n",
              "      <td>0.519894</td>\n",
              "      <td>0.245428</td>\n",
              "    </tr>\n",
              "  </tbody>\n",
              "</table>\n",
              "<p>52330 rows × 10 columns</p>\n",
              "</div>\n",
              "      <button class=\"colab-df-convert\" onclick=\"convertToInteractive('df-26820108-6c94-409e-ba4d-42607c1a3793')\"\n",
              "              title=\"Convert this dataframe to an interactive table.\"\n",
              "              style=\"display:none;\">\n",
              "        \n",
              "  <svg xmlns=\"http://www.w3.org/2000/svg\" height=\"24px\"viewBox=\"0 0 24 24\"\n",
              "       width=\"24px\">\n",
              "    <path d=\"M0 0h24v24H0V0z\" fill=\"none\"/>\n",
              "    <path d=\"M18.56 5.44l.94 2.06.94-2.06 2.06-.94-2.06-.94-.94-2.06-.94 2.06-2.06.94zm-11 1L8.5 8.5l.94-2.06 2.06-.94-2.06-.94L8.5 2.5l-.94 2.06-2.06.94zm10 10l.94 2.06.94-2.06 2.06-.94-2.06-.94-.94-2.06-.94 2.06-2.06.94z\"/><path d=\"M17.41 7.96l-1.37-1.37c-.4-.4-.92-.59-1.43-.59-.52 0-1.04.2-1.43.59L10.3 9.45l-7.72 7.72c-.78.78-.78 2.05 0 2.83L4 21.41c.39.39.9.59 1.41.59.51 0 1.02-.2 1.41-.59l7.78-7.78 2.81-2.81c.8-.78.8-2.07 0-2.86zM5.41 20L4 18.59l7.72-7.72 1.47 1.35L5.41 20z\"/>\n",
              "  </svg>\n",
              "      </button>\n",
              "      \n",
              "  <style>\n",
              "    .colab-df-container {\n",
              "      display:flex;\n",
              "      flex-wrap:wrap;\n",
              "      gap: 12px;\n",
              "    }\n",
              "\n",
              "    .colab-df-convert {\n",
              "      background-color: #E8F0FE;\n",
              "      border: none;\n",
              "      border-radius: 50%;\n",
              "      cursor: pointer;\n",
              "      display: none;\n",
              "      fill: #1967D2;\n",
              "      height: 32px;\n",
              "      padding: 0 0 0 0;\n",
              "      width: 32px;\n",
              "    }\n",
              "\n",
              "    .colab-df-convert:hover {\n",
              "      background-color: #E2EBFA;\n",
              "      box-shadow: 0px 1px 2px rgba(60, 64, 67, 0.3), 0px 1px 3px 1px rgba(60, 64, 67, 0.15);\n",
              "      fill: #174EA6;\n",
              "    }\n",
              "\n",
              "    [theme=dark] .colab-df-convert {\n",
              "      background-color: #3B4455;\n",
              "      fill: #D2E3FC;\n",
              "    }\n",
              "\n",
              "    [theme=dark] .colab-df-convert:hover {\n",
              "      background-color: #434B5C;\n",
              "      box-shadow: 0px 1px 3px 1px rgba(0, 0, 0, 0.15);\n",
              "      filter: drop-shadow(0px 1px 2px rgba(0, 0, 0, 0.3));\n",
              "      fill: #FFFFFF;\n",
              "    }\n",
              "  </style>\n",
              "\n",
              "      <script>\n",
              "        const buttonEl =\n",
              "          document.querySelector('#df-26820108-6c94-409e-ba4d-42607c1a3793 button.colab-df-convert');\n",
              "        buttonEl.style.display =\n",
              "          google.colab.kernel.accessAllowed ? 'block' : 'none';\n",
              "\n",
              "        async function convertToInteractive(key) {\n",
              "          const element = document.querySelector('#df-26820108-6c94-409e-ba4d-42607c1a3793');\n",
              "          const dataTable =\n",
              "            await google.colab.kernel.invokeFunction('convertToInteractive',\n",
              "                                                     [key], {});\n",
              "          if (!dataTable) return;\n",
              "\n",
              "          const docLinkHtml = 'Like what you see? Visit the ' +\n",
              "            '<a target=\"_blank\" href=https://colab.research.google.com/notebooks/data_table.ipynb>data table notebook</a>'\n",
              "            + ' to learn more about interactive tables.';\n",
              "          element.innerHTML = '';\n",
              "          dataTable['output_type'] = 'display_data';\n",
              "          await google.colab.output.renderOutput(dataTable, element);\n",
              "          const docLink = document.createElement('div');\n",
              "          docLink.innerHTML = docLinkHtml;\n",
              "          element.appendChild(docLink);\n",
              "        }\n",
              "      </script>\n",
              "    </div>\n",
              "  </div>\n",
              "  "
            ]
          },
          "metadata": {},
          "execution_count": 7
        }
      ]
    },
    {
      "cell_type": "code",
      "source": [
        "y"
      ],
      "metadata": {
        "id": "tXufOM4tXEyx",
        "colab": {
          "base_uri": "https://localhost:8080/"
        },
        "outputId": "42d5d878-55fe-4c7f-da25-a5328b0e17b8"
      },
      "execution_count": 8,
      "outputs": [
        {
          "output_type": "execute_result",
          "data": {
            "text/plain": [
              "0        (5000, 10000]\n",
              "1            [0, 5000]\n",
              "2            [0, 5000]\n",
              "3        (5000, 10000]\n",
              "4            [0, 5000]\n",
              "             ...      \n",
              "52325        [0, 5000]\n",
              "52326        [0, 5000]\n",
              "52327        [0, 5000]\n",
              "52328        [0, 5000]\n",
              "52329        [0, 5000]\n",
              "Name: class, Length: 52330, dtype: object"
            ]
          },
          "metadata": {},
          "execution_count": 8
        }
      ]
    },
    {
      "cell_type": "code",
      "source": [
        "X_train, X_test, y_train, y_test = train_test_split(X, y, test_size=0.3, random_state=42)\n",
        "all_predictions = []\n",
        "accuracy_scores = []"
      ],
      "metadata": {
        "id": "ZW9tFZOEfFlI"
      },
      "execution_count": 9,
      "outputs": []
    },
    {
      "cell_type": "markdown",
      "source": [
        "***"
      ],
      "metadata": {
        "id": "0LjR3ddqjlJ2"
      }
    },
    {
      "cell_type": "markdown",
      "source": [
        "Pomocne funkcije za izvestaj o modelu"
      ],
      "metadata": {
        "id": "MWehSD_4jhG6"
      }
    },
    {
      "cell_type": "code",
      "source": [
        "def plot_predicted_probabilities(pipeline, X_test):\n",
        "    probabilities = pipeline.predict_proba(X_test)\n",
        "    classes = model.classes_\n",
        "\n",
        "    fig, ax = plt.subplots()\n",
        "    ax.bar(classes, np.max(probabilities, axis=0), color='#006400')\n",
        "    ax.grid(alpha=0.5)\n",
        "    ax.set_xlabel('Class')\n",
        "    ax.set_ylabel('Probability')\n",
        "    ax.set_xticks(classes)\n",
        "    plt.show()\n",
        "\n",
        "def model_report(pipeline, X_test, y_test):\n",
        "  y_pred = pipeline.predict(X_test)\n",
        "  model = pipeline['model']\n",
        "  accuracy = accuracy_score(y_test, y_pred)\n",
        "  all_predictions.append(y_pred)\n",
        "  accuracy_scores.append(accuracy)\n",
        "\n",
        "  print(f'Izvestaj o {type(model).__name__} modelu:')\n",
        "  print('-------------------------------------------------------------------')\n",
        "  print(f'Klase za predvidjanje: {price_classes}')\n",
        "  print(f'Accuracy: {accuracy}')\n",
        "  print('-------------------------------------------------------------------')\n",
        "  print('Klasifikacioni izvestaj: ')\n",
        "  print(classification_report(y_test, y_pred))\n",
        "  print('-------------------------------------------------------------------')\n",
        "  print('Matrica konfuzije: ')\n",
        "  data = confusion_matrix(y_test, y_pred)\n",
        "  _ = sns.heatmap(data, annot=True, fmt='g', xticklabels=model.classes_, yticklabels=model.classes_, cmap = plt.cm.Reds)\n",
        "\n"
      ],
      "metadata": {
        "id": "V8teokHcjmae"
      },
      "execution_count": 10,
      "outputs": []
    },
    {
      "cell_type": "markdown",
      "source": [
        "## SVC"
      ],
      "metadata": {
        "id": "0i_Wdp_WU-3i"
      }
    },
    {
      "cell_type": "code",
      "source": [
        "class_percentages = [73.2, 17.7, 6.4, 2.6]\n",
        "class_weights = {}\n",
        "for i in range(4):\n",
        "  class_weights[price_classes[i]] = (100 / class_percentages[i])\n",
        "\n",
        "class_weights"
      ],
      "metadata": {
        "colab": {
          "base_uri": "https://localhost:8080/"
        },
        "id": "kHZAmEQ0WJYi",
        "outputId": "2c1c6a66-3dea-4dd8-bb36-3ce41d1cad5e"
      },
      "execution_count": 11,
      "outputs": [
        {
          "output_type": "execute_result",
          "data": {
            "text/plain": [
              "{'[0, 5000]': 1.366120218579235,\n",
              " '(5000, 10000]': 5.649717514124294,\n",
              " '(10000, 15000]': 15.625,\n",
              " '15000+': 38.46153846153846}"
            ]
          },
          "metadata": {},
          "execution_count": 11
        }
      ]
    },
    {
      "cell_type": "code",
      "source": [
        "svc = Pipeline([\n",
        "    ('model', SVC(class_weight=class_weights, random_state=42))\n",
        "])"
      ],
      "metadata": {
        "id": "JmKUkpQPXfDw"
      },
      "execution_count": 12,
      "outputs": []
    },
    {
      "cell_type": "code",
      "source": [
        "svc.fit(X_train, y_train)"
      ],
      "metadata": {
        "id": "67CT-ijve1ea",
        "colab": {
          "base_uri": "https://localhost:8080/",
          "height": 92
        },
        "outputId": "447ecb12-4748-4513-8170-2ca13420f62b"
      },
      "execution_count": 13,
      "outputs": [
        {
          "output_type": "execute_result",
          "data": {
            "text/plain": [
              "Pipeline(steps=[('model',\n",
              "                 SVC(class_weight={'(10000, 15000]': 15.625,\n",
              "                                   '(5000, 10000]': 5.649717514124294,\n",
              "                                   '15000+': 38.46153846153846,\n",
              "                                   '[0, 5000]': 1.366120218579235},\n",
              "                     random_state=42))])"
            ],
            "text/html": [
              "<style>#sk-container-id-1 {color: black;background-color: white;}#sk-container-id-1 pre{padding: 0;}#sk-container-id-1 div.sk-toggleable {background-color: white;}#sk-container-id-1 label.sk-toggleable__label {cursor: pointer;display: block;width: 100%;margin-bottom: 0;padding: 0.3em;box-sizing: border-box;text-align: center;}#sk-container-id-1 label.sk-toggleable__label-arrow:before {content: \"▸\";float: left;margin-right: 0.25em;color: #696969;}#sk-container-id-1 label.sk-toggleable__label-arrow:hover:before {color: black;}#sk-container-id-1 div.sk-estimator:hover label.sk-toggleable__label-arrow:before {color: black;}#sk-container-id-1 div.sk-toggleable__content {max-height: 0;max-width: 0;overflow: hidden;text-align: left;background-color: #f0f8ff;}#sk-container-id-1 div.sk-toggleable__content pre {margin: 0.2em;color: black;border-radius: 0.25em;background-color: #f0f8ff;}#sk-container-id-1 input.sk-toggleable__control:checked~div.sk-toggleable__content {max-height: 200px;max-width: 100%;overflow: auto;}#sk-container-id-1 input.sk-toggleable__control:checked~label.sk-toggleable__label-arrow:before {content: \"▾\";}#sk-container-id-1 div.sk-estimator input.sk-toggleable__control:checked~label.sk-toggleable__label {background-color: #d4ebff;}#sk-container-id-1 div.sk-label input.sk-toggleable__control:checked~label.sk-toggleable__label {background-color: #d4ebff;}#sk-container-id-1 input.sk-hidden--visually {border: 0;clip: rect(1px 1px 1px 1px);clip: rect(1px, 1px, 1px, 1px);height: 1px;margin: -1px;overflow: hidden;padding: 0;position: absolute;width: 1px;}#sk-container-id-1 div.sk-estimator {font-family: monospace;background-color: #f0f8ff;border: 1px dotted black;border-radius: 0.25em;box-sizing: border-box;margin-bottom: 0.5em;}#sk-container-id-1 div.sk-estimator:hover {background-color: #d4ebff;}#sk-container-id-1 div.sk-parallel-item::after {content: \"\";width: 100%;border-bottom: 1px solid gray;flex-grow: 1;}#sk-container-id-1 div.sk-label:hover label.sk-toggleable__label {background-color: #d4ebff;}#sk-container-id-1 div.sk-serial::before {content: \"\";position: absolute;border-left: 1px solid gray;box-sizing: border-box;top: 0;bottom: 0;left: 50%;z-index: 0;}#sk-container-id-1 div.sk-serial {display: flex;flex-direction: column;align-items: center;background-color: white;padding-right: 0.2em;padding-left: 0.2em;position: relative;}#sk-container-id-1 div.sk-item {position: relative;z-index: 1;}#sk-container-id-1 div.sk-parallel {display: flex;align-items: stretch;justify-content: center;background-color: white;position: relative;}#sk-container-id-1 div.sk-item::before, #sk-container-id-1 div.sk-parallel-item::before {content: \"\";position: absolute;border-left: 1px solid gray;box-sizing: border-box;top: 0;bottom: 0;left: 50%;z-index: -1;}#sk-container-id-1 div.sk-parallel-item {display: flex;flex-direction: column;z-index: 1;position: relative;background-color: white;}#sk-container-id-1 div.sk-parallel-item:first-child::after {align-self: flex-end;width: 50%;}#sk-container-id-1 div.sk-parallel-item:last-child::after {align-self: flex-start;width: 50%;}#sk-container-id-1 div.sk-parallel-item:only-child::after {width: 0;}#sk-container-id-1 div.sk-dashed-wrapped {border: 1px dashed gray;margin: 0 0.4em 0.5em 0.4em;box-sizing: border-box;padding-bottom: 0.4em;background-color: white;}#sk-container-id-1 div.sk-label label {font-family: monospace;font-weight: bold;display: inline-block;line-height: 1.2em;}#sk-container-id-1 div.sk-label-container {text-align: center;}#sk-container-id-1 div.sk-container {/* jupyter's `normalize.less` sets `[hidden] { display: none; }` but bootstrap.min.css set `[hidden] { display: none !important; }` so we also need the `!important` here to be able to override the default hidden behavior on the sphinx rendered scikit-learn.org. See: https://github.com/scikit-learn/scikit-learn/issues/21755 */display: inline-block !important;position: relative;}#sk-container-id-1 div.sk-text-repr-fallback {display: none;}</style><div id=\"sk-container-id-1\" class=\"sk-top-container\"><div class=\"sk-text-repr-fallback\"><pre>Pipeline(steps=[(&#x27;model&#x27;,\n",
              "                 SVC(class_weight={&#x27;(10000, 15000]&#x27;: 15.625,\n",
              "                                   &#x27;(5000, 10000]&#x27;: 5.649717514124294,\n",
              "                                   &#x27;15000+&#x27;: 38.46153846153846,\n",
              "                                   &#x27;[0, 5000]&#x27;: 1.366120218579235},\n",
              "                     random_state=42))])</pre><b>In a Jupyter environment, please rerun this cell to show the HTML representation or trust the notebook. <br />On GitHub, the HTML representation is unable to render, please try loading this page with nbviewer.org.</b></div><div class=\"sk-container\" hidden><div class=\"sk-item sk-dashed-wrapped\"><div class=\"sk-label-container\"><div class=\"sk-label sk-toggleable\"><input class=\"sk-toggleable__control sk-hidden--visually\" id=\"sk-estimator-id-1\" type=\"checkbox\" ><label for=\"sk-estimator-id-1\" class=\"sk-toggleable__label sk-toggleable__label-arrow\">Pipeline</label><div class=\"sk-toggleable__content\"><pre>Pipeline(steps=[(&#x27;model&#x27;,\n",
              "                 SVC(class_weight={&#x27;(10000, 15000]&#x27;: 15.625,\n",
              "                                   &#x27;(5000, 10000]&#x27;: 5.649717514124294,\n",
              "                                   &#x27;15000+&#x27;: 38.46153846153846,\n",
              "                                   &#x27;[0, 5000]&#x27;: 1.366120218579235},\n",
              "                     random_state=42))])</pre></div></div></div><div class=\"sk-serial\"><div class=\"sk-item\"><div class=\"sk-estimator sk-toggleable\"><input class=\"sk-toggleable__control sk-hidden--visually\" id=\"sk-estimator-id-2\" type=\"checkbox\" ><label for=\"sk-estimator-id-2\" class=\"sk-toggleable__label sk-toggleable__label-arrow\">SVC</label><div class=\"sk-toggleable__content\"><pre>SVC(class_weight={&#x27;(10000, 15000]&#x27;: 15.625, &#x27;(5000, 10000]&#x27;: 5.649717514124294,\n",
              "                  &#x27;15000+&#x27;: 38.46153846153846, &#x27;[0, 5000]&#x27;: 1.366120218579235},\n",
              "    random_state=42)</pre></div></div></div></div></div></div></div>"
            ]
          },
          "metadata": {},
          "execution_count": 13
        }
      ]
    },
    {
      "cell_type": "code",
      "source": [
        "model_report(svc, X_test, y_test)"
      ],
      "metadata": {
        "id": "tZs8fWAzg3Im",
        "colab": {
          "base_uri": "https://localhost:8080/",
          "height": 853
        },
        "outputId": "341694ea-e484-4d5e-ac77-9d50576d41e1"
      },
      "execution_count": 14,
      "outputs": [
        {
          "output_type": "stream",
          "name": "stdout",
          "text": [
            "Izvestaj o SVC modelu:\n",
            "-------------------------------------------------------------------\n",
            "Klase za predvidjanje: ['[0, 5000]', '(5000, 10000]', '(10000, 15000]', '15000+']\n",
            "Accuracy: 0.9357920886680681\n",
            "-------------------------------------------------------------------\n",
            "Klasifikacioni izvestaj: \n",
            "                precision    recall  f1-score   support\n",
            "\n",
            "(10000, 15000]       0.79      0.82      0.80      1018\n",
            " (5000, 10000]       0.81      0.92      0.86      2802\n",
            "        15000+       0.72      0.96      0.82       409\n",
            "     [0, 5000]       1.00      0.95      0.97     11470\n",
            "\n",
            "      accuracy                           0.94     15699\n",
            "     macro avg       0.83      0.91      0.86     15699\n",
            "  weighted avg       0.94      0.94      0.94     15699\n",
            "\n",
            "-------------------------------------------------------------------\n",
            "Matrica konfuzije: \n"
          ]
        },
        {
          "output_type": "display_data",
          "data": {
            "text/plain": [
              "<Figure size 640x480 with 2 Axes>"
            ],
            "image/png": "[encoded data removed]"
          },
          "metadata": {}
        }
      ]
    },
    {
      "cell_type": "markdown",
      "source": [
        "#### Hyperparameter tuning"
      ],
      "metadata": {
        "id": "r5L2-Ng0_nN2"
      }
    },
    {
      "cell_type": "code",
      "source": [
        "params = {\n",
        "    'model__kernel' : ['linear', 'rbf'],\n",
        "}"
      ],
      "metadata": {
        "id": "NHNcPzxm-jQD"
      },
      "execution_count": 15,
      "outputs": []
    },
    {
      "cell_type": "code",
      "source": [
        "grid = GridSearchCV(svc, param_grid=params, scoring='accuracy', cv=3, verbose=4)"
      ],
      "metadata": {
        "id": "xSOB4K-AhRxC"
      },
      "execution_count": 16,
      "outputs": []
    },
    {
      "cell_type": "code",
      "source": [
        "grid.fit(X_train, y_train)"
      ],
      "metadata": {
        "id": "UUqiq61ah-N_",
        "colab": {
          "base_uri": "https://localhost:8080/",
          "height": 239
        },
        "outputId": "88a3ead7-02df-4e2d-fe0b-03400ff0f9d6"
      },
      "execution_count": 17,
      "outputs": [
        {
          "output_type": "stream",
          "name": "stdout",
          "text": [
            "Fitting 3 folds for each of 2 candidates, totalling 6 fits\n",
            "[CV 1/3] END ..............model__kernel=linear;, score=0.914 total time=   8.3s\n",
            "[CV 2/3] END ..............model__kernel=linear;, score=0.914 total time=   8.4s\n",
            "[CV 3/3] END ..............model__kernel=linear;, score=0.913 total time=   8.5s\n",
            "[CV 1/3] END .................model__kernel=rbf;, score=0.933 total time=   9.8s\n",
            "[CV 2/3] END .................model__kernel=rbf;, score=0.934 total time=   9.3s\n",
            "[CV 3/3] END .................model__kernel=rbf;, score=0.931 total time=   9.8s\n"
          ]
        },
        {
          "output_type": "execute_result",
          "data": {
            "text/plain": [
              "GridSearchCV(cv=3,\n",
              "             estimator=Pipeline(steps=[('model',\n",
              "                                        SVC(class_weight={'(10000, 15000]': 15.625,\n",
              "                                                          '(5000, 10000]': 5.649717514124294,\n",
              "                                                          '15000+': 38.46153846153846,\n",
              "                                                          '[0, 5000]': 1.366120218579235},\n",
              "                                            random_state=42))]),\n",
              "             param_grid={'model__kernel': ['linear', 'rbf']},\n",
              "             scoring='accuracy', verbose=4)"
            ],
            "text/html": [
              "<style>#sk-container-id-2 {color: black;background-color: white;}#sk-container-id-2 pre{padding: 0;}#sk-container-id-2 div.sk-toggleable {background-color: white;}#sk-container-id-2 label.sk-toggleable__label {cursor: pointer;display: block;width: 100%;margin-bottom: 0;padding: 0.3em;box-sizing: border-box;text-align: center;}#sk-container-id-2 label.sk-toggleable__label-arrow:before {content: \"▸\";float: left;margin-right: 0.25em;color: #696969;}#sk-container-id-2 label.sk-toggleable__label-arrow:hover:before {color: black;}#sk-container-id-2 div.sk-estimator:hover label.sk-toggleable__label-arrow:before {color: black;}#sk-container-id-2 div.sk-toggleable__content {max-height: 0;max-width: 0;overflow: hidden;text-align: left;background-color: #f0f8ff;}#sk-container-id-2 div.sk-toggleable__content pre {margin: 0.2em;color: black;border-radius: 0.25em;background-color: #f0f8ff;}#sk-container-id-2 input.sk-toggleable__control:checked~div.sk-toggleable__content {max-height: 200px;max-width: 100%;overflow: auto;}#sk-container-id-2 input.sk-toggleable__control:checked~label.sk-toggleable__label-arrow:before {content: \"▾\";}#sk-container-id-2 div.sk-estimator input.sk-toggleable__control:checked~label.sk-toggleable__label {background-color: #d4ebff;}#sk-container-id-2 div.sk-label input.sk-toggleable__control:checked~label.sk-toggleable__label {background-color: #d4ebff;}#sk-container-id-2 input.sk-hidden--visually {border: 0;clip: rect(1px 1px 1px 1px);clip: rect(1px, 1px, 1px, 1px);height: 1px;margin: -1px;overflow: hidden;padding: 0;position: absolute;width: 1px;}#sk-container-id-2 div.sk-estimator {font-family: monospace;background-color: #f0f8ff;border: 1px dotted black;border-radius: 0.25em;box-sizing: border-box;margin-bottom: 0.5em;}#sk-container-id-2 div.sk-estimator:hover {background-color: #d4ebff;}#sk-container-id-2 div.sk-parallel-item::after {content: \"\";width: 100%;border-bottom: 1px solid gray;flex-grow: 1;}#sk-container-id-2 div.sk-label:hover label.sk-toggleable__label {background-color: #d4ebff;}#sk-container-id-2 div.sk-serial::before {content: \"\";position: absolute;border-left: 1px solid gray;box-sizing: border-box;top: 0;bottom: 0;left: 50%;z-index: 0;}#sk-container-id-2 div.sk-serial {display: flex;flex-direction: column;align-items: center;background-color: white;padding-right: 0.2em;padding-left: 0.2em;position: relative;}#sk-container-id-2 div.sk-item {position: relative;z-index: 1;}#sk-container-id-2 div.sk-parallel {display: flex;align-items: stretch;justify-content: center;background-color: white;position: relative;}#sk-container-id-2 div.sk-item::before, #sk-container-id-2 div.sk-parallel-item::before {content: \"\";position: absolute;border-left: 1px solid gray;box-sizing: border-box;top: 0;bottom: 0;left: 50%;z-index: -1;}#sk-container-id-2 div.sk-parallel-item {display: flex;flex-direction: column;z-index: 1;position: relative;background-color: white;}#sk-container-id-2 div.sk-parallel-item:first-child::after {align-self: flex-end;width: 50%;}#sk-container-id-2 div.sk-parallel-item:last-child::after {align-self: flex-start;width: 50%;}#sk-container-id-2 div.sk-parallel-item:only-child::after {width: 0;}#sk-container-id-2 div.sk-dashed-wrapped {border: 1px dashed gray;margin: 0 0.4em 0.5em 0.4em;box-sizing: border-box;padding-bottom: 0.4em;background-color: white;}#sk-container-id-2 div.sk-label label {font-family: monospace;font-weight: bold;display: inline-block;line-height: 1.2em;}#sk-container-id-2 div.sk-label-container {text-align: center;}#sk-container-id-2 div.sk-container {/* jupyter's `normalize.less` sets `[hidden] { display: none; }` but bootstrap.min.css set `[hidden] { display: none !important; }` so we also need the `!important` here to be able to override the default hidden behavior on the sphinx rendered scikit-learn.org. See: https://github.com/scikit-learn/scikit-learn/issues/21755 */display: inline-block !important;position: relative;}#sk-container-id-2 div.sk-text-repr-fallback {display: none;}</style><div id=\"sk-container-id-2\" class=\"sk-top-container\"><div class=\"sk-text-repr-fallback\"><pre>GridSearchCV(cv=3,\n",
              "             estimator=Pipeline(steps=[(&#x27;model&#x27;,\n",
              "                                        SVC(class_weight={&#x27;(10000, 15000]&#x27;: 15.625,\n",
              "                                                          &#x27;(5000, 10000]&#x27;: 5.649717514124294,\n",
              "                                                          &#x27;15000+&#x27;: 38.46153846153846,\n",
              "                                                          &#x27;[0, 5000]&#x27;: 1.366120218579235},\n",
              "                                            random_state=42))]),\n",
              "             param_grid={&#x27;model__kernel&#x27;: [&#x27;linear&#x27;, &#x27;rbf&#x27;]},\n",
              "             scoring=&#x27;accuracy&#x27;, verbose=4)</pre><b>In a Jupyter environment, please rerun this cell to show the HTML representation or trust the notebook. <br />On GitHub, the HTML representation is unable to render, please try loading this page with nbviewer.org.</b></div><div class=\"sk-container\" hidden><div class=\"sk-item sk-dashed-wrapped\"><div class=\"sk-label-container\"><div class=\"sk-label sk-toggleable\"><input class=\"sk-toggleable__control sk-hidden--visually\" id=\"sk-estimator-id-3\" type=\"checkbox\" ><label for=\"sk-estimator-id-3\" class=\"sk-toggleable__label sk-toggleable__label-arrow\">GridSearchCV</label><div class=\"sk-toggleable__content\"><pre>GridSearchCV(cv=3,\n",
              "             estimator=Pipeline(steps=[(&#x27;model&#x27;,\n",
              "                                        SVC(class_weight={&#x27;(10000, 15000]&#x27;: 15.625,\n",
              "                                                          &#x27;(5000, 10000]&#x27;: 5.649717514124294,\n",
              "                                                          &#x27;15000+&#x27;: 38.46153846153846,\n",
              "                                                          &#x27;[0, 5000]&#x27;: 1.366120218579235},\n",
              "                                            random_state=42))]),\n",
              "             param_grid={&#x27;model__kernel&#x27;: [&#x27;linear&#x27;, &#x27;rbf&#x27;]},\n",
              "             scoring=&#x27;accuracy&#x27;, verbose=4)</pre></div></div></div><div class=\"sk-parallel\"><div class=\"sk-parallel-item\"><div class=\"sk-item\"><div class=\"sk-label-container\"><div class=\"sk-label sk-toggleable\"><input class=\"sk-toggleable__control sk-hidden--visually\" id=\"sk-estimator-id-4\" type=\"checkbox\" ><label for=\"sk-estimator-id-4\" class=\"sk-toggleable__label sk-toggleable__label-arrow\">estimator: Pipeline</label><div class=\"sk-toggleable__content\"><pre>Pipeline(steps=[(&#x27;model&#x27;,\n",
              "                 SVC(class_weight={&#x27;(10000, 15000]&#x27;: 15.625,\n",
              "                                   &#x27;(5000, 10000]&#x27;: 5.649717514124294,\n",
              "                                   &#x27;15000+&#x27;: 38.46153846153846,\n",
              "                                   &#x27;[0, 5000]&#x27;: 1.366120218579235},\n",
              "                     random_state=42))])</pre></div></div></div><div class=\"sk-serial\"><div class=\"sk-item\"><div class=\"sk-serial\"><div class=\"sk-item\"><div class=\"sk-estimator sk-toggleable\"><input class=\"sk-toggleable__control sk-hidden--visually\" id=\"sk-estimator-id-5\" type=\"checkbox\" ><label for=\"sk-estimator-id-5\" class=\"sk-toggleable__label sk-toggleable__label-arrow\">SVC</label><div class=\"sk-toggleable__content\"><pre>SVC(class_weight={&#x27;(10000, 15000]&#x27;: 15.625, &#x27;(5000, 10000]&#x27;: 5.649717514124294,\n",
              "                  &#x27;15000+&#x27;: 38.46153846153846, &#x27;[0, 5000]&#x27;: 1.366120218579235},\n",
              "    random_state=42)</pre></div></div></div></div></div></div></div></div></div></div></div></div>"
            ]
          },
          "metadata": {},
          "execution_count": 17
        }
      ]
    },
    {
      "cell_type": "code",
      "source": [
        "grid.best_params_"
      ],
      "metadata": {
        "id": "R6t2kN0BiPbQ",
        "colab": {
          "base_uri": "https://localhost:8080/"
        },
        "outputId": "73ffc2e3-3639-4945-c090-79d793c17bc7"
      },
      "execution_count": 18,
      "outputs": [
        {
          "output_type": "execute_result",
          "data": {
            "text/plain": [
              "{'model__kernel': 'rbf'}"
            ]
          },
          "metadata": {},
          "execution_count": 18
        }
      ]
    },
    {
      "cell_type": "code",
      "source": [
        "svc_cv = grid.best_estimator_"
      ],
      "metadata": {
        "id": "7AHycrAojS33"
      },
      "execution_count": 19,
      "outputs": []
    },
    {
      "cell_type": "code",
      "source": [
        "model_report(svc_cv, X_test, y_test)"
      ],
      "metadata": {
        "id": "vxj1Kq-7isqW",
        "colab": {
          "base_uri": "https://localhost:8080/",
          "height": 853
        },
        "outputId": "1efedda0-ce96-4426-dbaa-540b4778896d"
      },
      "execution_count": 20,
      "outputs": [
        {
          "output_type": "stream",
          "name": "stdout",
          "text": [
            "Izvestaj o SVC modelu:\n",
            "-------------------------------------------------------------------\n",
            "Klase za predvidjanje: ['[0, 5000]', '(5000, 10000]', '(10000, 15000]', '15000+']\n",
            "Accuracy: 0.9357920886680681\n",
            "-------------------------------------------------------------------\n",
            "Klasifikacioni izvestaj: \n",
            "                precision    recall  f1-score   support\n",
            "\n",
            "(10000, 15000]       0.79      0.82      0.80      1018\n",
            " (5000, 10000]       0.81      0.92      0.86      2802\n",
            "        15000+       0.72      0.96      0.82       409\n",
            "     [0, 5000]       1.00      0.95      0.97     11470\n",
            "\n",
            "      accuracy                           0.94     15699\n",
            "     macro avg       0.83      0.91      0.86     15699\n",
            "  weighted avg       0.94      0.94      0.94     15699\n",
            "\n",
            "-------------------------------------------------------------------\n",
            "Matrica konfuzije: \n"
          ]
        },
        {
          "output_type": "display_data",
          "data": {
            "text/plain": [
              "<Figure size 640x480 with 2 Axes>"
            ],
            "image/png": "[encoded data removed]"
          },
          "metadata": {}
        }
      ]
    },
    {
      "cell_type": "markdown",
      "source": [
        "***"
      ],
      "metadata": {
        "id": "5Cn9-h60j_2T"
      }
    },
    {
      "cell_type": "markdown",
      "source": [
        "### Now with PCA"
      ],
      "metadata": {
        "id": "B78esq-xaJGJ"
      }
    },
    {
      "cell_type": "code",
      "source": [
        "pca = PCA()\n",
        "\n",
        "X_train_pca = pca.fit_transform(X_train)\n",
        "\n",
        "plt.figure()\n",
        "plt.plot(np.cumsum(pca.explained_variance_ratio_), marker='o')\n",
        "plt.xlabel('Broj komponenti')\n",
        "plt.ylabel('Cumsum')\n",
        "plt.show()"
      ],
      "metadata": {
        "colab": {
          "base_uri": "https://localhost:8080/",
          "height": 449
        },
        "id": "L2LjsrfwaIfy",
        "outputId": "190d0479-27eb-4a42-836c-899551732f75"
      },
      "execution_count": 21,
      "outputs": [
        {
          "output_type": "display_data",
          "data": {
            "text/plain": [
              "<Figure size 640x480 with 1 Axes>"
            ],
            "image/png": "[encoded data removed]"
          },
          "metadata": {}
        }
      ]
    },
    {
      "cell_type": "code",
      "source": [
        "svc_pca = Pipeline([\n",
        "    ('pca', PCA()),\n",
        "    ('model', SVC(class_weight=class_weights, random_state=42) )\n",
        "])"
      ],
      "metadata": {
        "id": "LZHE-FP6aVlN"
      },
      "execution_count": 22,
      "outputs": []
    },
    {
      "cell_type": "code",
      "source": [
        "params = {\n",
        "    'pca__n_components' : [2, 3, 4],\n",
        "    'model__kernel' : ['linear', 'rbf'],\n",
        "}"
      ],
      "metadata": {
        "id": "695dszGpab-p"
      },
      "execution_count": 23,
      "outputs": []
    },
    {
      "cell_type": "code",
      "source": [
        "grid = GridSearchCV(svc_pca, param_grid=params, scoring='accuracy', cv=3, verbose=4)"
      ],
      "metadata": {
        "id": "OW2nMEztawAW"
      },
      "execution_count": 24,
      "outputs": []
    },
    {
      "cell_type": "code",
      "source": [
        "grid.fit(X_train, y_train)"
      ],
      "metadata": {
        "colab": {
          "base_uri": "https://localhost:8080/",
          "height": 482
        },
        "id": "pnXke5TcelFu",
        "outputId": "cb77c040-e539-45b2-d4cb-730a87a3eb02"
      },
      "execution_count": 25,
      "outputs": [
        {
          "output_type": "stream",
          "name": "stdout",
          "text": [
            "Fitting 3 folds for each of 6 candidates, totalling 18 fits\n",
            "[CV 1/3] END model__kernel=linear, pca__n_components=2;, score=0.457 total time= 1.5min\n",
            "[CV 2/3] END model__kernel=linear, pca__n_components=2;, score=0.455 total time= 1.4min\n",
            "[CV 3/3] END model__kernel=linear, pca__n_components=2;, score=0.458 total time= 1.5min\n",
            "[CV 1/3] END model__kernel=linear, pca__n_components=3;, score=0.455 total time= 1.5min\n",
            "[CV 2/3] END model__kernel=linear, pca__n_components=3;, score=0.461 total time= 1.5min\n",
            "[CV 3/3] END model__kernel=linear, pca__n_components=3;, score=0.457 total time= 1.5min\n",
            "[CV 1/3] END model__kernel=linear, pca__n_components=4;, score=0.914 total time=   6.9s\n",
            "[CV 2/3] END model__kernel=linear, pca__n_components=4;, score=0.914 total time=   7.9s\n",
            "[CV 3/3] END model__kernel=linear, pca__n_components=4;, score=0.914 total time=   7.6s\n",
            "[CV 1/3] END model__kernel=rbf, pca__n_components=2;, score=0.500 total time= 1.4min\n",
            "[CV 2/3] END model__kernel=rbf, pca__n_components=2;, score=0.437 total time= 1.4min\n",
            "[CV 3/3] END model__kernel=rbf, pca__n_components=2;, score=0.470 total time= 1.4min\n",
            "[CV 1/3] END model__kernel=rbf, pca__n_components=3;, score=0.440 total time= 1.4min\n",
            "[CV 2/3] END model__kernel=rbf, pca__n_components=3;, score=0.432 total time= 1.4min\n",
            "[CV 3/3] END model__kernel=rbf, pca__n_components=3;, score=0.441 total time= 1.4min\n",
            "[CV 1/3] END model__kernel=rbf, pca__n_components=4;, score=0.934 total time=   7.0s\n",
            "[CV 2/3] END model__kernel=rbf, pca__n_components=4;, score=0.936 total time=   8.6s\n",
            "[CV 3/3] END model__kernel=rbf, pca__n_components=4;, score=0.932 total time=   8.5s\n"
          ]
        },
        {
          "output_type": "execute_result",
          "data": {
            "text/plain": [
              "GridSearchCV(cv=3,\n",
              "             estimator=Pipeline(steps=[('pca', PCA()),\n",
              "                                       ('model',\n",
              "                                        SVC(class_weight={'(10000, 15000]': 15.625,\n",
              "                                                          '(5000, 10000]': 5.649717514124294,\n",
              "                                                          '15000+': 38.46153846153846,\n",
              "                                                          '[0, 5000]': 1.366120218579235},\n",
              "                                            random_state=42))]),\n",
              "             param_grid={'model__kernel': ['linear', 'rbf'],\n",
              "                         'pca__n_components': [2, 3, 4]},\n",
              "             scoring='accuracy', verbose=4)"
            ],
            "text/html": [
              "<style>#sk-container-id-3 {color: black;background-color: white;}#sk-container-id-3 pre{padding: 0;}#sk-container-id-3 div.sk-toggleable {background-color: white;}#sk-container-id-3 label.sk-toggleable__label {cursor: pointer;display: block;width: 100%;margin-bottom: 0;padding: 0.3em;box-sizing: border-box;text-align: center;}#sk-container-id-3 label.sk-toggleable__label-arrow:before {content: \"▸\";float: left;margin-right: 0.25em;color: #696969;}#sk-container-id-3 label.sk-toggleable__label-arrow:hover:before {color: black;}#sk-container-id-3 div.sk-estimator:hover label.sk-toggleable__label-arrow:before {color: black;}#sk-container-id-3 div.sk-toggleable__content {max-height: 0;max-width: 0;overflow: hidden;text-align: left;background-color: #f0f8ff;}#sk-container-id-3 div.sk-toggleable__content pre {margin: 0.2em;color: black;border-radius: 0.25em;background-color: #f0f8ff;}#sk-container-id-3 input.sk-toggleable__control:checked~div.sk-toggleable__content {max-height: 200px;max-width: 100%;overflow: auto;}#sk-container-id-3 input.sk-toggleable__control:checked~label.sk-toggleable__label-arrow:before {content: \"▾\";}#sk-container-id-3 div.sk-estimator input.sk-toggleable__control:checked~label.sk-toggleable__label {background-color: #d4ebff;}#sk-container-id-3 div.sk-label input.sk-toggleable__control:checked~label.sk-toggleable__label {background-color: #d4ebff;}#sk-container-id-3 input.sk-hidden--visually {border: 0;clip: rect(1px 1px 1px 1px);clip: rect(1px, 1px, 1px, 1px);height: 1px;margin: -1px;overflow: hidden;padding: 0;position: absolute;width: 1px;}#sk-container-id-3 div.sk-estimator {font-family: monospace;background-color: #f0f8ff;border: 1px dotted black;border-radius: 0.25em;box-sizing: border-box;margin-bottom: 0.5em;}#sk-container-id-3 div.sk-estimator:hover {background-color: #d4ebff;}#sk-container-id-3 div.sk-parallel-item::after {content: \"\";width: 100%;border-bottom: 1px solid gray;flex-grow: 1;}#sk-container-id-3 div.sk-label:hover label.sk-toggleable__label {background-color: #d4ebff;}#sk-container-id-3 div.sk-serial::before {content: \"\";position: absolute;border-left: 1px solid gray;box-sizing: border-box;top: 0;bottom: 0;left: 50%;z-index: 0;}#sk-container-id-3 div.sk-serial {display: flex;flex-direction: column;align-items: center;background-color: white;padding-right: 0.2em;padding-left: 0.2em;position: relative;}#sk-container-id-3 div.sk-item {position: relative;z-index: 1;}#sk-container-id-3 div.sk-parallel {display: flex;align-items: stretch;justify-content: center;background-color: white;position: relative;}#sk-container-id-3 div.sk-item::before, #sk-container-id-3 div.sk-parallel-item::before {content: \"\";position: absolute;border-left: 1px solid gray;box-sizing: border-box;top: 0;bottom: 0;left: 50%;z-index: -1;}#sk-container-id-3 div.sk-parallel-item {display: flex;flex-direction: column;z-index: 1;position: relative;background-color: white;}#sk-container-id-3 div.sk-parallel-item:first-child::after {align-self: flex-end;width: 50%;}#sk-container-id-3 div.sk-parallel-item:last-child::after {align-self: flex-start;width: 50%;}#sk-container-id-3 div.sk-parallel-item:only-child::after {width: 0;}#sk-container-id-3 div.sk-dashed-wrapped {border: 1px dashed gray;margin: 0 0.4em 0.5em 0.4em;box-sizing: border-box;padding-bottom: 0.4em;background-color: white;}#sk-container-id-3 div.sk-label label {font-family: monospace;font-weight: bold;display: inline-block;line-height: 1.2em;}#sk-container-id-3 div.sk-label-container {text-align: center;}#sk-container-id-3 div.sk-container {/* jupyter's `normalize.less` sets `[hidden] { display: none; }` but bootstrap.min.css set `[hidden] { display: none !important; }` so we also need the `!important` here to be able to override the default hidden behavior on the sphinx rendered scikit-learn.org. See: https://github.com/scikit-learn/scikit-learn/issues/21755 */display: inline-block !important;position: relative;}#sk-container-id-3 div.sk-text-repr-fallback {display: none;}</style><div id=\"sk-container-id-3\" class=\"sk-top-container\"><div class=\"sk-text-repr-fallback\"><pre>GridSearchCV(cv=3,\n",
              "             estimator=Pipeline(steps=[(&#x27;pca&#x27;, PCA()),\n",
              "                                       (&#x27;model&#x27;,\n",
              "                                        SVC(class_weight={&#x27;(10000, 15000]&#x27;: 15.625,\n",
              "                                                          &#x27;(5000, 10000]&#x27;: 5.649717514124294,\n",
              "                                                          &#x27;15000+&#x27;: 38.46153846153846,\n",
              "                                                          &#x27;[0, 5000]&#x27;: 1.366120218579235},\n",
              "                                            random_state=42))]),\n",
              "             param_grid={&#x27;model__kernel&#x27;: [&#x27;linear&#x27;, &#x27;rbf&#x27;],\n",
              "                         &#x27;pca__n_components&#x27;: [2, 3, 4]},\n",
              "             scoring=&#x27;accuracy&#x27;, verbose=4)</pre><b>In a Jupyter environment, please rerun this cell to show the HTML representation or trust the notebook. <br />On GitHub, the HTML representation is unable to render, please try loading this page with nbviewer.org.</b></div><div class=\"sk-container\" hidden><div class=\"sk-item sk-dashed-wrapped\"><div class=\"sk-label-container\"><div class=\"sk-label sk-toggleable\"><input class=\"sk-toggleable__control sk-hidden--visually\" id=\"sk-estimator-id-6\" type=\"checkbox\" ><label for=\"sk-estimator-id-6\" class=\"sk-toggleable__label sk-toggleable__label-arrow\">GridSearchCV</label><div class=\"sk-toggleable__content\"><pre>GridSearchCV(cv=3,\n",
              "             estimator=Pipeline(steps=[(&#x27;pca&#x27;, PCA()),\n",
              "                                       (&#x27;model&#x27;,\n",
              "                                        SVC(class_weight={&#x27;(10000, 15000]&#x27;: 15.625,\n",
              "                                                          &#x27;(5000, 10000]&#x27;: 5.649717514124294,\n",
              "                                                          &#x27;15000+&#x27;: 38.46153846153846,\n",
              "                                                          &#x27;[0, 5000]&#x27;: 1.366120218579235},\n",
              "                                            random_state=42))]),\n",
              "             param_grid={&#x27;model__kernel&#x27;: [&#x27;linear&#x27;, &#x27;rbf&#x27;],\n",
              "                         &#x27;pca__n_components&#x27;: [2, 3, 4]},\n",
              "             scoring=&#x27;accuracy&#x27;, verbose=4)</pre></div></div></div><div class=\"sk-parallel\"><div class=\"sk-parallel-item\"><div class=\"sk-item\"><div class=\"sk-label-container\"><div class=\"sk-label sk-toggleable\"><input class=\"sk-toggleable__control sk-hidden--visually\" id=\"sk-estimator-id-7\" type=\"checkbox\" ><label for=\"sk-estimator-id-7\" class=\"sk-toggleable__label sk-toggleable__label-arrow\">estimator: Pipeline</label><div class=\"sk-toggleable__content\"><pre>Pipeline(steps=[(&#x27;pca&#x27;, PCA()),\n",
              "                (&#x27;model&#x27;,\n",
              "                 SVC(class_weight={&#x27;(10000, 15000]&#x27;: 15.625,\n",
              "                                   &#x27;(5000, 10000]&#x27;: 5.649717514124294,\n",
              "                                   &#x27;15000+&#x27;: 38.46153846153846,\n",
              "                                   &#x27;[0, 5000]&#x27;: 1.366120218579235},\n",
              "                     random_state=42))])</pre></div></div></div><div class=\"sk-serial\"><div class=\"sk-item\"><div class=\"sk-serial\"><div class=\"sk-item\"><div class=\"sk-estimator sk-toggleable\"><input class=\"sk-toggleable__control sk-hidden--visually\" id=\"sk-estimator-id-8\" type=\"checkbox\" ><label for=\"sk-estimator-id-8\" class=\"sk-toggleable__label sk-toggleable__label-arrow\">PCA</label><div class=\"sk-toggleable__content\"><pre>PCA()</pre></div></div></div><div class=\"sk-item\"><div class=\"sk-estimator sk-toggleable\"><input class=\"sk-toggleable__control sk-hidden--visually\" id=\"sk-estimator-id-9\" type=\"checkbox\" ><label for=\"sk-estimator-id-9\" class=\"sk-toggleable__label sk-toggleable__label-arrow\">SVC</label><div class=\"sk-toggleable__content\"><pre>SVC(class_weight={&#x27;(10000, 15000]&#x27;: 15.625, &#x27;(5000, 10000]&#x27;: 5.649717514124294,\n",
              "                  &#x27;15000+&#x27;: 38.46153846153846, &#x27;[0, 5000]&#x27;: 1.366120218579235},\n",
              "    random_state=42)</pre></div></div></div></div></div></div></div></div></div></div></div></div>"
            ]
          },
          "metadata": {},
          "execution_count": 25
        }
      ]
    },
    {
      "cell_type": "code",
      "source": [
        "grid.best_params_"
      ],
      "metadata": {
        "colab": {
          "base_uri": "https://localhost:8080/"
        },
        "id": "53VnS5RGa1Gh",
        "outputId": "8bc92ba5-b1a7-4e55-d858-5412b900e95d"
      },
      "execution_count": 26,
      "outputs": [
        {
          "output_type": "execute_result",
          "data": {
            "text/plain": [
              "{'model__kernel': 'rbf', 'pca__n_components': 4}"
            ]
          },
          "metadata": {},
          "execution_count": 26
        }
      ]
    },
    {
      "cell_type": "code",
      "source": [
        "svc_pca_cv = grid.best_estimator_"
      ],
      "metadata": {
        "id": "AfSlJmoRa24Q"
      },
      "execution_count": 27,
      "outputs": []
    },
    {
      "cell_type": "code",
      "source": [
        "model_report(svc_pca_cv, X_test, y_test)"
      ],
      "metadata": {
        "colab": {
          "base_uri": "https://localhost:8080/",
          "height": 853
        },
        "id": "xC-i7VtXa5ym",
        "outputId": "1e275a6d-f530-45a4-eb08-cba845935948"
      },
      "execution_count": 28,
      "outputs": [
        {
          "output_type": "stream",
          "name": "stdout",
          "text": [
            "Izvestaj o SVC modelu:\n",
            "-------------------------------------------------------------------\n",
            "Klase za predvidjanje: ['[0, 5000]', '(5000, 10000]', '(10000, 15000]', '15000+']\n",
            "Accuracy: 0.9380852283584942\n",
            "-------------------------------------------------------------------\n",
            "Klasifikacioni izvestaj: \n",
            "                precision    recall  f1-score   support\n",
            "\n",
            "(10000, 15000]       0.79      0.82      0.80      1018\n",
            " (5000, 10000]       0.82      0.92      0.86      2802\n",
            "        15000+       0.73      0.95      0.83       409\n",
            "     [0, 5000]       1.00      0.95      0.97     11470\n",
            "\n",
            "      accuracy                           0.94     15699\n",
            "     macro avg       0.83      0.91      0.87     15699\n",
            "  weighted avg       0.94      0.94      0.94     15699\n",
            "\n",
            "-------------------------------------------------------------------\n",
            "Matrica konfuzije: \n"
          ]
        },
        {
          "output_type": "display_data",
          "data": {
            "text/plain": [
              "<Figure size 640x480 with 2 Axes>"
            ],
            "image/png": "[encoded data removed]"
          },
          "metadata": {}
        }
      ]
    },
    {
      "cell_type": "markdown",
      "source": [
        "***"
      ],
      "metadata": {
        "id": "u6GqLHWta-it"
      }
    },
    {
      "cell_type": "markdown",
      "source": [
        "## Results:"
      ],
      "metadata": {
        "id": "0A9EZAC7kGFx"
      }
    },
    {
      "cell_type": "code",
      "source": [
        "model_names = ['svc', 'svc_cv', 'svc_pca_cv']"
      ],
      "metadata": {
        "id": "FSw2xcJsmKkV"
      },
      "execution_count": 29,
      "outputs": []
    },
    {
      "cell_type": "code",
      "source": [
        "plt.figure(figsize=(10,10))\n",
        "plt.bar(model_names, accuracy_scores)\n",
        "plt.grid(alpha=0.5)\n",
        "plt.ylim(0.8, 1.0)\n",
        "for i, s in enumerate(accuracy_scores):\n",
        "    plt.text(model_names[i], s, f'{s:.5f}%', ha='center', va='bottom')\n",
        "plt.xlabel('model')\n",
        "plt.ylabel('accuracy(%)')\n",
        "plt.show()"
      ],
      "metadata": {
        "colab": {
          "base_uri": "https://localhost:8080/",
          "height": 855
        },
        "id": "iisaRpKqkRUS",
        "outputId": "de903c80-2c28-4d17-c3e5-81c5509fe25a"
      },
      "execution_count": 30,
      "outputs": [
        {
          "output_type": "display_data",
          "data": {
            "text/plain": [
              "<Figure size 1000x1000 with 1 Axes>"
            ],
            "image/png": "[encoded data removed]"
          },
          "metadata": {}
        }
      ]
    },
    {
      "cell_type": "markdown",
      "source": [
        "Izabracemo **svc_pca_cv** kao predstavnika **SVC**"
      ],
      "metadata": {
        "id": "2hK28aVDgrly"
      }
    },
    {
      "cell_type": "code",
      "source": [
        "joblib.dump(svc_pca_cv, 'SVC.pkl')"
      ],
      "metadata": {
        "colab": {
          "base_uri": "https://localhost:8080/"
        },
        "id": "I6uSlRpagzhx",
        "outputId": "6b90ac5a-2113-4e70-e58d-abc6ade23c81"
      },
      "execution_count": 32,
      "outputs": [
        {
          "output_type": "execute_result",
          "data": {
            "text/plain": [
              "['SVC.pkl']"
            ]
          },
          "metadata": {},
          "execution_count": 32
        }
      ]
    }
  ]
}
