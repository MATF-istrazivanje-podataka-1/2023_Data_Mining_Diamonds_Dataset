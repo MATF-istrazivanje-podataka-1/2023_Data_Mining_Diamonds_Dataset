{
  "nbformat": 4,
  "nbformat_minor": 0,
  "metadata": {
    "colab": {
      "provenance": []
    },
    "kernelspec": {
      "name": "python3",
      "display_name": "Python 3"
    },
    "language_info": {
      "name": "python"
    }
  },
  "cells": [
    {
      "cell_type": "code",
      "execution_count": 1,
      "metadata": {
        "id": "ccerxJOBTHR-"
      },
      "outputs": [],
      "source": [
        "import pandas as pd\n",
        "import numpy as np\n",
        "import tensorflow as tf\n",
        "import seaborn as sns\n",
        "from matplotlib import pyplot as plt\n",
        "from sklearn.neighbors import KNeighborsClassifier\n",
        "from sklearn.model_selection import train_test_split, GridSearchCV\n",
        "from sklearn.decomposition import PCA\n",
        "from sklearn.metrics import accuracy_score, confusion_matrix, f1_score, classification_report\n",
        "from sklearn.metrics import roc_curve, roc_auc_score\n",
        "from sklearn.pipeline import Pipeline\n",
        "import joblib"
      ]
    },
    {
      "cell_type": "code",
      "source": [
        "diamonds = pd.read_csv('diamonds_preprocessed.csv')\n",
        "diamondsOG = pd.read_csv('diamonds_original.csv')"
      ],
      "metadata": {
        "id": "uNjQfv-IT2lI"
      },
      "execution_count": 2,
      "outputs": []
    },
    {
      "cell_type": "code",
      "source": [
        "diamonds"
      ],
      "metadata": {
        "id": "Qx5zeUWvU3td",
        "colab": {
          "base_uri": "https://localhost:8080/",
          "height": 424
        },
        "outputId": "f99b5d9e-b923-4d8f-a307-68f56b6579c0"
      },
      "execution_count": 3,
      "outputs": [
        {
          "output_type": "execute_result",
          "data": {
            "text/plain": [
              "       carat  clarity  color  cut     depth  table         x         y  \\\n",
              "0       1.26        2      4    2  0.364706   0.72  0.661224  0.680328   \n",
              "1       0.80        3      4    4  0.541176   0.24  0.455102  0.473361   \n",
              "2       0.56        4      2    4  0.494118   0.24  0.316327  0.336066   \n",
              "3       1.51        3      6    1  0.764706   0.56  0.716326  0.735656   \n",
              "4       0.33        6      5    4  0.552941   0.24  0.142857  0.157787   \n",
              "...      ...      ...    ...  ...       ...    ...       ...       ...   \n",
              "52325   1.02        2      4    2  0.635294   0.64  0.540816  0.559426   \n",
              "52326   0.93        2      4    3  0.505882   0.64  0.518367  0.522541   \n",
              "52327   0.30        4      5    4  0.576471   0.24  0.116327  0.131148   \n",
              "52328   0.36        3      2    4  0.470588   0.32  0.177551  0.182377   \n",
              "52329   0.70        1      2    2  0.376471   0.56  0.408163  0.428279   \n",
              "\n",
              "              z          class    volume  \n",
              "0      0.716180  (5000, 10000]  0.512314  \n",
              "1      0.578249      [0, 5000]  0.295469  \n",
              "2      0.461538      [0, 5000]  0.176404  \n",
              "3      0.824934  (5000, 10000]  0.623309  \n",
              "4      0.326260      [0, 5000]  0.066582  \n",
              "...         ...            ...       ...  \n",
              "52325  0.660477      [0, 5000]  0.389186  \n",
              "52326  0.618037      [0, 5000]  0.349234  \n",
              "52327  0.307692      [0, 5000]  0.053560  \n",
              "52328  0.342175      [0, 5000]  0.080874  \n",
              "52329  0.519894      [0, 5000]  0.245428  \n",
              "\n",
              "[52330 rows x 11 columns]"
            ],
            "text/html": [
              "\n",
              "  <div id=\"df-7d273d12-cdb4-411e-86e5-c41bd8b90fb7\">\n",
              "    <div class=\"colab-df-container\">\n",
              "      <div>\n",
              "<style scoped>\n",
              "    .dataframe tbody tr th:only-of-type {\n",
              "        vertical-align: middle;\n",
              "    }\n",
              "\n",
              "    .dataframe tbody tr th {\n",
              "        vertical-align: top;\n",
              "    }\n",
              "\n",
              "    .dataframe thead th {\n",
              "        text-align: right;\n",
              "    }\n",
              "</style>\n",
              "<table border=\"1\" class=\"dataframe\">\n",
              "  <thead>\n",
              "    <tr style=\"text-align: right;\">\n",
              "      <th></th>\n",
              "      <th>carat</th>\n",
              "      <th>clarity</th>\n",
              "      <th>color</th>\n",
              "      <th>cut</th>\n",
              "      <th>depth</th>\n",
              "      <th>table</th>\n",
              "      <th>x</th>\n",
              "      <th>y</th>\n",
              "      <th>z</th>\n",
              "      <th>class</th>\n",
              "      <th>volume</th>\n",
              "    </tr>\n",
              "  </thead>\n",
              "  <tbody>\n",
              "    <tr>\n",
              "      <th>0</th>\n",
              "      <td>1.26</td>\n",
              "      <td>2</td>\n",
              "      <td>4</td>\n",
              "      <td>2</td>\n",
              "      <td>0.364706</td>\n",
              "      <td>0.72</td>\n",
              "      <td>0.661224</td>\n",
              "      <td>0.680328</td>\n",
              "      <td>0.716180</td>\n",
              "      <td>(5000, 10000]</td>\n",
              "      <td>0.512314</td>\n",
              "    </tr>\n",
              "    <tr>\n",
              "      <th>1</th>\n",
              "      <td>0.80</td>\n",
              "      <td>3</td>\n",
              "      <td>4</td>\n",
              "      <td>4</td>\n",
              "      <td>0.541176</td>\n",
              "      <td>0.24</td>\n",
              "      <td>0.455102</td>\n",
              "      <td>0.473361</td>\n",
              "      <td>0.578249</td>\n",
              "      <td>[0, 5000]</td>\n",
              "      <td>0.295469</td>\n",
              "    </tr>\n",
              "    <tr>\n",
              "      <th>2</th>\n",
              "      <td>0.56</td>\n",
              "      <td>4</td>\n",
              "      <td>2</td>\n",
              "      <td>4</td>\n",
              "      <td>0.494118</td>\n",
              "      <td>0.24</td>\n",
              "      <td>0.316327</td>\n",
              "      <td>0.336066</td>\n",
              "      <td>0.461538</td>\n",
              "      <td>[0, 5000]</td>\n",
              "      <td>0.176404</td>\n",
              "    </tr>\n",
              "    <tr>\n",
              "      <th>3</th>\n",
              "      <td>1.51</td>\n",
              "      <td>3</td>\n",
              "      <td>6</td>\n",
              "      <td>1</td>\n",
              "      <td>0.764706</td>\n",
              "      <td>0.56</td>\n",
              "      <td>0.716326</td>\n",
              "      <td>0.735656</td>\n",
              "      <td>0.824934</td>\n",
              "      <td>(5000, 10000]</td>\n",
              "      <td>0.623309</td>\n",
              "    </tr>\n",
              "    <tr>\n",
              "      <th>4</th>\n",
              "      <td>0.33</td>\n",
              "      <td>6</td>\n",
              "      <td>5</td>\n",
              "      <td>4</td>\n",
              "      <td>0.552941</td>\n",
              "      <td>0.24</td>\n",
              "      <td>0.142857</td>\n",
              "      <td>0.157787</td>\n",
              "      <td>0.326260</td>\n",
              "      <td>[0, 5000]</td>\n",
              "      <td>0.066582</td>\n",
              "    </tr>\n",
              "    <tr>\n",
              "      <th>...</th>\n",
              "      <td>...</td>\n",
              "      <td>...</td>\n",
              "      <td>...</td>\n",
              "      <td>...</td>\n",
              "      <td>...</td>\n",
              "      <td>...</td>\n",
              "      <td>...</td>\n",
              "      <td>...</td>\n",
              "      <td>...</td>\n",
              "      <td>...</td>\n",
              "      <td>...</td>\n",
              "    </tr>\n",
              "    <tr>\n",
              "      <th>52325</th>\n",
              "      <td>1.02</td>\n",
              "      <td>2</td>\n",
              "      <td>4</td>\n",
              "      <td>2</td>\n",
              "      <td>0.635294</td>\n",
              "      <td>0.64</td>\n",
              "      <td>0.540816</td>\n",
              "      <td>0.559426</td>\n",
              "      <td>0.660477</td>\n",
              "      <td>[0, 5000]</td>\n",
              "      <td>0.389186</td>\n",
              "    </tr>\n",
              "    <tr>\n",
              "      <th>52326</th>\n",
              "      <td>0.93</td>\n",
              "      <td>2</td>\n",
              "      <td>4</td>\n",
              "      <td>3</td>\n",
              "      <td>0.505882</td>\n",
              "      <td>0.64</td>\n",
              "      <td>0.518367</td>\n",
              "      <td>0.522541</td>\n",
              "      <td>0.618037</td>\n",
              "      <td>[0, 5000]</td>\n",
              "      <td>0.349234</td>\n",
              "    </tr>\n",
              "    <tr>\n",
              "      <th>52327</th>\n",
              "      <td>0.30</td>\n",
              "      <td>4</td>\n",
              "      <td>5</td>\n",
              "      <td>4</td>\n",
              "      <td>0.576471</td>\n",
              "      <td>0.24</td>\n",
              "      <td>0.116327</td>\n",
              "      <td>0.131148</td>\n",
              "      <td>0.307692</td>\n",
              "      <td>[0, 5000]</td>\n",
              "      <td>0.053560</td>\n",
              "    </tr>\n",
              "    <tr>\n",
              "      <th>52328</th>\n",
              "      <td>0.36</td>\n",
              "      <td>3</td>\n",
              "      <td>2</td>\n",
              "      <td>4</td>\n",
              "      <td>0.470588</td>\n",
              "      <td>0.32</td>\n",
              "      <td>0.177551</td>\n",
              "      <td>0.182377</td>\n",
              "      <td>0.342175</td>\n",
              "      <td>[0, 5000]</td>\n",
              "      <td>0.080874</td>\n",
              "    </tr>\n",
              "    <tr>\n",
              "      <th>52329</th>\n",
              "      <td>0.70</td>\n",
              "      <td>1</td>\n",
              "      <td>2</td>\n",
              "      <td>2</td>\n",
              "      <td>0.376471</td>\n",
              "      <td>0.56</td>\n",
              "      <td>0.408163</td>\n",
              "      <td>0.428279</td>\n",
              "      <td>0.519894</td>\n",
              "      <td>[0, 5000]</td>\n",
              "      <td>0.245428</td>\n",
              "    </tr>\n",
              "  </tbody>\n",
              "</table>\n",
              "<p>52330 rows × 11 columns</p>\n",
              "</div>\n",
              "      <button class=\"colab-df-convert\" onclick=\"convertToInteractive('df-7d273d12-cdb4-411e-86e5-c41bd8b90fb7')\"\n",
              "              title=\"Convert this dataframe to an interactive table.\"\n",
              "              style=\"display:none;\">\n",
              "        \n",
              "  <svg xmlns=\"http://www.w3.org/2000/svg\" height=\"24px\"viewBox=\"0 0 24 24\"\n",
              "       width=\"24px\">\n",
              "    <path d=\"M0 0h24v24H0V0z\" fill=\"none\"/>\n",
              "    <path d=\"M18.56 5.44l.94 2.06.94-2.06 2.06-.94-2.06-.94-.94-2.06-.94 2.06-2.06.94zm-11 1L8.5 8.5l.94-2.06 2.06-.94-2.06-.94L8.5 2.5l-.94 2.06-2.06.94zm10 10l.94 2.06.94-2.06 2.06-.94-2.06-.94-.94-2.06-.94 2.06-2.06.94z\"/><path d=\"M17.41 7.96l-1.37-1.37c-.4-.4-.92-.59-1.43-.59-.52 0-1.04.2-1.43.59L10.3 9.45l-7.72 7.72c-.78.78-.78 2.05 0 2.83L4 21.41c.39.39.9.59 1.41.59.51 0 1.02-.2 1.41-.59l7.78-7.78 2.81-2.81c.8-.78.8-2.07 0-2.86zM5.41 20L4 18.59l7.72-7.72 1.47 1.35L5.41 20z\"/>\n",
              "  </svg>\n",
              "      </button>\n",
              "      \n",
              "  <style>\n",
              "    .colab-df-container {\n",
              "      display:flex;\n",
              "      flex-wrap:wrap;\n",
              "      gap: 12px;\n",
              "    }\n",
              "\n",
              "    .colab-df-convert {\n",
              "      background-color: #E8F0FE;\n",
              "      border: none;\n",
              "      border-radius: 50%;\n",
              "      cursor: pointer;\n",
              "      display: none;\n",
              "      fill: #1967D2;\n",
              "      height: 32px;\n",
              "      padding: 0 0 0 0;\n",
              "      width: 32px;\n",
              "    }\n",
              "\n",
              "    .colab-df-convert:hover {\n",
              "      background-color: #E2EBFA;\n",
              "      box-shadow: 0px 1px 2px rgba(60, 64, 67, 0.3), 0px 1px 3px 1px rgba(60, 64, 67, 0.15);\n",
              "      fill: #174EA6;\n",
              "    }\n",
              "\n",
              "    [theme=dark] .colab-df-convert {\n",
              "      background-color: #3B4455;\n",
              "      fill: #D2E3FC;\n",
              "    }\n",
              "\n",
              "    [theme=dark] .colab-df-convert:hover {\n",
              "      background-color: #434B5C;\n",
              "      box-shadow: 0px 1px 3px 1px rgba(0, 0, 0, 0.15);\n",
              "      filter: drop-shadow(0px 1px 2px rgba(0, 0, 0, 0.3));\n",
              "      fill: #FFFFFF;\n",
              "    }\n",
              "  </style>\n",
              "\n",
              "      <script>\n",
              "        const buttonEl =\n",
              "          document.querySelector('#df-7d273d12-cdb4-411e-86e5-c41bd8b90fb7 button.colab-df-convert');\n",
              "        buttonEl.style.display =\n",
              "          google.colab.kernel.accessAllowed ? 'block' : 'none';\n",
              "\n",
              "        async function convertToInteractive(key) {\n",
              "          const element = document.querySelector('#df-7d273d12-cdb4-411e-86e5-c41bd8b90fb7');\n",
              "          const dataTable =\n",
              "            await google.colab.kernel.invokeFunction('convertToInteractive',\n",
              "                                                     [key], {});\n",
              "          if (!dataTable) return;\n",
              "\n",
              "          const docLinkHtml = 'Like what you see? Visit the ' +\n",
              "            '<a target=\"_blank\" href=https://colab.research.google.com/notebooks/data_table.ipynb>data table notebook</a>'\n",
              "            + ' to learn more about interactive tables.';\n",
              "          element.innerHTML = '';\n",
              "          dataTable['output_type'] = 'display_data';\n",
              "          await google.colab.output.renderOutput(dataTable, element);\n",
              "          const docLink = document.createElement('div');\n",
              "          docLink.innerHTML = docLinkHtml;\n",
              "          element.appendChild(docLink);\n",
              "        }\n",
              "      </script>\n",
              "    </div>\n",
              "  </div>\n",
              "  "
            ]
          },
          "metadata": {},
          "execution_count": 3
        }
      ]
    },
    {
      "cell_type": "code",
      "source": [
        "diamondsOG"
      ],
      "metadata": {
        "id": "xKmtyNvAU56L",
        "colab": {
          "base_uri": "https://localhost:8080/",
          "height": 424
        },
        "outputId": "49ebdf38-3bac-43de-e7d9-d7fa57ca259b"
      },
      "execution_count": 4,
      "outputs": [
        {
          "output_type": "execute_result",
          "data": {
            "text/plain": [
              "       carat  clarity  color  cut  depth  table     x     y     z   price\n",
              "0       1.26        2      4    2   60.6   60.0  6.97  7.00  4.23  6546.0\n",
              "1       0.80        3      4    4   62.1   54.0  5.96  5.99  3.71  3030.0\n",
              "2       0.56        4      2    4   61.7   54.0  5.28  5.32  3.27  1915.0\n",
              "3       1.51        3      6    1   64.0   58.0  7.24  7.27  4.64  6936.0\n",
              "4       0.33        6      5    4   62.2   54.0  4.43  4.45  2.76   646.0\n",
              "...      ...      ...    ...  ...    ...    ...   ...   ...   ...     ...\n",
              "53935   1.02        2      4    2   62.9   59.0  6.38  6.41  4.02  4796.0\n",
              "53936   0.93        2      4    3   61.8   59.0  6.27  6.23  3.86  3750.0\n",
              "53937   0.30        4      5    4   62.4   54.0  4.30  4.32  2.69   491.0\n",
              "53938   0.36        3      2    4   61.5   55.0  4.60  4.57  2.82   807.0\n",
              "53939   0.70        1      2    2   60.7   58.0  5.73  5.77  3.49  2195.0\n",
              "\n",
              "[53940 rows x 10 columns]"
            ],
            "text/html": [
              "\n",
              "  <div id=\"df-abfa0748-2b71-4628-873a-6274c6563906\">\n",
              "    <div class=\"colab-df-container\">\n",
              "      <div>\n",
              "<style scoped>\n",
              "    .dataframe tbody tr th:only-of-type {\n",
              "        vertical-align: middle;\n",
              "    }\n",
              "\n",
              "    .dataframe tbody tr th {\n",
              "        vertical-align: top;\n",
              "    }\n",
              "\n",
              "    .dataframe thead th {\n",
              "        text-align: right;\n",
              "    }\n",
              "</style>\n",
              "<table border=\"1\" class=\"dataframe\">\n",
              "  <thead>\n",
              "    <tr style=\"text-align: right;\">\n",
              "      <th></th>\n",
              "      <th>carat</th>\n",
              "      <th>clarity</th>\n",
              "      <th>color</th>\n",
              "      <th>cut</th>\n",
              "      <th>depth</th>\n",
              "      <th>table</th>\n",
              "      <th>x</th>\n",
              "      <th>y</th>\n",
              "      <th>z</th>\n",
              "      <th>price</th>\n",
              "    </tr>\n",
              "  </thead>\n",
              "  <tbody>\n",
              "    <tr>\n",
              "      <th>0</th>\n",
              "      <td>1.26</td>\n",
              "      <td>2</td>\n",
              "      <td>4</td>\n",
              "      <td>2</td>\n",
              "      <td>60.6</td>\n",
              "      <td>60.0</td>\n",
              "      <td>6.97</td>\n",
              "      <td>7.00</td>\n",
              "      <td>4.23</td>\n",
              "      <td>6546.0</td>\n",
              "    </tr>\n",
              "    <tr>\n",
              "      <th>1</th>\n",
              "      <td>0.80</td>\n",
              "      <td>3</td>\n",
              "      <td>4</td>\n",
              "      <td>4</td>\n",
              "      <td>62.1</td>\n",
              "      <td>54.0</td>\n",
              "      <td>5.96</td>\n",
              "      <td>5.99</td>\n",
              "      <td>3.71</td>\n",
              "      <td>3030.0</td>\n",
              "    </tr>\n",
              "    <tr>\n",
              "      <th>2</th>\n",
              "      <td>0.56</td>\n",
              "      <td>4</td>\n",
              "      <td>2</td>\n",
              "      <td>4</td>\n",
              "      <td>61.7</td>\n",
              "      <td>54.0</td>\n",
              "      <td>5.28</td>\n",
              "      <td>5.32</td>\n",
              "      <td>3.27</td>\n",
              "      <td>1915.0</td>\n",
              "    </tr>\n",
              "    <tr>\n",
              "      <th>3</th>\n",
              "      <td>1.51</td>\n",
              "      <td>3</td>\n",
              "      <td>6</td>\n",
              "      <td>1</td>\n",
              "      <td>64.0</td>\n",
              "      <td>58.0</td>\n",
              "      <td>7.24</td>\n",
              "      <td>7.27</td>\n",
              "      <td>4.64</td>\n",
              "      <td>6936.0</td>\n",
              "    </tr>\n",
              "    <tr>\n",
              "      <th>4</th>\n",
              "      <td>0.33</td>\n",
              "      <td>6</td>\n",
              "      <td>5</td>\n",
              "      <td>4</td>\n",
              "      <td>62.2</td>\n",
              "      <td>54.0</td>\n",
              "      <td>4.43</td>\n",
              "      <td>4.45</td>\n",
              "      <td>2.76</td>\n",
              "      <td>646.0</td>\n",
              "    </tr>\n",
              "    <tr>\n",
              "      <th>...</th>\n",
              "      <td>...</td>\n",
              "      <td>...</td>\n",
              "      <td>...</td>\n",
              "      <td>...</td>\n",
              "      <td>...</td>\n",
              "      <td>...</td>\n",
              "      <td>...</td>\n",
              "      <td>...</td>\n",
              "      <td>...</td>\n",
              "      <td>...</td>\n",
              "    </tr>\n",
              "    <tr>\n",
              "      <th>53935</th>\n",
              "      <td>1.02</td>\n",
              "      <td>2</td>\n",
              "      <td>4</td>\n",
              "      <td>2</td>\n",
              "      <td>62.9</td>\n",
              "      <td>59.0</td>\n",
              "      <td>6.38</td>\n",
              "      <td>6.41</td>\n",
              "      <td>4.02</td>\n",
              "      <td>4796.0</td>\n",
              "    </tr>\n",
              "    <tr>\n",
              "      <th>53936</th>\n",
              "      <td>0.93</td>\n",
              "      <td>2</td>\n",
              "      <td>4</td>\n",
              "      <td>3</td>\n",
              "      <td>61.8</td>\n",
              "      <td>59.0</td>\n",
              "      <td>6.27</td>\n",
              "      <td>6.23</td>\n",
              "      <td>3.86</td>\n",
              "      <td>3750.0</td>\n",
              "    </tr>\n",
              "    <tr>\n",
              "      <th>53937</th>\n",
              "      <td>0.30</td>\n",
              "      <td>4</td>\n",
              "      <td>5</td>\n",
              "      <td>4</td>\n",
              "      <td>62.4</td>\n",
              "      <td>54.0</td>\n",
              "      <td>4.30</td>\n",
              "      <td>4.32</td>\n",
              "      <td>2.69</td>\n",
              "      <td>491.0</td>\n",
              "    </tr>\n",
              "    <tr>\n",
              "      <th>53938</th>\n",
              "      <td>0.36</td>\n",
              "      <td>3</td>\n",
              "      <td>2</td>\n",
              "      <td>4</td>\n",
              "      <td>61.5</td>\n",
              "      <td>55.0</td>\n",
              "      <td>4.60</td>\n",
              "      <td>4.57</td>\n",
              "      <td>2.82</td>\n",
              "      <td>807.0</td>\n",
              "    </tr>\n",
              "    <tr>\n",
              "      <th>53939</th>\n",
              "      <td>0.70</td>\n",
              "      <td>1</td>\n",
              "      <td>2</td>\n",
              "      <td>2</td>\n",
              "      <td>60.7</td>\n",
              "      <td>58.0</td>\n",
              "      <td>5.73</td>\n",
              "      <td>5.77</td>\n",
              "      <td>3.49</td>\n",
              "      <td>2195.0</td>\n",
              "    </tr>\n",
              "  </tbody>\n",
              "</table>\n",
              "<p>53940 rows × 10 columns</p>\n",
              "</div>\n",
              "      <button class=\"colab-df-convert\" onclick=\"convertToInteractive('df-abfa0748-2b71-4628-873a-6274c6563906')\"\n",
              "              title=\"Convert this dataframe to an interactive table.\"\n",
              "              style=\"display:none;\">\n",
              "        \n",
              "  <svg xmlns=\"http://www.w3.org/2000/svg\" height=\"24px\"viewBox=\"0 0 24 24\"\n",
              "       width=\"24px\">\n",
              "    <path d=\"M0 0h24v24H0V0z\" fill=\"none\"/>\n",
              "    <path d=\"M18.56 5.44l.94 2.06.94-2.06 2.06-.94-2.06-.94-.94-2.06-.94 2.06-2.06.94zm-11 1L8.5 8.5l.94-2.06 2.06-.94-2.06-.94L8.5 2.5l-.94 2.06-2.06.94zm10 10l.94 2.06.94-2.06 2.06-.94-2.06-.94-.94-2.06-.94 2.06-2.06.94z\"/><path d=\"M17.41 7.96l-1.37-1.37c-.4-.4-.92-.59-1.43-.59-.52 0-1.04.2-1.43.59L10.3 9.45l-7.72 7.72c-.78.78-.78 2.05 0 2.83L4 21.41c.39.39.9.59 1.41.59.51 0 1.02-.2 1.41-.59l7.78-7.78 2.81-2.81c.8-.78.8-2.07 0-2.86zM5.41 20L4 18.59l7.72-7.72 1.47 1.35L5.41 20z\"/>\n",
              "  </svg>\n",
              "      </button>\n",
              "      \n",
              "  <style>\n",
              "    .colab-df-container {\n",
              "      display:flex;\n",
              "      flex-wrap:wrap;\n",
              "      gap: 12px;\n",
              "    }\n",
              "\n",
              "    .colab-df-convert {\n",
              "      background-color: #E8F0FE;\n",
              "      border: none;\n",
              "      border-radius: 50%;\n",
              "      cursor: pointer;\n",
              "      display: none;\n",
              "      fill: #1967D2;\n",
              "      height: 32px;\n",
              "      padding: 0 0 0 0;\n",
              "      width: 32px;\n",
              "    }\n",
              "\n",
              "    .colab-df-convert:hover {\n",
              "      background-color: #E2EBFA;\n",
              "      box-shadow: 0px 1px 2px rgba(60, 64, 67, 0.3), 0px 1px 3px 1px rgba(60, 64, 67, 0.15);\n",
              "      fill: #174EA6;\n",
              "    }\n",
              "\n",
              "    [theme=dark] .colab-df-convert {\n",
              "      background-color: #3B4455;\n",
              "      fill: #D2E3FC;\n",
              "    }\n",
              "\n",
              "    [theme=dark] .colab-df-convert:hover {\n",
              "      background-color: #434B5C;\n",
              "      box-shadow: 0px 1px 3px 1px rgba(0, 0, 0, 0.15);\n",
              "      filter: drop-shadow(0px 1px 2px rgba(0, 0, 0, 0.3));\n",
              "      fill: #FFFFFF;\n",
              "    }\n",
              "  </style>\n",
              "\n",
              "      <script>\n",
              "        const buttonEl =\n",
              "          document.querySelector('#df-abfa0748-2b71-4628-873a-6274c6563906 button.colab-df-convert');\n",
              "        buttonEl.style.display =\n",
              "          google.colab.kernel.accessAllowed ? 'block' : 'none';\n",
              "\n",
              "        async function convertToInteractive(key) {\n",
              "          const element = document.querySelector('#df-abfa0748-2b71-4628-873a-6274c6563906');\n",
              "          const dataTable =\n",
              "            await google.colab.kernel.invokeFunction('convertToInteractive',\n",
              "                                                     [key], {});\n",
              "          if (!dataTable) return;\n",
              "\n",
              "          const docLinkHtml = 'Like what you see? Visit the ' +\n",
              "            '<a target=\"_blank\" href=https://colab.research.google.com/notebooks/data_table.ipynb>data table notebook</a>'\n",
              "            + ' to learn more about interactive tables.';\n",
              "          element.innerHTML = '';\n",
              "          dataTable['output_type'] = 'display_data';\n",
              "          await google.colab.output.renderOutput(dataTable, element);\n",
              "          const docLink = document.createElement('div');\n",
              "          docLink.innerHTML = docLinkHtml;\n",
              "          element.appendChild(docLink);\n",
              "        }\n",
              "      </script>\n",
              "    </div>\n",
              "  </div>\n",
              "  "
            ]
          },
          "metadata": {},
          "execution_count": 4
        }
      ]
    },
    {
      "cell_type": "code",
      "source": [
        "price_classes = ['[0, 5000]', '(5000, 10000]', '(10000, 15000]', '15000+']\n",
        "feature_names = diamonds.columns.to_list()\n",
        "feature_names.remove('class')\n",
        "feature_names"
      ],
      "metadata": {
        "id": "eKvzCQVwWXXT",
        "colab": {
          "base_uri": "https://localhost:8080/"
        },
        "outputId": "c4c27a78-dc2c-4f9b-b9b4-8250482f1572"
      },
      "execution_count": 5,
      "outputs": [
        {
          "output_type": "execute_result",
          "data": {
            "text/plain": [
              "['carat', 'clarity', 'color', 'cut', 'depth', 'table', 'x', 'y', 'z', 'volume']"
            ]
          },
          "metadata": {},
          "execution_count": 5
        }
      ]
    },
    {
      "cell_type": "code",
      "source": [
        "X = diamonds[feature_names]\n",
        "y = diamonds['class']"
      ],
      "metadata": {
        "id": "iBLEGa7UW3t6"
      },
      "execution_count": 6,
      "outputs": []
    },
    {
      "cell_type": "code",
      "source": [
        "X"
      ],
      "metadata": {
        "id": "gMP_ppx0XCso",
        "colab": {
          "base_uri": "https://localhost:8080/",
          "height": 424
        },
        "outputId": "cc4877f4-da0d-43d3-f72e-5e66dd174f70"
      },
      "execution_count": 7,
      "outputs": [
        {
          "output_type": "execute_result",
          "data": {
            "text/plain": [
              "       carat  clarity  color  cut     depth  table         x         y  \\\n",
              "0       1.26        2      4    2  0.364706   0.72  0.661224  0.680328   \n",
              "1       0.80        3      4    4  0.541176   0.24  0.455102  0.473361   \n",
              "2       0.56        4      2    4  0.494118   0.24  0.316327  0.336066   \n",
              "3       1.51        3      6    1  0.764706   0.56  0.716326  0.735656   \n",
              "4       0.33        6      5    4  0.552941   0.24  0.142857  0.157787   \n",
              "...      ...      ...    ...  ...       ...    ...       ...       ...   \n",
              "52325   1.02        2      4    2  0.635294   0.64  0.540816  0.559426   \n",
              "52326   0.93        2      4    3  0.505882   0.64  0.518367  0.522541   \n",
              "52327   0.30        4      5    4  0.576471   0.24  0.116327  0.131148   \n",
              "52328   0.36        3      2    4  0.470588   0.32  0.177551  0.182377   \n",
              "52329   0.70        1      2    2  0.376471   0.56  0.408163  0.428279   \n",
              "\n",
              "              z    volume  \n",
              "0      0.716180  0.512314  \n",
              "1      0.578249  0.295469  \n",
              "2      0.461538  0.176404  \n",
              "3      0.824934  0.623309  \n",
              "4      0.326260  0.066582  \n",
              "...         ...       ...  \n",
              "52325  0.660477  0.389186  \n",
              "52326  0.618037  0.349234  \n",
              "52327  0.307692  0.053560  \n",
              "52328  0.342175  0.080874  \n",
              "52329  0.519894  0.245428  \n",
              "\n",
              "[52330 rows x 10 columns]"
            ],
            "text/html": [
              "\n",
              "  <div id=\"df-b1d53d6f-224e-4765-8f8b-ec22ca9b46f6\">\n",
              "    <div class=\"colab-df-container\">\n",
              "      <div>\n",
              "<style scoped>\n",
              "    .dataframe tbody tr th:only-of-type {\n",
              "        vertical-align: middle;\n",
              "    }\n",
              "\n",
              "    .dataframe tbody tr th {\n",
              "        vertical-align: top;\n",
              "    }\n",
              "\n",
              "    .dataframe thead th {\n",
              "        text-align: right;\n",
              "    }\n",
              "</style>\n",
              "<table border=\"1\" class=\"dataframe\">\n",
              "  <thead>\n",
              "    <tr style=\"text-align: right;\">\n",
              "      <th></th>\n",
              "      <th>carat</th>\n",
              "      <th>clarity</th>\n",
              "      <th>color</th>\n",
              "      <th>cut</th>\n",
              "      <th>depth</th>\n",
              "      <th>table</th>\n",
              "      <th>x</th>\n",
              "      <th>y</th>\n",
              "      <th>z</th>\n",
              "      <th>volume</th>\n",
              "    </tr>\n",
              "  </thead>\n",
              "  <tbody>\n",
              "    <tr>\n",
              "      <th>0</th>\n",
              "      <td>1.26</td>\n",
              "      <td>2</td>\n",
              "      <td>4</td>\n",
              "      <td>2</td>\n",
              "      <td>0.364706</td>\n",
              "      <td>0.72</td>\n",
              "      <td>0.661224</td>\n",
              "      <td>0.680328</td>\n",
              "      <td>0.716180</td>\n",
              "      <td>0.512314</td>\n",
              "    </tr>\n",
              "    <tr>\n",
              "      <th>1</th>\n",
              "      <td>0.80</td>\n",
              "      <td>3</td>\n",
              "      <td>4</td>\n",
              "      <td>4</td>\n",
              "      <td>0.541176</td>\n",
              "      <td>0.24</td>\n",
              "      <td>0.455102</td>\n",
              "      <td>0.473361</td>\n",
              "      <td>0.578249</td>\n",
              "      <td>0.295469</td>\n",
              "    </tr>\n",
              "    <tr>\n",
              "      <th>2</th>\n",
              "      <td>0.56</td>\n",
              "      <td>4</td>\n",
              "      <td>2</td>\n",
              "      <td>4</td>\n",
              "      <td>0.494118</td>\n",
              "      <td>0.24</td>\n",
              "      <td>0.316327</td>\n",
              "      <td>0.336066</td>\n",
              "      <td>0.461538</td>\n",
              "      <td>0.176404</td>\n",
              "    </tr>\n",
              "    <tr>\n",
              "      <th>3</th>\n",
              "      <td>1.51</td>\n",
              "      <td>3</td>\n",
              "      <td>6</td>\n",
              "      <td>1</td>\n",
              "      <td>0.764706</td>\n",
              "      <td>0.56</td>\n",
              "      <td>0.716326</td>\n",
              "      <td>0.735656</td>\n",
              "      <td>0.824934</td>\n",
              "      <td>0.623309</td>\n",
              "    </tr>\n",
              "    <tr>\n",
              "      <th>4</th>\n",
              "      <td>0.33</td>\n",
              "      <td>6</td>\n",
              "      <td>5</td>\n",
              "      <td>4</td>\n",
              "      <td>0.552941</td>\n",
              "      <td>0.24</td>\n",
              "      <td>0.142857</td>\n",
              "      <td>0.157787</td>\n",
              "      <td>0.326260</td>\n",
              "      <td>0.066582</td>\n",
              "    </tr>\n",
              "    <tr>\n",
              "      <th>...</th>\n",
              "      <td>...</td>\n",
              "      <td>...</td>\n",
              "      <td>...</td>\n",
              "      <td>...</td>\n",
              "      <td>...</td>\n",
              "      <td>...</td>\n",
              "      <td>...</td>\n",
              "      <td>...</td>\n",
              "      <td>...</td>\n",
              "      <td>...</td>\n",
              "    </tr>\n",
              "    <tr>\n",
              "      <th>52325</th>\n",
              "      <td>1.02</td>\n",
              "      <td>2</td>\n",
              "      <td>4</td>\n",
              "      <td>2</td>\n",
              "      <td>0.635294</td>\n",
              "      <td>0.64</td>\n",
              "      <td>0.540816</td>\n",
              "      <td>0.559426</td>\n",
              "      <td>0.660477</td>\n",
              "      <td>0.389186</td>\n",
              "    </tr>\n",
              "    <tr>\n",
              "      <th>52326</th>\n",
              "      <td>0.93</td>\n",
              "      <td>2</td>\n",
              "      <td>4</td>\n",
              "      <td>3</td>\n",
              "      <td>0.505882</td>\n",
              "      <td>0.64</td>\n",
              "      <td>0.518367</td>\n",
              "      <td>0.522541</td>\n",
              "      <td>0.618037</td>\n",
              "      <td>0.349234</td>\n",
              "    </tr>\n",
              "    <tr>\n",
              "      <th>52327</th>\n",
              "      <td>0.30</td>\n",
              "      <td>4</td>\n",
              "      <td>5</td>\n",
              "      <td>4</td>\n",
              "      <td>0.576471</td>\n",
              "      <td>0.24</td>\n",
              "      <td>0.116327</td>\n",
              "      <td>0.131148</td>\n",
              "      <td>0.307692</td>\n",
              "      <td>0.053560</td>\n",
              "    </tr>\n",
              "    <tr>\n",
              "      <th>52328</th>\n",
              "      <td>0.36</td>\n",
              "      <td>3</td>\n",
              "      <td>2</td>\n",
              "      <td>4</td>\n",
              "      <td>0.470588</td>\n",
              "      <td>0.32</td>\n",
              "      <td>0.177551</td>\n",
              "      <td>0.182377</td>\n",
              "      <td>0.342175</td>\n",
              "      <td>0.080874</td>\n",
              "    </tr>\n",
              "    <tr>\n",
              "      <th>52329</th>\n",
              "      <td>0.70</td>\n",
              "      <td>1</td>\n",
              "      <td>2</td>\n",
              "      <td>2</td>\n",
              "      <td>0.376471</td>\n",
              "      <td>0.56</td>\n",
              "      <td>0.408163</td>\n",
              "      <td>0.428279</td>\n",
              "      <td>0.519894</td>\n",
              "      <td>0.245428</td>\n",
              "    </tr>\n",
              "  </tbody>\n",
              "</table>\n",
              "<p>52330 rows × 10 columns</p>\n",
              "</div>\n",
              "      <button class=\"colab-df-convert\" onclick=\"convertToInteractive('df-b1d53d6f-224e-4765-8f8b-ec22ca9b46f6')\"\n",
              "              title=\"Convert this dataframe to an interactive table.\"\n",
              "              style=\"display:none;\">\n",
              "        \n",
              "  <svg xmlns=\"http://www.w3.org/2000/svg\" height=\"24px\"viewBox=\"0 0 24 24\"\n",
              "       width=\"24px\">\n",
              "    <path d=\"M0 0h24v24H0V0z\" fill=\"none\"/>\n",
              "    <path d=\"M18.56 5.44l.94 2.06.94-2.06 2.06-.94-2.06-.94-.94-2.06-.94 2.06-2.06.94zm-11 1L8.5 8.5l.94-2.06 2.06-.94-2.06-.94L8.5 2.5l-.94 2.06-2.06.94zm10 10l.94 2.06.94-2.06 2.06-.94-2.06-.94-.94-2.06-.94 2.06-2.06.94z\"/><path d=\"M17.41 7.96l-1.37-1.37c-.4-.4-.92-.59-1.43-.59-.52 0-1.04.2-1.43.59L10.3 9.45l-7.72 7.72c-.78.78-.78 2.05 0 2.83L4 21.41c.39.39.9.59 1.41.59.51 0 1.02-.2 1.41-.59l7.78-7.78 2.81-2.81c.8-.78.8-2.07 0-2.86zM5.41 20L4 18.59l7.72-7.72 1.47 1.35L5.41 20z\"/>\n",
              "  </svg>\n",
              "      </button>\n",
              "      \n",
              "  <style>\n",
              "    .colab-df-container {\n",
              "      display:flex;\n",
              "      flex-wrap:wrap;\n",
              "      gap: 12px;\n",
              "    }\n",
              "\n",
              "    .colab-df-convert {\n",
              "      background-color: #E8F0FE;\n",
              "      border: none;\n",
              "      border-radius: 50%;\n",
              "      cursor: pointer;\n",
              "      display: none;\n",
              "      fill: #1967D2;\n",
              "      height: 32px;\n",
              "      padding: 0 0 0 0;\n",
              "      width: 32px;\n",
              "    }\n",
              "\n",
              "    .colab-df-convert:hover {\n",
              "      background-color: #E2EBFA;\n",
              "      box-shadow: 0px 1px 2px rgba(60, 64, 67, 0.3), 0px 1px 3px 1px rgba(60, 64, 67, 0.15);\n",
              "      fill: #174EA6;\n",
              "    }\n",
              "\n",
              "    [theme=dark] .colab-df-convert {\n",
              "      background-color: #3B4455;\n",
              "      fill: #D2E3FC;\n",
              "    }\n",
              "\n",
              "    [theme=dark] .colab-df-convert:hover {\n",
              "      background-color: #434B5C;\n",
              "      box-shadow: 0px 1px 3px 1px rgba(0, 0, 0, 0.15);\n",
              "      filter: drop-shadow(0px 1px 2px rgba(0, 0, 0, 0.3));\n",
              "      fill: #FFFFFF;\n",
              "    }\n",
              "  </style>\n",
              "\n",
              "      <script>\n",
              "        const buttonEl =\n",
              "          document.querySelector('#df-b1d53d6f-224e-4765-8f8b-ec22ca9b46f6 button.colab-df-convert');\n",
              "        buttonEl.style.display =\n",
              "          google.colab.kernel.accessAllowed ? 'block' : 'none';\n",
              "\n",
              "        async function convertToInteractive(key) {\n",
              "          const element = document.querySelector('#df-b1d53d6f-224e-4765-8f8b-ec22ca9b46f6');\n",
              "          const dataTable =\n",
              "            await google.colab.kernel.invokeFunction('convertToInteractive',\n",
              "                                                     [key], {});\n",
              "          if (!dataTable) return;\n",
              "\n",
              "          const docLinkHtml = 'Like what you see? Visit the ' +\n",
              "            '<a target=\"_blank\" href=https://colab.research.google.com/notebooks/data_table.ipynb>data table notebook</a>'\n",
              "            + ' to learn more about interactive tables.';\n",
              "          element.innerHTML = '';\n",
              "          dataTable['output_type'] = 'display_data';\n",
              "          await google.colab.output.renderOutput(dataTable, element);\n",
              "          const docLink = document.createElement('div');\n",
              "          docLink.innerHTML = docLinkHtml;\n",
              "          element.appendChild(docLink);\n",
              "        }\n",
              "      </script>\n",
              "    </div>\n",
              "  </div>\n",
              "  "
            ]
          },
          "metadata": {},
          "execution_count": 7
        }
      ]
    },
    {
      "cell_type": "code",
      "source": [
        "y"
      ],
      "metadata": {
        "id": "tXufOM4tXEyx",
        "colab": {
          "base_uri": "https://localhost:8080/"
        },
        "outputId": "8521b3cb-5c46-4869-b837-f0fdfcf537a4"
      },
      "execution_count": 8,
      "outputs": [
        {
          "output_type": "execute_result",
          "data": {
            "text/plain": [
              "0        (5000, 10000]\n",
              "1            [0, 5000]\n",
              "2            [0, 5000]\n",
              "3        (5000, 10000]\n",
              "4            [0, 5000]\n",
              "             ...      \n",
              "52325        [0, 5000]\n",
              "52326        [0, 5000]\n",
              "52327        [0, 5000]\n",
              "52328        [0, 5000]\n",
              "52329        [0, 5000]\n",
              "Name: class, Length: 52330, dtype: object"
            ]
          },
          "metadata": {},
          "execution_count": 8
        }
      ]
    },
    {
      "cell_type": "code",
      "source": [
        "X_train, X_test, y_train, y_test = train_test_split(X, y, test_size=0.3, random_state=42, stratify=y)\n",
        "all_predictions = []\n",
        "accuracy_scores = []"
      ],
      "metadata": {
        "id": "ZW9tFZOEfFlI"
      },
      "execution_count": 9,
      "outputs": []
    },
    {
      "cell_type": "markdown",
      "source": [
        "***"
      ],
      "metadata": {
        "id": "0LjR3ddqjlJ2"
      }
    },
    {
      "cell_type": "markdown",
      "source": [
        "Pomocne funkcije za izvestaj o modelu"
      ],
      "metadata": {
        "id": "MWehSD_4jhG6"
      }
    },
    {
      "cell_type": "code",
      "source": [
        "def model_report(pipeline, X_test, y_test):\n",
        "  y_pred = pipeline.predict(X_test)\n",
        "  model = pipeline['model']\n",
        "  accuracy = accuracy_score(y_test, y_pred)\n",
        "  all_predictions.append(y_pred)\n",
        "  accuracy_scores.append(accuracy)\n",
        "\n",
        "  print(f'Izvestaj o {type(model).__name__} modelu:')\n",
        "  print('-------------------------------------------------------------------')\n",
        "  print(f'Klase za predvidjanje: {price_classes}')\n",
        "  print(f'Accuracy: {accuracy}')\n",
        "  print('-------------------------------------------------------------------')\n",
        "  print('Klasifikacioni izvestaj: ')\n",
        "  print(classification_report(y_test, y_pred))\n",
        "  print('-------------------------------------------------------------------')\n",
        "  print('Matrica konfuzije: ')\n",
        "  data = confusion_matrix(y_test, y_pred)\n",
        "  _ = sns.heatmap(data, annot=True, fmt='g', xticklabels=model.classes_, yticklabels=model.classes_, cmap = plt.cm.Reds)\n",
        "\n"
      ],
      "metadata": {
        "id": "V8teokHcjmae"
      },
      "execution_count": 10,
      "outputs": []
    },
    {
      "cell_type": "markdown",
      "source": [
        "## KNeighborsClassifier"
      ],
      "metadata": {
        "id": "0i_Wdp_WU-3i"
      }
    },
    {
      "cell_type": "code",
      "source": [
        "knn = Pipeline([\n",
        "    ('model', KNeighborsClassifier())\n",
        "])"
      ],
      "metadata": {
        "id": "JmKUkpQPXfDw"
      },
      "execution_count": 11,
      "outputs": []
    },
    {
      "cell_type": "code",
      "source": [
        "knn.fit(X_train, y_train)"
      ],
      "metadata": {
        "id": "67CT-ijve1ea",
        "colab": {
          "base_uri": "https://localhost:8080/",
          "height": 92
        },
        "outputId": "99882049-2214-4279-9287-dfd393f7d1d2"
      },
      "execution_count": 12,
      "outputs": [
        {
          "output_type": "execute_result",
          "data": {
            "text/plain": [
              "Pipeline(steps=[('model', KNeighborsClassifier())])"
            ],
            "text/html": [
              "<style>#sk-container-id-1 {color: black;background-color: white;}#sk-container-id-1 pre{padding: 0;}#sk-container-id-1 div.sk-toggleable {background-color: white;}#sk-container-id-1 label.sk-toggleable__label {cursor: pointer;display: block;width: 100%;margin-bottom: 0;padding: 0.3em;box-sizing: border-box;text-align: center;}#sk-container-id-1 label.sk-toggleable__label-arrow:before {content: \"▸\";float: left;margin-right: 0.25em;color: #696969;}#sk-container-id-1 label.sk-toggleable__label-arrow:hover:before {color: black;}#sk-container-id-1 div.sk-estimator:hover label.sk-toggleable__label-arrow:before {color: black;}#sk-container-id-1 div.sk-toggleable__content {max-height: 0;max-width: 0;overflow: hidden;text-align: left;background-color: #f0f8ff;}#sk-container-id-1 div.sk-toggleable__content pre {margin: 0.2em;color: black;border-radius: 0.25em;background-color: #f0f8ff;}#sk-container-id-1 input.sk-toggleable__control:checked~div.sk-toggleable__content {max-height: 200px;max-width: 100%;overflow: auto;}#sk-container-id-1 input.sk-toggleable__control:checked~label.sk-toggleable__label-arrow:before {content: \"▾\";}#sk-container-id-1 div.sk-estimator input.sk-toggleable__control:checked~label.sk-toggleable__label {background-color: #d4ebff;}#sk-container-id-1 div.sk-label input.sk-toggleable__control:checked~label.sk-toggleable__label {background-color: #d4ebff;}#sk-container-id-1 input.sk-hidden--visually {border: 0;clip: rect(1px 1px 1px 1px);clip: rect(1px, 1px, 1px, 1px);height: 1px;margin: -1px;overflow: hidden;padding: 0;position: absolute;width: 1px;}#sk-container-id-1 div.sk-estimator {font-family: monospace;background-color: #f0f8ff;border: 1px dotted black;border-radius: 0.25em;box-sizing: border-box;margin-bottom: 0.5em;}#sk-container-id-1 div.sk-estimator:hover {background-color: #d4ebff;}#sk-container-id-1 div.sk-parallel-item::after {content: \"\";width: 100%;border-bottom: 1px solid gray;flex-grow: 1;}#sk-container-id-1 div.sk-label:hover label.sk-toggleable__label {background-color: #d4ebff;}#sk-container-id-1 div.sk-serial::before {content: \"\";position: absolute;border-left: 1px solid gray;box-sizing: border-box;top: 0;bottom: 0;left: 50%;z-index: 0;}#sk-container-id-1 div.sk-serial {display: flex;flex-direction: column;align-items: center;background-color: white;padding-right: 0.2em;padding-left: 0.2em;position: relative;}#sk-container-id-1 div.sk-item {position: relative;z-index: 1;}#sk-container-id-1 div.sk-parallel {display: flex;align-items: stretch;justify-content: center;background-color: white;position: relative;}#sk-container-id-1 div.sk-item::before, #sk-container-id-1 div.sk-parallel-item::before {content: \"\";position: absolute;border-left: 1px solid gray;box-sizing: border-box;top: 0;bottom: 0;left: 50%;z-index: -1;}#sk-container-id-1 div.sk-parallel-item {display: flex;flex-direction: column;z-index: 1;position: relative;background-color: white;}#sk-container-id-1 div.sk-parallel-item:first-child::after {align-self: flex-end;width: 50%;}#sk-container-id-1 div.sk-parallel-item:last-child::after {align-self: flex-start;width: 50%;}#sk-container-id-1 div.sk-parallel-item:only-child::after {width: 0;}#sk-container-id-1 div.sk-dashed-wrapped {border: 1px dashed gray;margin: 0 0.4em 0.5em 0.4em;box-sizing: border-box;padding-bottom: 0.4em;background-color: white;}#sk-container-id-1 div.sk-label label {font-family: monospace;font-weight: bold;display: inline-block;line-height: 1.2em;}#sk-container-id-1 div.sk-label-container {text-align: center;}#sk-container-id-1 div.sk-container {/* jupyter's `normalize.less` sets `[hidden] { display: none; }` but bootstrap.min.css set `[hidden] { display: none !important; }` so we also need the `!important` here to be able to override the default hidden behavior on the sphinx rendered scikit-learn.org. See: https://github.com/scikit-learn/scikit-learn/issues/21755 */display: inline-block !important;position: relative;}#sk-container-id-1 div.sk-text-repr-fallback {display: none;}</style><div id=\"sk-container-id-1\" class=\"sk-top-container\"><div class=\"sk-text-repr-fallback\"><pre>Pipeline(steps=[(&#x27;model&#x27;, KNeighborsClassifier())])</pre><b>In a Jupyter environment, please rerun this cell to show the HTML representation or trust the notebook. <br />On GitHub, the HTML representation is unable to render, please try loading this page with nbviewer.org.</b></div><div class=\"sk-container\" hidden><div class=\"sk-item sk-dashed-wrapped\"><div class=\"sk-label-container\"><div class=\"sk-label sk-toggleable\"><input class=\"sk-toggleable__control sk-hidden--visually\" id=\"sk-estimator-id-1\" type=\"checkbox\" ><label for=\"sk-estimator-id-1\" class=\"sk-toggleable__label sk-toggleable__label-arrow\">Pipeline</label><div class=\"sk-toggleable__content\"><pre>Pipeline(steps=[(&#x27;model&#x27;, KNeighborsClassifier())])</pre></div></div></div><div class=\"sk-serial\"><div class=\"sk-item\"><div class=\"sk-estimator sk-toggleable\"><input class=\"sk-toggleable__control sk-hidden--visually\" id=\"sk-estimator-id-2\" type=\"checkbox\" ><label for=\"sk-estimator-id-2\" class=\"sk-toggleable__label sk-toggleable__label-arrow\">KNeighborsClassifier</label><div class=\"sk-toggleable__content\"><pre>KNeighborsClassifier()</pre></div></div></div></div></div></div></div>"
            ]
          },
          "metadata": {},
          "execution_count": 12
        }
      ]
    },
    {
      "cell_type": "code",
      "source": [
        "model_report(knn, X_test, y_test)"
      ],
      "metadata": {
        "id": "tZs8fWAzg3Im",
        "colab": {
          "base_uri": "https://localhost:8080/",
          "height": 853
        },
        "outputId": "f04be514-93ee-4dc9-d1cf-d2613ce684b5"
      },
      "execution_count": 13,
      "outputs": [
        {
          "output_type": "stream",
          "name": "stdout",
          "text": [
            "Izvestaj o KNeighborsClassifier modelu:\n",
            "-------------------------------------------------------------------\n",
            "Klase za predvidjanje: ['[0, 5000]', '(5000, 10000]', '(10000, 15000]', '15000+']\n",
            "Accuracy: 0.9341996305497166\n",
            "-------------------------------------------------------------------\n",
            "Klasifikacioni izvestaj: \n",
            "                precision    recall  f1-score   support\n",
            "\n",
            "(10000, 15000]       0.77      0.76      0.76      1012\n",
            " (5000, 10000]       0.85      0.85      0.85      2785\n",
            "        15000+       0.74      0.71      0.73       405\n",
            "     [0, 5000]       0.97      0.98      0.98     11497\n",
            "\n",
            "      accuracy                           0.93     15699\n",
            "     macro avg       0.84      0.82      0.83     15699\n",
            "  weighted avg       0.93      0.93      0.93     15699\n",
            "\n",
            "-------------------------------------------------------------------\n",
            "Matrica konfuzije: \n"
          ]
        },
        {
          "output_type": "display_data",
          "data": {
            "text/plain": [
              "<Figure size 640x480 with 2 Axes>"
            ],
            "image/png": "[encoded data removed]"
          },
          "metadata": {}
        }
      ]
    },
    {
      "cell_type": "markdown",
      "source": [
        "#### Hyperparameter tuning"
      ],
      "metadata": {
        "id": "r5L2-Ng0_nN2"
      }
    },
    {
      "cell_type": "code",
      "source": [
        "params = {\n",
        "    'model__n_neighbors' : list(np.arange(2, 10, 2)),\n",
        "    'model__weights' : ['uniform', 'distance'],\n",
        "    'model__algorithm' : ['auto', 'kd_tree']\n",
        "}"
      ],
      "metadata": {
        "id": "NHNcPzxm-jQD"
      },
      "execution_count": 14,
      "outputs": []
    },
    {
      "cell_type": "code",
      "source": [
        "grid = GridSearchCV(knn, param_grid=params, scoring='accuracy', cv=3, verbose=4)"
      ],
      "metadata": {
        "id": "xSOB4K-AhRxC"
      },
      "execution_count": 15,
      "outputs": []
    },
    {
      "cell_type": "code",
      "source": [
        "grid.fit(X_train, y_train)"
      ],
      "metadata": {
        "id": "UUqiq61ah-N_",
        "colab": {
          "base_uri": "https://localhost:8080/",
          "height": 968
        },
        "outputId": "8dfaed2c-3b4f-4aa7-c090-a517c155dee4"
      },
      "execution_count": 16,
      "outputs": [
        {
          "output_type": "stream",
          "name": "stdout",
          "text": [
            "Fitting 3 folds for each of 16 candidates, totalling 48 fits\n",
            "[CV 1/3] END model__algorithm=auto, model__n_neighbors=2, model__weights=uniform;, score=0.918 total time=   0.6s\n",
            "[CV 2/3] END model__algorithm=auto, model__n_neighbors=2, model__weights=uniform;, score=0.920 total time=   1.0s\n",
            "[CV 3/3] END model__algorithm=auto, model__n_neighbors=2, model__weights=uniform;, score=0.919 total time=   1.0s\n",
            "[CV 1/3] END model__algorithm=auto, model__n_neighbors=2, model__weights=distance;, score=0.923 total time=   0.6s\n",
            "[CV 2/3] END model__algorithm=auto, model__n_neighbors=2, model__weights=distance;, score=0.925 total time=   0.4s\n",
            "[CV 3/3] END model__algorithm=auto, model__n_neighbors=2, model__weights=distance;, score=0.926 total time=   0.3s\n",
            "[CV 1/3] END model__algorithm=auto, model__n_neighbors=4, model__weights=uniform;, score=0.924 total time=   0.8s\n",
            "[CV 2/3] END model__algorithm=auto, model__n_neighbors=4, model__weights=uniform;, score=0.924 total time=   0.7s\n",
            "[CV 3/3] END model__algorithm=auto, model__n_neighbors=4, model__weights=uniform;, score=0.922 total time=   0.6s\n",
            "[CV 1/3] END model__algorithm=auto, model__n_neighbors=4, model__weights=distance;, score=0.930 total time=   0.3s\n",
            "[CV 2/3] END model__algorithm=auto, model__n_neighbors=4, model__weights=distance;, score=0.932 total time=   0.3s\n",
            "[CV 3/3] END model__algorithm=auto, model__n_neighbors=4, model__weights=distance;, score=0.930 total time=   0.4s\n",
            "[CV 1/3] END model__algorithm=auto, model__n_neighbors=6, model__weights=uniform;, score=0.924 total time=   0.6s\n",
            "[CV 2/3] END model__algorithm=auto, model__n_neighbors=6, model__weights=uniform;, score=0.925 total time=   0.6s\n",
            "[CV 3/3] END model__algorithm=auto, model__n_neighbors=6, model__weights=uniform;, score=0.922 total time=   0.6s\n",
            "[CV 1/3] END model__algorithm=auto, model__n_neighbors=6, model__weights=distance;, score=0.930 total time=   0.4s\n",
            "[CV 2/3] END model__algorithm=auto, model__n_neighbors=6, model__weights=distance;, score=0.933 total time=   0.4s\n",
            "[CV 3/3] END model__algorithm=auto, model__n_neighbors=6, model__weights=distance;, score=0.931 total time=   0.4s\n",
            "[CV 1/3] END model__algorithm=auto, model__n_neighbors=8, model__weights=uniform;, score=0.922 total time=   0.8s\n",
            "[CV 2/3] END model__algorithm=auto, model__n_neighbors=8, model__weights=uniform;, score=0.923 total time=   0.8s\n",
            "[CV 3/3] END model__algorithm=auto, model__n_neighbors=8, model__weights=uniform;, score=0.921 total time=   0.7s\n",
            "[CV 1/3] END model__algorithm=auto, model__n_neighbors=8, model__weights=distance;, score=0.931 total time=   0.4s\n",
            "[CV 2/3] END model__algorithm=auto, model__n_neighbors=8, model__weights=distance;, score=0.931 total time=   0.4s\n",
            "[CV 3/3] END model__algorithm=auto, model__n_neighbors=8, model__weights=distance;, score=0.930 total time=   0.5s\n",
            "[CV 1/3] END model__algorithm=kd_tree, model__n_neighbors=2, model__weights=uniform;, score=0.918 total time=   1.0s\n",
            "[CV 2/3] END model__algorithm=kd_tree, model__n_neighbors=2, model__weights=uniform;, score=0.920 total time=   1.0s\n",
            "[CV 3/3] END model__algorithm=kd_tree, model__n_neighbors=2, model__weights=uniform;, score=0.919 total time=   0.8s\n",
            "[CV 1/3] END model__algorithm=kd_tree, model__n_neighbors=2, model__weights=distance;, score=0.923 total time=   0.3s\n",
            "[CV 2/3] END model__algorithm=kd_tree, model__n_neighbors=2, model__weights=distance;, score=0.925 total time=   0.3s\n",
            "[CV 3/3] END model__algorithm=kd_tree, model__n_neighbors=2, model__weights=distance;, score=0.926 total time=   0.3s\n",
            "[CV 1/3] END model__algorithm=kd_tree, model__n_neighbors=4, model__weights=uniform;, score=0.924 total time=   0.6s\n",
            "[CV 2/3] END model__algorithm=kd_tree, model__n_neighbors=4, model__weights=uniform;, score=0.924 total time=   0.6s\n",
            "[CV 3/3] END model__algorithm=kd_tree, model__n_neighbors=4, model__weights=uniform;, score=0.922 total time=   0.6s\n",
            "[CV 1/3] END model__algorithm=kd_tree, model__n_neighbors=4, model__weights=distance;, score=0.930 total time=   0.4s\n",
            "[CV 2/3] END model__algorithm=kd_tree, model__n_neighbors=4, model__weights=distance;, score=0.932 total time=   0.4s\n",
            "[CV 3/3] END model__algorithm=kd_tree, model__n_neighbors=4, model__weights=distance;, score=0.930 total time=   0.4s\n",
            "[CV 1/3] END model__algorithm=kd_tree, model__n_neighbors=6, model__weights=uniform;, score=0.924 total time=   0.6s\n",
            "[CV 2/3] END model__algorithm=kd_tree, model__n_neighbors=6, model__weights=uniform;, score=0.925 total time=   0.7s\n",
            "[CV 3/3] END model__algorithm=kd_tree, model__n_neighbors=6, model__weights=uniform;, score=0.922 total time=   0.6s\n",
            "[CV 1/3] END model__algorithm=kd_tree, model__n_neighbors=6, model__weights=distance;, score=0.930 total time=   0.4s\n",
            "[CV 2/3] END model__algorithm=kd_tree, model__n_neighbors=6, model__weights=distance;, score=0.933 total time=   0.4s\n",
            "[CV 3/3] END model__algorithm=kd_tree, model__n_neighbors=6, model__weights=distance;, score=0.931 total time=   0.4s\n",
            "[CV 1/3] END model__algorithm=kd_tree, model__n_neighbors=8, model__weights=uniform;, score=0.922 total time=   0.6s\n",
            "[CV 2/3] END model__algorithm=kd_tree, model__n_neighbors=8, model__weights=uniform;, score=0.923 total time=   0.6s\n",
            "[CV 3/3] END model__algorithm=kd_tree, model__n_neighbors=8, model__weights=uniform;, score=0.921 total time=   0.6s\n",
            "[CV 1/3] END model__algorithm=kd_tree, model__n_neighbors=8, model__weights=distance;, score=0.931 total time=   0.4s\n",
            "[CV 2/3] END model__algorithm=kd_tree, model__n_neighbors=8, model__weights=distance;, score=0.931 total time=   0.4s\n",
            "[CV 3/3] END model__algorithm=kd_tree, model__n_neighbors=8, model__weights=distance;, score=0.930 total time=   0.6s\n"
          ]
        },
        {
          "output_type": "execute_result",
          "data": {
            "text/plain": [
              "GridSearchCV(cv=3,\n",
              "             estimator=Pipeline(steps=[('model', KNeighborsClassifier())]),\n",
              "             param_grid={'model__algorithm': ['auto', 'kd_tree'],\n",
              "                         'model__n_neighbors': [2, 4, 6, 8],\n",
              "                         'model__weights': ['uniform', 'distance']},\n",
              "             scoring='accuracy', verbose=4)"
            ],
            "text/html": [
              "<style>#sk-container-id-2 {color: black;background-color: white;}#sk-container-id-2 pre{padding: 0;}#sk-container-id-2 div.sk-toggleable {background-color: white;}#sk-container-id-2 label.sk-toggleable__label {cursor: pointer;display: block;width: 100%;margin-bottom: 0;padding: 0.3em;box-sizing: border-box;text-align: center;}#sk-container-id-2 label.sk-toggleable__label-arrow:before {content: \"▸\";float: left;margin-right: 0.25em;color: #696969;}#sk-container-id-2 label.sk-toggleable__label-arrow:hover:before {color: black;}#sk-container-id-2 div.sk-estimator:hover label.sk-toggleable__label-arrow:before {color: black;}#sk-container-id-2 div.sk-toggleable__content {max-height: 0;max-width: 0;overflow: hidden;text-align: left;background-color: #f0f8ff;}#sk-container-id-2 div.sk-toggleable__content pre {margin: 0.2em;color: black;border-radius: 0.25em;background-color: #f0f8ff;}#sk-container-id-2 input.sk-toggleable__control:checked~div.sk-toggleable__content {max-height: 200px;max-width: 100%;overflow: auto;}#sk-container-id-2 input.sk-toggleable__control:checked~label.sk-toggleable__label-arrow:before {content: \"▾\";}#sk-container-id-2 div.sk-estimator input.sk-toggleable__control:checked~label.sk-toggleable__label {background-color: #d4ebff;}#sk-container-id-2 div.sk-label input.sk-toggleable__control:checked~label.sk-toggleable__label {background-color: #d4ebff;}#sk-container-id-2 input.sk-hidden--visually {border: 0;clip: rect(1px 1px 1px 1px);clip: rect(1px, 1px, 1px, 1px);height: 1px;margin: -1px;overflow: hidden;padding: 0;position: absolute;width: 1px;}#sk-container-id-2 div.sk-estimator {font-family: monospace;background-color: #f0f8ff;border: 1px dotted black;border-radius: 0.25em;box-sizing: border-box;margin-bottom: 0.5em;}#sk-container-id-2 div.sk-estimator:hover {background-color: #d4ebff;}#sk-container-id-2 div.sk-parallel-item::after {content: \"\";width: 100%;border-bottom: 1px solid gray;flex-grow: 1;}#sk-container-id-2 div.sk-label:hover label.sk-toggleable__label {background-color: #d4ebff;}#sk-container-id-2 div.sk-serial::before {content: \"\";position: absolute;border-left: 1px solid gray;box-sizing: border-box;top: 0;bottom: 0;left: 50%;z-index: 0;}#sk-container-id-2 div.sk-serial {display: flex;flex-direction: column;align-items: center;background-color: white;padding-right: 0.2em;padding-left: 0.2em;position: relative;}#sk-container-id-2 div.sk-item {position: relative;z-index: 1;}#sk-container-id-2 div.sk-parallel {display: flex;align-items: stretch;justify-content: center;background-color: white;position: relative;}#sk-container-id-2 div.sk-item::before, #sk-container-id-2 div.sk-parallel-item::before {content: \"\";position: absolute;border-left: 1px solid gray;box-sizing: border-box;top: 0;bottom: 0;left: 50%;z-index: -1;}#sk-container-id-2 div.sk-parallel-item {display: flex;flex-direction: column;z-index: 1;position: relative;background-color: white;}#sk-container-id-2 div.sk-parallel-item:first-child::after {align-self: flex-end;width: 50%;}#sk-container-id-2 div.sk-parallel-item:last-child::after {align-self: flex-start;width: 50%;}#sk-container-id-2 div.sk-parallel-item:only-child::after {width: 0;}#sk-container-id-2 div.sk-dashed-wrapped {border: 1px dashed gray;margin: 0 0.4em 0.5em 0.4em;box-sizing: border-box;padding-bottom: 0.4em;background-color: white;}#sk-container-id-2 div.sk-label label {font-family: monospace;font-weight: bold;display: inline-block;line-height: 1.2em;}#sk-container-id-2 div.sk-label-container {text-align: center;}#sk-container-id-2 div.sk-container {/* jupyter's `normalize.less` sets `[hidden] { display: none; }` but bootstrap.min.css set `[hidden] { display: none !important; }` so we also need the `!important` here to be able to override the default hidden behavior on the sphinx rendered scikit-learn.org. See: https://github.com/scikit-learn/scikit-learn/issues/21755 */display: inline-block !important;position: relative;}#sk-container-id-2 div.sk-text-repr-fallback {display: none;}</style><div id=\"sk-container-id-2\" class=\"sk-top-container\"><div class=\"sk-text-repr-fallback\"><pre>GridSearchCV(cv=3,\n",
              "             estimator=Pipeline(steps=[(&#x27;model&#x27;, KNeighborsClassifier())]),\n",
              "             param_grid={&#x27;model__algorithm&#x27;: [&#x27;auto&#x27;, &#x27;kd_tree&#x27;],\n",
              "                         &#x27;model__n_neighbors&#x27;: [2, 4, 6, 8],\n",
              "                         &#x27;model__weights&#x27;: [&#x27;uniform&#x27;, &#x27;distance&#x27;]},\n",
              "             scoring=&#x27;accuracy&#x27;, verbose=4)</pre><b>In a Jupyter environment, please rerun this cell to show the HTML representation or trust the notebook. <br />On GitHub, the HTML representation is unable to render, please try loading this page with nbviewer.org.</b></div><div class=\"sk-container\" hidden><div class=\"sk-item sk-dashed-wrapped\"><div class=\"sk-label-container\"><div class=\"sk-label sk-toggleable\"><input class=\"sk-toggleable__control sk-hidden--visually\" id=\"sk-estimator-id-3\" type=\"checkbox\" ><label for=\"sk-estimator-id-3\" class=\"sk-toggleable__label sk-toggleable__label-arrow\">GridSearchCV</label><div class=\"sk-toggleable__content\"><pre>GridSearchCV(cv=3,\n",
              "             estimator=Pipeline(steps=[(&#x27;model&#x27;, KNeighborsClassifier())]),\n",
              "             param_grid={&#x27;model__algorithm&#x27;: [&#x27;auto&#x27;, &#x27;kd_tree&#x27;],\n",
              "                         &#x27;model__n_neighbors&#x27;: [2, 4, 6, 8],\n",
              "                         &#x27;model__weights&#x27;: [&#x27;uniform&#x27;, &#x27;distance&#x27;]},\n",
              "             scoring=&#x27;accuracy&#x27;, verbose=4)</pre></div></div></div><div class=\"sk-parallel\"><div class=\"sk-parallel-item\"><div class=\"sk-item\"><div class=\"sk-label-container\"><div class=\"sk-label sk-toggleable\"><input class=\"sk-toggleable__control sk-hidden--visually\" id=\"sk-estimator-id-4\" type=\"checkbox\" ><label for=\"sk-estimator-id-4\" class=\"sk-toggleable__label sk-toggleable__label-arrow\">estimator: Pipeline</label><div class=\"sk-toggleable__content\"><pre>Pipeline(steps=[(&#x27;model&#x27;, KNeighborsClassifier())])</pre></div></div></div><div class=\"sk-serial\"><div class=\"sk-item\"><div class=\"sk-serial\"><div class=\"sk-item\"><div class=\"sk-estimator sk-toggleable\"><input class=\"sk-toggleable__control sk-hidden--visually\" id=\"sk-estimator-id-5\" type=\"checkbox\" ><label for=\"sk-estimator-id-5\" class=\"sk-toggleable__label sk-toggleable__label-arrow\">KNeighborsClassifier</label><div class=\"sk-toggleable__content\"><pre>KNeighborsClassifier()</pre></div></div></div></div></div></div></div></div></div></div></div></div>"
            ]
          },
          "metadata": {},
          "execution_count": 16
        }
      ]
    },
    {
      "cell_type": "code",
      "source": [
        "grid.best_params_"
      ],
      "metadata": {
        "id": "R6t2kN0BiPbQ",
        "colab": {
          "base_uri": "https://localhost:8080/"
        },
        "outputId": "17f6b24c-2212-4cfe-8f7c-f30a4e37ea16"
      },
      "execution_count": 17,
      "outputs": [
        {
          "output_type": "execute_result",
          "data": {
            "text/plain": [
              "{'model__algorithm': 'auto',\n",
              " 'model__n_neighbors': 6,\n",
              " 'model__weights': 'distance'}"
            ]
          },
          "metadata": {},
          "execution_count": 17
        }
      ]
    },
    {
      "cell_type": "code",
      "source": [
        "knn_cv = grid.best_estimator_"
      ],
      "metadata": {
        "id": "7AHycrAojS33"
      },
      "execution_count": 18,
      "outputs": []
    },
    {
      "cell_type": "code",
      "source": [
        "model_report(knn_cv, X_test, y_test)"
      ],
      "metadata": {
        "id": "vxj1Kq-7isqW",
        "colab": {
          "base_uri": "https://localhost:8080/",
          "height": 853
        },
        "outputId": "c0b43417-dab7-45e6-d0b1-0ab756ca2915"
      },
      "execution_count": 19,
      "outputs": [
        {
          "output_type": "stream",
          "name": "stdout",
          "text": [
            "Izvestaj o KNeighborsClassifier modelu:\n",
            "-------------------------------------------------------------------\n",
            "Klase za predvidjanje: ['[0, 5000]', '(5000, 10000]', '(10000, 15000]', '15000+']\n",
            "Accuracy: 0.9393591948531753\n",
            "-------------------------------------------------------------------\n",
            "Klasifikacioni izvestaj: \n",
            "                precision    recall  f1-score   support\n",
            "\n",
            "(10000, 15000]       0.80      0.77      0.79      1012\n",
            " (5000, 10000]       0.86      0.86      0.86      2785\n",
            "        15000+       0.76      0.77      0.77       405\n",
            "     [0, 5000]       0.98      0.98      0.98     11497\n",
            "\n",
            "      accuracy                           0.94     15699\n",
            "     macro avg       0.85      0.85      0.85     15699\n",
            "  weighted avg       0.94      0.94      0.94     15699\n",
            "\n",
            "-------------------------------------------------------------------\n",
            "Matrica konfuzije: \n"
          ]
        },
        {
          "output_type": "display_data",
          "data": {
            "text/plain": [
              "<Figure size 640x480 with 2 Axes>"
            ],
            "image/png": "[encoded data removed]"
          },
          "metadata": {}
        }
      ]
    },
    {
      "cell_type": "markdown",
      "source": [
        "***"
      ],
      "metadata": {
        "id": "5Cn9-h60j_2T"
      }
    },
    {
      "cell_type": "markdown",
      "source": [
        "### Now with PCA"
      ],
      "metadata": {
        "id": "r3xLmH0kmi__"
      }
    },
    {
      "cell_type": "code",
      "source": [
        "pca = PCA()\n",
        "\n",
        "X_train_pca = pca.fit_transform(X_train)\n",
        "\n",
        "plt.figure()\n",
        "plt.plot(np.cumsum(pca.explained_variance_ratio_), marker='o')\n",
        "plt.xlabel('Broj komponenti')\n",
        "plt.ylabel('Cumsum')\n",
        "plt.show()"
      ],
      "metadata": {
        "id": "WVOyk_xSmU4X",
        "colab": {
          "base_uri": "https://localhost:8080/",
          "height": 449
        },
        "outputId": "d294f345-c5c5-4019-c04b-3f45386595bd"
      },
      "execution_count": 20,
      "outputs": [
        {
          "output_type": "display_data",
          "data": {
            "text/plain": [
              "<Figure size 640x480 with 1 Axes>"
            ],
            "image/png": "[encoded data removed]"
          },
          "metadata": {}
        }
      ]
    },
    {
      "cell_type": "code",
      "source": [
        "knn_pca = Pipeline([\n",
        "    ('pca', PCA()),\n",
        "    ('model', KNeighborsClassifier())\n",
        "])"
      ],
      "metadata": {
        "id": "30pDsnpCnJE2"
      },
      "execution_count": 21,
      "outputs": []
    },
    {
      "cell_type": "code",
      "source": [
        "params = {\n",
        "    'pca__n_components' : [2, 3, 4],\n",
        "    'model__n_neighbors' : list(np.arange(2, 10, 2)),\n",
        "    'model__weights' : ['uniform', 'distance'],\n",
        "    'model__algorithm' : ['auto', 'kd_tree']\n",
        "}"
      ],
      "metadata": {
        "id": "wA1lQs0HNp9k"
      },
      "execution_count": 22,
      "outputs": []
    },
    {
      "cell_type": "code",
      "source": [
        "grid = GridSearchCV(knn_pca, param_grid=params, scoring='accuracy', cv=3, verbose=4)"
      ],
      "metadata": {
        "id": "RQc-82rjO5T6"
      },
      "execution_count": 23,
      "outputs": []
    },
    {
      "cell_type": "code",
      "source": [
        "grid.fit(X_train, y_train)"
      ],
      "metadata": {
        "colab": {
          "base_uri": "https://localhost:8080/",
          "height": 1000
        },
        "id": "dM7b_rj1PVUq",
        "outputId": "71177817-cdbf-4329-9702-382b17dd4174"
      },
      "execution_count": 24,
      "outputs": [
        {
          "output_type": "stream",
          "name": "stdout",
          "text": [
            "Fitting 3 folds for each of 48 candidates, totalling 144 fits\n",
            "[CV 1/3] END model__algorithm=auto, model__n_neighbors=2, model__weights=uniform, pca__n_components=2;, score=0.931 total time=   0.5s\n",
            "[CV 2/3] END model__algorithm=auto, model__n_neighbors=2, model__weights=uniform, pca__n_components=2;, score=0.928 total time=   0.4s\n",
            "[CV 3/3] END model__algorithm=auto, model__n_neighbors=2, model__weights=uniform, pca__n_components=2;, score=0.928 total time=   0.5s\n",
            "[CV 1/3] END model__algorithm=auto, model__n_neighbors=2, model__weights=uniform, pca__n_components=3;, score=0.928 total time=   0.5s\n",
            "[CV 2/3] END model__algorithm=auto, model__n_neighbors=2, model__weights=uniform, pca__n_components=3;, score=0.930 total time=   0.6s\n",
            "[CV 3/3] END model__algorithm=auto, model__n_neighbors=2, model__weights=uniform, pca__n_components=3;, score=0.930 total time=   0.5s\n",
            "[CV 1/3] END model__algorithm=auto, model__n_neighbors=2, model__weights=uniform, pca__n_components=4;, score=0.930 total time=   0.6s\n",
            "[CV 2/3] END model__algorithm=auto, model__n_neighbors=2, model__weights=uniform, pca__n_components=4;, score=0.929 total time=   0.6s\n",
            "[CV 3/3] END model__algorithm=auto, model__n_neighbors=2, model__weights=uniform, pca__n_components=4;, score=0.931 total time=   0.6s\n",
            "[CV 1/3] END model__algorithm=auto, model__n_neighbors=2, model__weights=distance, pca__n_components=2;, score=0.932 total time=   0.2s\n",
            "[CV 2/3] END model__algorithm=auto, model__n_neighbors=2, model__weights=distance, pca__n_components=2;, score=0.928 total time=   0.2s\n",
            "[CV 3/3] END model__algorithm=auto, model__n_neighbors=2, model__weights=distance, pca__n_components=2;, score=0.935 total time=   0.2s\n",
            "[CV 1/3] END model__algorithm=auto, model__n_neighbors=2, model__weights=distance, pca__n_components=3;, score=0.931 total time=   0.2s\n",
            "[CV 2/3] END model__algorithm=auto, model__n_neighbors=2, model__weights=distance, pca__n_components=3;, score=0.932 total time=   0.2s\n",
            "[CV 3/3] END model__algorithm=auto, model__n_neighbors=2, model__weights=distance, pca__n_components=3;, score=0.936 total time=   0.2s\n",
            "[CV 1/3] END model__algorithm=auto, model__n_neighbors=2, model__weights=distance, pca__n_components=4;, score=0.932 total time=   0.3s\n",
            "[CV 2/3] END model__algorithm=auto, model__n_neighbors=2, model__weights=distance, pca__n_components=4;, score=0.929 total time=   0.3s\n",
            "[CV 3/3] END model__algorithm=auto, model__n_neighbors=2, model__weights=distance, pca__n_components=4;, score=0.935 total time=   0.2s\n",
            "[CV 1/3] END model__algorithm=auto, model__n_neighbors=4, model__weights=uniform, pca__n_components=2;, score=0.931 total time=   0.5s\n",
            "[CV 2/3] END model__algorithm=auto, model__n_neighbors=4, model__weights=uniform, pca__n_components=2;, score=0.933 total time=   0.5s\n",
            "[CV 3/3] END model__algorithm=auto, model__n_neighbors=4, model__weights=uniform, pca__n_components=2;, score=0.934 total time=   1.0s\n",
            "[CV 1/3] END model__algorithm=auto, model__n_neighbors=4, model__weights=uniform, pca__n_components=3;, score=0.930 total time=   1.0s\n",
            "[CV 2/3] END model__algorithm=auto, model__n_neighbors=4, model__weights=uniform, pca__n_components=3;, score=0.934 total time=   2.2s\n",
            "[CV 3/3] END model__algorithm=auto, model__n_neighbors=4, model__weights=uniform, pca__n_components=3;, score=0.934 total time=   0.7s\n",
            "[CV 1/3] END model__algorithm=auto, model__n_neighbors=4, model__weights=uniform, pca__n_components=4;, score=0.935 total time=   0.5s\n",
            "[CV 2/3] END model__algorithm=auto, model__n_neighbors=4, model__weights=uniform, pca__n_components=4;, score=0.933 total time=   0.5s\n",
            "[CV 3/3] END model__algorithm=auto, model__n_neighbors=4, model__weights=uniform, pca__n_components=4;, score=0.936 total time=   0.8s\n",
            "[CV 1/3] END model__algorithm=auto, model__n_neighbors=4, model__weights=distance, pca__n_components=2;, score=0.935 total time=   0.2s\n",
            "[CV 2/3] END model__algorithm=auto, model__n_neighbors=4, model__weights=distance, pca__n_components=2;, score=0.935 total time=   0.2s\n",
            "[CV 3/3] END model__algorithm=auto, model__n_neighbors=4, model__weights=distance, pca__n_components=2;, score=0.940 total time=   0.2s\n",
            "[CV 1/3] END model__algorithm=auto, model__n_neighbors=4, model__weights=distance, pca__n_components=3;, score=0.937 total time=   0.3s\n",
            "[CV 2/3] END model__algorithm=auto, model__n_neighbors=4, model__weights=distance, pca__n_components=3;, score=0.938 total time=   0.3s\n",
            "[CV 3/3] END model__algorithm=auto, model__n_neighbors=4, model__weights=distance, pca__n_components=3;, score=0.942 total time=   0.3s\n",
            "[CV 1/3] END model__algorithm=auto, model__n_neighbors=4, model__weights=distance, pca__n_components=4;, score=0.937 total time=   0.2s\n",
            "[CV 2/3] END model__algorithm=auto, model__n_neighbors=4, model__weights=distance, pca__n_components=4;, score=0.935 total time=   0.3s\n",
            "[CV 3/3] END model__algorithm=auto, model__n_neighbors=4, model__weights=distance, pca__n_components=4;, score=0.941 total time=   0.3s\n",
            "[CV 1/3] END model__algorithm=auto, model__n_neighbors=6, model__weights=uniform, pca__n_components=2;, score=0.929 total time=   0.4s\n",
            "[CV 2/3] END model__algorithm=auto, model__n_neighbors=6, model__weights=uniform, pca__n_components=2;, score=0.933 total time=   0.5s\n",
            "[CV 3/3] END model__algorithm=auto, model__n_neighbors=6, model__weights=uniform, pca__n_components=2;, score=0.932 total time=   0.7s\n",
            "[CV 1/3] END model__algorithm=auto, model__n_neighbors=6, model__weights=uniform, pca__n_components=3;, score=0.929 total time=   0.6s\n",
            "[CV 2/3] END model__algorithm=auto, model__n_neighbors=6, model__weights=uniform, pca__n_components=3;, score=0.932 total time=   0.6s\n",
            "[CV 3/3] END model__algorithm=auto, model__n_neighbors=6, model__weights=uniform, pca__n_components=3;, score=0.932 total time=   0.6s\n",
            "[CV 1/3] END model__algorithm=auto, model__n_neighbors=6, model__weights=uniform, pca__n_components=4;, score=0.934 total time=   0.5s\n",
            "[CV 2/3] END model__algorithm=auto, model__n_neighbors=6, model__weights=uniform, pca__n_components=4;, score=0.935 total time=   0.5s\n",
            "[CV 3/3] END model__algorithm=auto, model__n_neighbors=6, model__weights=uniform, pca__n_components=4;, score=0.936 total time=   0.5s\n",
            "[CV 1/3] END model__algorithm=auto, model__n_neighbors=6, model__weights=distance, pca__n_components=2;, score=0.937 total time=   0.3s\n",
            "[CV 2/3] END model__algorithm=auto, model__n_neighbors=6, model__weights=distance, pca__n_components=2;, score=0.937 total time=   0.2s\n",
            "[CV 3/3] END model__algorithm=auto, model__n_neighbors=6, model__weights=distance, pca__n_components=2;, score=0.941 total time=   0.2s\n",
            "[CV 1/3] END model__algorithm=auto, model__n_neighbors=6, model__weights=distance, pca__n_components=3;, score=0.936 total time=   0.3s\n",
            "[CV 2/3] END model__algorithm=auto, model__n_neighbors=6, model__weights=distance, pca__n_components=3;, score=0.938 total time=   0.4s\n",
            "[CV 3/3] END model__algorithm=auto, model__n_neighbors=6, model__weights=distance, pca__n_components=3;, score=0.943 total time=   0.4s\n",
            "[CV 1/3] END model__algorithm=auto, model__n_neighbors=6, model__weights=distance, pca__n_components=4;, score=0.939 total time=   0.4s\n",
            "[CV 2/3] END model__algorithm=auto, model__n_neighbors=6, model__weights=distance, pca__n_components=4;, score=0.939 total time=   0.4s\n",
            "[CV 3/3] END model__algorithm=auto, model__n_neighbors=6, model__weights=distance, pca__n_components=4;, score=0.943 total time=   0.4s\n",
            "[CV 1/3] END model__algorithm=auto, model__n_neighbors=8, model__weights=uniform, pca__n_components=2;, score=0.930 total time=   0.7s\n",
            "[CV 2/3] END model__algorithm=auto, model__n_neighbors=8, model__weights=uniform, pca__n_components=2;, score=0.931 total time=   0.6s\n",
            "[CV 3/3] END model__algorithm=auto, model__n_neighbors=8, model__weights=uniform, pca__n_components=2;, score=0.929 total time=   0.5s\n",
            "[CV 1/3] END model__algorithm=auto, model__n_neighbors=8, model__weights=uniform, pca__n_components=3;, score=0.926 total time=   0.6s\n",
            "[CV 2/3] END model__algorithm=auto, model__n_neighbors=8, model__weights=uniform, pca__n_components=3;, score=0.930 total time=   0.5s\n",
            "[CV 3/3] END model__algorithm=auto, model__n_neighbors=8, model__weights=uniform, pca__n_components=3;, score=0.929 total time=   0.5s\n",
            "[CV 1/3] END model__algorithm=auto, model__n_neighbors=8, model__weights=uniform, pca__n_components=4;, score=0.932 total time=   0.5s\n",
            "[CV 2/3] END model__algorithm=auto, model__n_neighbors=8, model__weights=uniform, pca__n_components=4;, score=0.934 total time=   0.5s\n",
            "[CV 3/3] END model__algorithm=auto, model__n_neighbors=8, model__weights=uniform, pca__n_components=4;, score=0.932 total time=   0.6s\n",
            "[CV 1/3] END model__algorithm=auto, model__n_neighbors=8, model__weights=distance, pca__n_components=2;, score=0.938 total time=   0.3s\n",
            "[CV 2/3] END model__algorithm=auto, model__n_neighbors=8, model__weights=distance, pca__n_components=2;, score=0.937 total time=   0.2s\n",
            "[CV 3/3] END model__algorithm=auto, model__n_neighbors=8, model__weights=distance, pca__n_components=2;, score=0.942 total time=   0.2s\n",
            "[CV 1/3] END model__algorithm=auto, model__n_neighbors=8, model__weights=distance, pca__n_components=3;, score=0.938 total time=   0.3s\n",
            "[CV 2/3] END model__algorithm=auto, model__n_neighbors=8, model__weights=distance, pca__n_components=3;, score=0.939 total time=   0.3s\n",
            "[CV 3/3] END model__algorithm=auto, model__n_neighbors=8, model__weights=distance, pca__n_components=3;, score=0.944 total time=   0.3s\n",
            "[CV 1/3] END model__algorithm=auto, model__n_neighbors=8, model__weights=distance, pca__n_components=4;, score=0.940 total time=   0.3s\n",
            "[CV 2/3] END model__algorithm=auto, model__n_neighbors=8, model__weights=distance, pca__n_components=4;, score=0.939 total time=   0.3s\n",
            "[CV 3/3] END model__algorithm=auto, model__n_neighbors=8, model__weights=distance, pca__n_components=4;, score=0.943 total time=   0.3s\n",
            "[CV 1/3] END model__algorithm=kd_tree, model__n_neighbors=2, model__weights=uniform, pca__n_components=2;, score=0.931 total time=   0.4s\n",
            "[CV 2/3] END model__algorithm=kd_tree, model__n_neighbors=2, model__weights=uniform, pca__n_components=2;, score=0.928 total time=   0.5s\n",
            "[CV 3/3] END model__algorithm=kd_tree, model__n_neighbors=2, model__weights=uniform, pca__n_components=2;, score=0.928 total time=   0.4s\n",
            "[CV 1/3] END model__algorithm=kd_tree, model__n_neighbors=2, model__weights=uniform, pca__n_components=3;, score=0.928 total time=   0.5s\n",
            "[CV 2/3] END model__algorithm=kd_tree, model__n_neighbors=2, model__weights=uniform, pca__n_components=3;, score=0.930 total time=   0.5s\n",
            "[CV 3/3] END model__algorithm=kd_tree, model__n_neighbors=2, model__weights=uniform, pca__n_components=3;, score=0.930 total time=   0.5s\n",
            "[CV 1/3] END model__algorithm=kd_tree, model__n_neighbors=2, model__weights=uniform, pca__n_components=4;, score=0.930 total time=   0.6s\n",
            "[CV 2/3] END model__algorithm=kd_tree, model__n_neighbors=2, model__weights=uniform, pca__n_components=4;, score=0.929 total time=   0.8s\n",
            "[CV 3/3] END model__algorithm=kd_tree, model__n_neighbors=2, model__weights=uniform, pca__n_components=4;, score=0.931 total time=   0.8s\n",
            "[CV 1/3] END model__algorithm=kd_tree, model__n_neighbors=2, model__weights=distance, pca__n_components=2;, score=0.932 total time=   0.3s\n",
            "[CV 2/3] END model__algorithm=kd_tree, model__n_neighbors=2, model__weights=distance, pca__n_components=2;, score=0.928 total time=   0.3s\n",
            "[CV 3/3] END model__algorithm=kd_tree, model__n_neighbors=2, model__weights=distance, pca__n_components=2;, score=0.935 total time=   0.3s\n",
            "[CV 1/3] END model__algorithm=kd_tree, model__n_neighbors=2, model__weights=distance, pca__n_components=3;, score=0.931 total time=   0.3s\n",
            "[CV 2/3] END model__algorithm=kd_tree, model__n_neighbors=2, model__weights=distance, pca__n_components=3;, score=0.932 total time=   0.2s\n",
            "[CV 3/3] END model__algorithm=kd_tree, model__n_neighbors=2, model__weights=distance, pca__n_components=3;, score=0.936 total time=   0.2s\n",
            "[CV 1/3] END model__algorithm=kd_tree, model__n_neighbors=2, model__weights=distance, pca__n_components=4;, score=0.932 total time=   0.2s\n",
            "[CV 2/3] END model__algorithm=kd_tree, model__n_neighbors=2, model__weights=distance, pca__n_components=4;, score=0.929 total time=   0.2s\n",
            "[CV 3/3] END model__algorithm=kd_tree, model__n_neighbors=2, model__weights=distance, pca__n_components=4;, score=0.935 total time=   0.2s\n",
            "[CV 1/3] END model__algorithm=kd_tree, model__n_neighbors=4, model__weights=uniform, pca__n_components=2;, score=0.931 total time=   0.5s\n",
            "[CV 2/3] END model__algorithm=kd_tree, model__n_neighbors=4, model__weights=uniform, pca__n_components=2;, score=0.933 total time=   0.6s\n",
            "[CV 3/3] END model__algorithm=kd_tree, model__n_neighbors=4, model__weights=uniform, pca__n_components=2;, score=0.934 total time=   0.5s\n",
            "[CV 1/3] END model__algorithm=kd_tree, model__n_neighbors=4, model__weights=uniform, pca__n_components=3;, score=0.930 total time=   0.9s\n",
            "[CV 2/3] END model__algorithm=kd_tree, model__n_neighbors=4, model__weights=uniform, pca__n_components=3;, score=0.934 total time=   0.8s\n",
            "[CV 3/3] END model__algorithm=kd_tree, model__n_neighbors=4, model__weights=uniform, pca__n_components=3;, score=0.934 total time=   0.5s\n",
            "[CV 1/3] END model__algorithm=kd_tree, model__n_neighbors=4, model__weights=uniform, pca__n_components=4;, score=0.935 total time=   0.6s\n",
            "[CV 2/3] END model__algorithm=kd_tree, model__n_neighbors=4, model__weights=uniform, pca__n_components=4;, score=0.933 total time=   0.7s\n",
            "[CV 3/3] END model__algorithm=kd_tree, model__n_neighbors=4, model__weights=uniform, pca__n_components=4;, score=0.936 total time=   0.6s\n",
            "[CV 1/3] END model__algorithm=kd_tree, model__n_neighbors=4, model__weights=distance, pca__n_components=2;, score=0.935 total time=   0.2s\n",
            "[CV 2/3] END model__algorithm=kd_tree, model__n_neighbors=4, model__weights=distance, pca__n_components=2;, score=0.935 total time=   0.2s\n",
            "[CV 3/3] END model__algorithm=kd_tree, model__n_neighbors=4, model__weights=distance, pca__n_components=2;, score=0.940 total time=   0.2s\n",
            "[CV 1/3] END model__algorithm=kd_tree, model__n_neighbors=4, model__weights=distance, pca__n_components=3;, score=0.937 total time=   0.2s\n",
            "[CV 2/3] END model__algorithm=kd_tree, model__n_neighbors=4, model__weights=distance, pca__n_components=3;, score=0.938 total time=   0.2s\n",
            "[CV 3/3] END model__algorithm=kd_tree, model__n_neighbors=4, model__weights=distance, pca__n_components=3;, score=0.942 total time=   0.2s\n",
            "[CV 1/3] END model__algorithm=kd_tree, model__n_neighbors=4, model__weights=distance, pca__n_components=4;, score=0.937 total time=   0.3s\n",
            "[CV 2/3] END model__algorithm=kd_tree, model__n_neighbors=4, model__weights=distance, pca__n_components=4;, score=0.935 total time=   0.3s\n",
            "[CV 3/3] END model__algorithm=kd_tree, model__n_neighbors=4, model__weights=distance, pca__n_components=4;, score=0.941 total time=   0.3s\n",
            "[CV 1/3] END model__algorithm=kd_tree, model__n_neighbors=6, model__weights=uniform, pca__n_components=2;, score=0.929 total time=   0.5s\n",
            "[CV 2/3] END model__algorithm=kd_tree, model__n_neighbors=6, model__weights=uniform, pca__n_components=2;, score=0.933 total time=   0.5s\n",
            "[CV 3/3] END model__algorithm=kd_tree, model__n_neighbors=6, model__weights=uniform, pca__n_components=2;, score=0.932 total time=   0.8s\n",
            "[CV 1/3] END model__algorithm=kd_tree, model__n_neighbors=6, model__weights=uniform, pca__n_components=3;, score=0.929 total time=   0.8s\n",
            "[CV 2/3] END model__algorithm=kd_tree, model__n_neighbors=6, model__weights=uniform, pca__n_components=3;, score=0.932 total time=   0.8s\n",
            "[CV 3/3] END model__algorithm=kd_tree, model__n_neighbors=6, model__weights=uniform, pca__n_components=3;, score=0.932 total time=   1.2s\n",
            "[CV 1/3] END model__algorithm=kd_tree, model__n_neighbors=6, model__weights=uniform, pca__n_components=4;, score=0.934 total time=   1.1s\n",
            "[CV 2/3] END model__algorithm=kd_tree, model__n_neighbors=6, model__weights=uniform, pca__n_components=4;, score=0.935 total time=   0.6s\n",
            "[CV 3/3] END model__algorithm=kd_tree, model__n_neighbors=6, model__weights=uniform, pca__n_components=4;, score=0.936 total time=   0.6s\n",
            "[CV 1/3] END model__algorithm=kd_tree, model__n_neighbors=6, model__weights=distance, pca__n_components=2;, score=0.937 total time=   0.2s\n",
            "[CV 2/3] END model__algorithm=kd_tree, model__n_neighbors=6, model__weights=distance, pca__n_components=2;, score=0.937 total time=   0.2s\n",
            "[CV 3/3] END model__algorithm=kd_tree, model__n_neighbors=6, model__weights=distance, pca__n_components=2;, score=0.941 total time=   0.2s\n",
            "[CV 1/3] END model__algorithm=kd_tree, model__n_neighbors=6, model__weights=distance, pca__n_components=3;, score=0.936 total time=   0.2s\n",
            "[CV 2/3] END model__algorithm=kd_tree, model__n_neighbors=6, model__weights=distance, pca__n_components=3;, score=0.938 total time=   0.2s\n",
            "[CV 3/3] END model__algorithm=kd_tree, model__n_neighbors=6, model__weights=distance, pca__n_components=3;, score=0.943 total time=   0.3s\n",
            "[CV 1/3] END model__algorithm=kd_tree, model__n_neighbors=6, model__weights=distance, pca__n_components=4;, score=0.939 total time=   0.3s\n",
            "[CV 2/3] END model__algorithm=kd_tree, model__n_neighbors=6, model__weights=distance, pca__n_components=4;, score=0.939 total time=   0.3s\n",
            "[CV 3/3] END model__algorithm=kd_tree, model__n_neighbors=6, model__weights=distance, pca__n_components=4;, score=0.943 total time=   0.2s\n",
            "[CV 1/3] END model__algorithm=kd_tree, model__n_neighbors=8, model__weights=uniform, pca__n_components=2;, score=0.930 total time=   0.5s\n",
            "[CV 2/3] END model__algorithm=kd_tree, model__n_neighbors=8, model__weights=uniform, pca__n_components=2;, score=0.931 total time=   0.5s\n",
            "[CV 3/3] END model__algorithm=kd_tree, model__n_neighbors=8, model__weights=uniform, pca__n_components=2;, score=0.929 total time=   0.5s\n",
            "[CV 1/3] END model__algorithm=kd_tree, model__n_neighbors=8, model__weights=uniform, pca__n_components=3;, score=0.926 total time=   0.6s\n",
            "[CV 2/3] END model__algorithm=kd_tree, model__n_neighbors=8, model__weights=uniform, pca__n_components=3;, score=0.930 total time=   0.6s\n",
            "[CV 3/3] END model__algorithm=kd_tree, model__n_neighbors=8, model__weights=uniform, pca__n_components=3;, score=0.929 total time=   0.5s\n",
            "[CV 1/3] END model__algorithm=kd_tree, model__n_neighbors=8, model__weights=uniform, pca__n_components=4;, score=0.932 total time=   0.5s\n",
            "[CV 2/3] END model__algorithm=kd_tree, model__n_neighbors=8, model__weights=uniform, pca__n_components=4;, score=0.934 total time=   0.6s\n",
            "[CV 3/3] END model__algorithm=kd_tree, model__n_neighbors=8, model__weights=uniform, pca__n_components=4;, score=0.932 total time=   0.6s\n",
            "[CV 1/3] END model__algorithm=kd_tree, model__n_neighbors=8, model__weights=distance, pca__n_components=2;, score=0.938 total time=   0.3s\n",
            "[CV 2/3] END model__algorithm=kd_tree, model__n_neighbors=8, model__weights=distance, pca__n_components=2;, score=0.937 total time=   0.3s\n",
            "[CV 3/3] END model__algorithm=kd_tree, model__n_neighbors=8, model__weights=distance, pca__n_components=2;, score=0.942 total time=   0.3s\n",
            "[CV 1/3] END model__algorithm=kd_tree, model__n_neighbors=8, model__weights=distance, pca__n_components=3;, score=0.938 total time=   0.4s\n",
            "[CV 2/3] END model__algorithm=kd_tree, model__n_neighbors=8, model__weights=distance, pca__n_components=3;, score=0.939 total time=   0.4s\n",
            "[CV 3/3] END model__algorithm=kd_tree, model__n_neighbors=8, model__weights=distance, pca__n_components=3;, score=0.944 total time=   0.4s\n",
            "[CV 1/3] END model__algorithm=kd_tree, model__n_neighbors=8, model__weights=distance, pca__n_components=4;, score=0.940 total time=   0.4s\n",
            "[CV 2/3] END model__algorithm=kd_tree, model__n_neighbors=8, model__weights=distance, pca__n_components=4;, score=0.939 total time=   0.4s\n",
            "[CV 3/3] END model__algorithm=kd_tree, model__n_neighbors=8, model__weights=distance, pca__n_components=4;, score=0.943 total time=   0.3s\n"
          ]
        },
        {
          "output_type": "execute_result",
          "data": {
            "text/plain": [
              "GridSearchCV(cv=3,\n",
              "             estimator=Pipeline(steps=[('pca', PCA()),\n",
              "                                       ('model', KNeighborsClassifier())]),\n",
              "             param_grid={'model__algorithm': ['auto', 'kd_tree'],\n",
              "                         'model__n_neighbors': [2, 4, 6, 8],\n",
              "                         'model__weights': ['uniform', 'distance'],\n",
              "                         'pca__n_components': [2, 3, 4]},\n",
              "             scoring='accuracy', verbose=4)"
            ],
            "text/html": [
              "<style>#sk-container-id-3 {color: black;background-color: white;}#sk-container-id-3 pre{padding: 0;}#sk-container-id-3 div.sk-toggleable {background-color: white;}#sk-container-id-3 label.sk-toggleable__label {cursor: pointer;display: block;width: 100%;margin-bottom: 0;padding: 0.3em;box-sizing: border-box;text-align: center;}#sk-container-id-3 label.sk-toggleable__label-arrow:before {content: \"▸\";float: left;margin-right: 0.25em;color: #696969;}#sk-container-id-3 label.sk-toggleable__label-arrow:hover:before {color: black;}#sk-container-id-3 div.sk-estimator:hover label.sk-toggleable__label-arrow:before {color: black;}#sk-container-id-3 div.sk-toggleable__content {max-height: 0;max-width: 0;overflow: hidden;text-align: left;background-color: #f0f8ff;}#sk-container-id-3 div.sk-toggleable__content pre {margin: 0.2em;color: black;border-radius: 0.25em;background-color: #f0f8ff;}#sk-container-id-3 input.sk-toggleable__control:checked~div.sk-toggleable__content {max-height: 200px;max-width: 100%;overflow: auto;}#sk-container-id-3 input.sk-toggleable__control:checked~label.sk-toggleable__label-arrow:before {content: \"▾\";}#sk-container-id-3 div.sk-estimator input.sk-toggleable__control:checked~label.sk-toggleable__label {background-color: #d4ebff;}#sk-container-id-3 div.sk-label input.sk-toggleable__control:checked~label.sk-toggleable__label {background-color: #d4ebff;}#sk-container-id-3 input.sk-hidden--visually {border: 0;clip: rect(1px 1px 1px 1px);clip: rect(1px, 1px, 1px, 1px);height: 1px;margin: -1px;overflow: hidden;padding: 0;position: absolute;width: 1px;}#sk-container-id-3 div.sk-estimator {font-family: monospace;background-color: #f0f8ff;border: 1px dotted black;border-radius: 0.25em;box-sizing: border-box;margin-bottom: 0.5em;}#sk-container-id-3 div.sk-estimator:hover {background-color: #d4ebff;}#sk-container-id-3 div.sk-parallel-item::after {content: \"\";width: 100%;border-bottom: 1px solid gray;flex-grow: 1;}#sk-container-id-3 div.sk-label:hover label.sk-toggleable__label {background-color: #d4ebff;}#sk-container-id-3 div.sk-serial::before {content: \"\";position: absolute;border-left: 1px solid gray;box-sizing: border-box;top: 0;bottom: 0;left: 50%;z-index: 0;}#sk-container-id-3 div.sk-serial {display: flex;flex-direction: column;align-items: center;background-color: white;padding-right: 0.2em;padding-left: 0.2em;position: relative;}#sk-container-id-3 div.sk-item {position: relative;z-index: 1;}#sk-container-id-3 div.sk-parallel {display: flex;align-items: stretch;justify-content: center;background-color: white;position: relative;}#sk-container-id-3 div.sk-item::before, #sk-container-id-3 div.sk-parallel-item::before {content: \"\";position: absolute;border-left: 1px solid gray;box-sizing: border-box;top: 0;bottom: 0;left: 50%;z-index: -1;}#sk-container-id-3 div.sk-parallel-item {display: flex;flex-direction: column;z-index: 1;position: relative;background-color: white;}#sk-container-id-3 div.sk-parallel-item:first-child::after {align-self: flex-end;width: 50%;}#sk-container-id-3 div.sk-parallel-item:last-child::after {align-self: flex-start;width: 50%;}#sk-container-id-3 div.sk-parallel-item:only-child::after {width: 0;}#sk-container-id-3 div.sk-dashed-wrapped {border: 1px dashed gray;margin: 0 0.4em 0.5em 0.4em;box-sizing: border-box;padding-bottom: 0.4em;background-color: white;}#sk-container-id-3 div.sk-label label {font-family: monospace;font-weight: bold;display: inline-block;line-height: 1.2em;}#sk-container-id-3 div.sk-label-container {text-align: center;}#sk-container-id-3 div.sk-container {/* jupyter's `normalize.less` sets `[hidden] { display: none; }` but bootstrap.min.css set `[hidden] { display: none !important; }` so we also need the `!important` here to be able to override the default hidden behavior on the sphinx rendered scikit-learn.org. See: https://github.com/scikit-learn/scikit-learn/issues/21755 */display: inline-block !important;position: relative;}#sk-container-id-3 div.sk-text-repr-fallback {display: none;}</style><div id=\"sk-container-id-3\" class=\"sk-top-container\"><div class=\"sk-text-repr-fallback\"><pre>GridSearchCV(cv=3,\n",
              "             estimator=Pipeline(steps=[(&#x27;pca&#x27;, PCA()),\n",
              "                                       (&#x27;model&#x27;, KNeighborsClassifier())]),\n",
              "             param_grid={&#x27;model__algorithm&#x27;: [&#x27;auto&#x27;, &#x27;kd_tree&#x27;],\n",
              "                         &#x27;model__n_neighbors&#x27;: [2, 4, 6, 8],\n",
              "                         &#x27;model__weights&#x27;: [&#x27;uniform&#x27;, &#x27;distance&#x27;],\n",
              "                         &#x27;pca__n_components&#x27;: [2, 3, 4]},\n",
              "             scoring=&#x27;accuracy&#x27;, verbose=4)</pre><b>In a Jupyter environment, please rerun this cell to show the HTML representation or trust the notebook. <br />On GitHub, the HTML representation is unable to render, please try loading this page with nbviewer.org.</b></div><div class=\"sk-container\" hidden><div class=\"sk-item sk-dashed-wrapped\"><div class=\"sk-label-container\"><div class=\"sk-label sk-toggleable\"><input class=\"sk-toggleable__control sk-hidden--visually\" id=\"sk-estimator-id-6\" type=\"checkbox\" ><label for=\"sk-estimator-id-6\" class=\"sk-toggleable__label sk-toggleable__label-arrow\">GridSearchCV</label><div class=\"sk-toggleable__content\"><pre>GridSearchCV(cv=3,\n",
              "             estimator=Pipeline(steps=[(&#x27;pca&#x27;, PCA()),\n",
              "                                       (&#x27;model&#x27;, KNeighborsClassifier())]),\n",
              "             param_grid={&#x27;model__algorithm&#x27;: [&#x27;auto&#x27;, &#x27;kd_tree&#x27;],\n",
              "                         &#x27;model__n_neighbors&#x27;: [2, 4, 6, 8],\n",
              "                         &#x27;model__weights&#x27;: [&#x27;uniform&#x27;, &#x27;distance&#x27;],\n",
              "                         &#x27;pca__n_components&#x27;: [2, 3, 4]},\n",
              "             scoring=&#x27;accuracy&#x27;, verbose=4)</pre></div></div></div><div class=\"sk-parallel\"><div class=\"sk-parallel-item\"><div class=\"sk-item\"><div class=\"sk-label-container\"><div class=\"sk-label sk-toggleable\"><input class=\"sk-toggleable__control sk-hidden--visually\" id=\"sk-estimator-id-7\" type=\"checkbox\" ><label for=\"sk-estimator-id-7\" class=\"sk-toggleable__label sk-toggleable__label-arrow\">estimator: Pipeline</label><div class=\"sk-toggleable__content\"><pre>Pipeline(steps=[(&#x27;pca&#x27;, PCA()), (&#x27;model&#x27;, KNeighborsClassifier())])</pre></div></div></div><div class=\"sk-serial\"><div class=\"sk-item\"><div class=\"sk-serial\"><div class=\"sk-item\"><div class=\"sk-estimator sk-toggleable\"><input class=\"sk-toggleable__control sk-hidden--visually\" id=\"sk-estimator-id-8\" type=\"checkbox\" ><label for=\"sk-estimator-id-8\" class=\"sk-toggleable__label sk-toggleable__label-arrow\">PCA</label><div class=\"sk-toggleable__content\"><pre>PCA()</pre></div></div></div><div class=\"sk-item\"><div class=\"sk-estimator sk-toggleable\"><input class=\"sk-toggleable__control sk-hidden--visually\" id=\"sk-estimator-id-9\" type=\"checkbox\" ><label for=\"sk-estimator-id-9\" class=\"sk-toggleable__label sk-toggleable__label-arrow\">KNeighborsClassifier</label><div class=\"sk-toggleable__content\"><pre>KNeighborsClassifier()</pre></div></div></div></div></div></div></div></div></div></div></div></div>"
            ]
          },
          "metadata": {},
          "execution_count": 24
        }
      ]
    },
    {
      "cell_type": "code",
      "source": [
        "grid.best_params_"
      ],
      "metadata": {
        "colab": {
          "base_uri": "https://localhost:8080/"
        },
        "id": "JsDbb0eMP-qM",
        "outputId": "d6bee667-ada4-4dad-b4f2-53bec5dbb45f"
      },
      "execution_count": 25,
      "outputs": [
        {
          "output_type": "execute_result",
          "data": {
            "text/plain": [
              "{'model__algorithm': 'auto',\n",
              " 'model__n_neighbors': 8,\n",
              " 'model__weights': 'distance',\n",
              " 'pca__n_components': 4}"
            ]
          },
          "metadata": {},
          "execution_count": 25
        }
      ]
    },
    {
      "cell_type": "code",
      "source": [
        "knn_pca_cv = grid.best_estimator_"
      ],
      "metadata": {
        "id": "bQE9Uv6vXHsc"
      },
      "execution_count": 26,
      "outputs": []
    },
    {
      "cell_type": "code",
      "source": [
        "model_report(knn_pca_cv, X_test, y_test)"
      ],
      "metadata": {
        "colab": {
          "base_uri": "https://localhost:8080/",
          "height": 853
        },
        "id": "fqGy18IiP43J",
        "outputId": "a6661bd8-b5c1-4130-f50f-9d96348b75c8"
      },
      "execution_count": 27,
      "outputs": [
        {
          "output_type": "stream",
          "name": "stdout",
          "text": [
            "Izvestaj o KNeighborsClassifier modelu:\n",
            "-------------------------------------------------------------------\n",
            "Klase za predvidjanje: ['[0, 5000]', '(5000, 10000]', '(10000, 15000]', '15000+']\n",
            "Accuracy: 0.9455379323523792\n",
            "-------------------------------------------------------------------\n",
            "Klasifikacioni izvestaj: \n",
            "                precision    recall  f1-score   support\n",
            "\n",
            "(10000, 15000]       0.80      0.79      0.80      1012\n",
            " (5000, 10000]       0.87      0.89      0.88      2785\n",
            "        15000+       0.76      0.77      0.77       405\n",
            "     [0, 5000]       0.98      0.98      0.98     11497\n",
            "\n",
            "      accuracy                           0.95     15699\n",
            "     macro avg       0.85      0.86      0.86     15699\n",
            "  weighted avg       0.95      0.95      0.95     15699\n",
            "\n",
            "-------------------------------------------------------------------\n",
            "Matrica konfuzije: \n"
          ]
        },
        {
          "output_type": "display_data",
          "data": {
            "text/plain": [
              "<Figure size 640x480 with 2 Axes>"
            ],
            "image/png": "[encoded data removed]"
          },
          "metadata": {}
        }
      ]
    },
    {
      "cell_type": "markdown",
      "source": [
        "***"
      ],
      "metadata": {
        "id": "VYlmCTrnkCOS"
      }
    },
    {
      "cell_type": "markdown",
      "source": [
        "## Results:"
      ],
      "metadata": {
        "id": "0A9EZAC7kGFx"
      }
    },
    {
      "cell_type": "code",
      "source": [
        "model_names = ['knn', 'knn_cv', 'knn_pca_cv']"
      ],
      "metadata": {
        "id": "FSw2xcJsmKkV"
      },
      "execution_count": 28,
      "outputs": []
    },
    {
      "cell_type": "code",
      "source": [
        "plt.figure(figsize=(10,10))\n",
        "plt.bar(model_names, accuracy_scores)\n",
        "plt.grid(alpha=0.5)\n",
        "plt.ylim(0.9, 1.0)\n",
        "for i, s in enumerate(accuracy_scores):\n",
        "    plt.text(model_names[i], s, f'{s:.5f}%', ha='center', va='bottom')\n",
        "plt.xlabel('model')\n",
        "plt.ylabel('accuracy(%)')\n",
        "plt.show()"
      ],
      "metadata": {
        "colab": {
          "base_uri": "https://localhost:8080/",
          "height": 855
        },
        "id": "iisaRpKqkRUS",
        "outputId": "731c17f0-82fe-493b-a9e2-189be1ee349f"
      },
      "execution_count": 29,
      "outputs": [
        {
          "output_type": "display_data",
          "data": {
            "text/plain": [
              "<Figure size 1000x1000 with 1 Axes>"
            ],
            "image/png": "[encoded data removed]"
          },
          "metadata": {}
        }
      ]
    },
    {
      "cell_type": "markdown",
      "source": [
        "S obzirom na rezultate, izabracemo **knn_pca_cv** kao predstavnika **KNearestNeighbours**"
      ],
      "metadata": {
        "id": "dm6bipYyf1Np"
      }
    },
    {
      "cell_type": "code",
      "source": [
        "joblib.dump(knn_pca_cv, 'KNN.pkl')"
      ],
      "metadata": {
        "colab": {
          "base_uri": "https://localhost:8080/"
        },
        "id": "CuD2w5s4gF49",
        "outputId": "419583bd-b03c-4689-c7ea-085d7044ca1a"
      },
      "execution_count": 30,
      "outputs": [
        {
          "output_type": "execute_result",
          "data": {
            "text/plain": [
              "['KNN.pkl']"
            ]
          },
          "metadata": {},
          "execution_count": 30
        }
      ]
    }
  ]
}